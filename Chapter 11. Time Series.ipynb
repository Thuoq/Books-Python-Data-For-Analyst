{
 "cells": [
  {
   "cell_type": "code",
   "execution_count": 3,
   "id": "c5d955d4",
   "metadata": {},
   "outputs": [],
   "source": [
    "import numpy as np\n",
    "import pandas as pd\n",
    "import matplotlib.pyplot as plt"
   ]
  },
  {
   "cell_type": "markdown",
   "id": "56d85447",
   "metadata": {},
   "source": [
    "“Dữ liệu chuỗi thời gian là một dạng dữ liệu có cấu trúc quan trọng trong nhiều lĩnh vực khác nhau, chẳng hạn như tài chính, kinh tế, sinh thái học, khoa học thần kinh và vật lý. Bất cứ thứ gì được quan sát hoặc đo lường ở nhiều thời điểm sẽ tạo thành một chuỗi thời gian. Nhiều chuỗi thời gian có tần suất cố định, có nghĩa là các điểm dữ liệu xảy ra đều đặn theo một số quy tắc, chẳng hạn như cứ sau 15 giây, 5 phút một lần hoặc một lần mỗi tháng. Chuỗi thời gian cũng có thể không đều mà không có một đơn vị thời gian cố định hoặc sự chênh lệch giữa các đơn vị. Cách bạn đánh dấu và tham chiếu đến dữ liệu chuỗi thời gian tùy thuộc vào ứng dụng và bạn có thể có một trong những điều sau: ”\n"
   ]
  },
  {
   "cell_type": "markdown",
   "id": "bda8f929",
   "metadata": {},
   "source": [
    "### 11.1 Date and Time Data Types and Tools"
   ]
  },
  {
   "cell_type": "code",
   "execution_count": 4,
   "id": "6acaa7db",
   "metadata": {},
   "outputs": [],
   "source": [
    "from datetime import datetime"
   ]
  },
  {
   "cell_type": "code",
   "execution_count": 5,
   "id": "693a9dbd",
   "metadata": {},
   "outputs": [],
   "source": [
    "now = datetime.now()"
   ]
  },
  {
   "cell_type": "code",
   "execution_count": 6,
   "id": "03b470ad",
   "metadata": {},
   "outputs": [
    {
     "data": {
      "text/plain": [
       "datetime.datetime(2021, 6, 1, 16, 51, 51, 143079)"
      ]
     },
     "execution_count": 6,
     "metadata": {},
     "output_type": "execute_result"
    }
   ],
   "source": [
    "now"
   ]
  },
  {
   "cell_type": "code",
   "execution_count": 7,
   "id": "744725f3",
   "metadata": {},
   "outputs": [
    {
     "data": {
      "text/plain": [
       "(2021, 6, 1)"
      ]
     },
     "execution_count": 7,
     "metadata": {},
     "output_type": "execute_result"
    }
   ],
   "source": [
    "now.year, now.month, now.day"
   ]
  },
  {
   "cell_type": "markdown",
   "id": "4d9e6eaf",
   "metadata": {},
   "source": [
    "Datetime lưu trữ cả ngày và giờ tính đến từng micro giây. `timedelta()` đại diện cho sự khác biệt về thời gian giữa hai đối tượng datetime:"
   ]
  },
  {
   "cell_type": "code",
   "execution_count": 8,
   "id": "ad6694a2",
   "metadata": {},
   "outputs": [],
   "source": [
    "delta = datetime(2021,5,17,17) - datetime(2021,5,15,15,30) "
   ]
  },
  {
   "cell_type": "code",
   "execution_count": 9,
   "id": "7abfe835",
   "metadata": {},
   "outputs": [
    {
     "data": {
      "text/plain": [
       "datetime.timedelta(days=2, seconds=5400)"
      ]
     },
     "execution_count": 9,
     "metadata": {},
     "output_type": "execute_result"
    }
   ],
   "source": [
    "delta"
   ]
  },
  {
   "cell_type": "code",
   "execution_count": 10,
   "id": "251b2e5f",
   "metadata": {},
   "outputs": [
    {
     "data": {
      "text/plain": [
       "2"
      ]
     },
     "execution_count": 10,
     "metadata": {},
     "output_type": "execute_result"
    }
   ],
   "source": [
    "delta.days"
   ]
  },
  {
   "cell_type": "code",
   "execution_count": 11,
   "id": "d928c5a2",
   "metadata": {},
   "outputs": [
    {
     "data": {
      "text/plain": [
       "5400"
      ]
     },
     "execution_count": 11,
     "metadata": {},
     "output_type": "execute_result"
    }
   ],
   "source": [
    "delta.seconds"
   ]
  },
  {
   "cell_type": "markdown",
   "id": "f7004c06",
   "metadata": {},
   "source": [
    "Bạnk có thể cộng hoặc trừ 1 `timedelta()` hoặc `multiple()` để dịch chuyển sang một time mới"
   ]
  },
  {
   "cell_type": "code",
   "execution_count": 12,
   "id": "0c16f863",
   "metadata": {},
   "outputs": [],
   "source": [
    "from datetime import timedelta\n",
    "start = datetime(2021,5,16,8,30)"
   ]
  },
  {
   "cell_type": "code",
   "execution_count": 13,
   "id": "6c4fec1a",
   "metadata": {},
   "outputs": [
    {
     "data": {
      "text/plain": [
       "datetime.datetime(2021, 5, 17, 16, 30)"
      ]
     },
     "execution_count": 13,
     "metadata": {},
     "output_type": "execute_result"
    }
   ],
   "source": [
    "start + timedelta(1,8*60*60)"
   ]
  },
  {
   "cell_type": "markdown",
   "id": "d3ebc700",
   "metadata": {},
   "source": [
    "#### Convert Between String and Datetime"
   ]
  },
  {
   "cell_type": "markdown",
   "id": "9088cf4f",
   "metadata": {},
   "source": [
    "Bạn có thể chuyển `datetime()` Object và pandas TimeStamp Object, tôi sẽ giới thiệu sau nhưng giờ tôi muốn giới thiệu về `string` trước, bằng các sử dụng `strftime()`"
   ]
  },
  {
   "cell_type": "code",
   "execution_count": 14,
   "id": "427319bf",
   "metadata": {},
   "outputs": [],
   "source": [
    "stamp = datetime(2011,1,15,23,20)"
   ]
  },
  {
   "cell_type": "code",
   "execution_count": 15,
   "id": "ba232229",
   "metadata": {},
   "outputs": [
    {
     "data": {
      "text/plain": [
       "'2011-01-15 23:20:00'"
      ]
     },
     "execution_count": 15,
     "metadata": {},
     "output_type": "execute_result"
    }
   ],
   "source": [
    "str(stamp)"
   ]
  },
  {
   "cell_type": "code",
   "execution_count": 16,
   "id": "45f8910a",
   "metadata": {},
   "outputs": [
    {
     "data": {
      "text/plain": [
       "'2011-01-15-23-11-20-02'"
      ]
     },
     "execution_count": 16,
     "metadata": {},
     "output_type": "execute_result"
    }
   ],
   "source": [
    "stamp.strftime('%Y-%m-%d-%H-%I-%M-%W')"
   ]
  },
  {
   "cell_type": "markdown",
   "id": "c6094936",
   "metadata": {},
   "source": [
    "**Note**: `%F` shortcut for %Y-%m-%d\n"
   ]
  },
  {
   "cell_type": "markdown",
   "id": "9368f2bc",
   "metadata": {},
   "source": [
    "Bạn có thể sử dụng những same format code chuyển từ string to date như `datetime.strptime`"
   ]
  },
  {
   "cell_type": "code",
   "execution_count": 17,
   "id": "8b36b796",
   "metadata": {},
   "outputs": [],
   "source": [
    "value = '2011-01-03'"
   ]
  },
  {
   "cell_type": "code",
   "execution_count": 18,
   "id": "7fddd3c9",
   "metadata": {},
   "outputs": [
    {
     "data": {
      "text/plain": [
       "datetime.datetime(2011, 1, 3, 0, 0)"
      ]
     },
     "execution_count": 18,
     "metadata": {},
     "output_type": "execute_result"
    }
   ],
   "source": [
    "datetime.strptime(value,'%Y-%m-%d')"
   ]
  },
  {
   "cell_type": "code",
   "execution_count": 19,
   "id": "3ce3a333",
   "metadata": {},
   "outputs": [
    {
     "data": {
      "text/plain": [
       "datetime.datetime(2011, 1, 3, 0, 0)"
      ]
     },
     "execution_count": 19,
     "metadata": {},
     "output_type": "execute_result"
    }
   ],
   "source": [
    "datetime(2011,1,3,0,0)"
   ]
  },
  {
   "cell_type": "code",
   "execution_count": 20,
   "id": "33425f69",
   "metadata": {},
   "outputs": [],
   "source": [
    "datestrs = ['27/08/2001','20/10/1999']"
   ]
  },
  {
   "cell_type": "code",
   "execution_count": 21,
   "id": "854ddcfc",
   "metadata": {},
   "outputs": [
    {
     "data": {
      "text/plain": [
       "[datetime.datetime(2001, 8, 27, 0, 0), datetime.datetime(1999, 10, 20, 0, 0)]"
      ]
     },
     "execution_count": 21,
     "metadata": {},
     "output_type": "execute_result"
    }
   ],
   "source": [
    "[datetime.strptime(x,'%d/%m/%Y') for x in datestrs]"
   ]
  },
  {
   "cell_type": "markdown",
   "id": "2065bb89",
   "metadata": {},
   "source": [
    "`datetime.strptime()` là 1 cách tốt để chuyển với cái format định sẵn. Tuy nhiên, nó có vẻ a chút khó chị khi có viết một format spec each time, đặc biệt nấht chug date formats. Trong trường hợp này bạn có thể sử dụng `parser.parse()` trong **third-party** deteutil package"
   ]
  },
  {
   "cell_type": "code",
   "execution_count": 22,
   "id": "595d4ca1",
   "metadata": {},
   "outputs": [
    {
     "data": {
      "text/plain": [
       "datetime.datetime(2001, 8, 27, 0, 0)"
      ]
     },
     "execution_count": 22,
     "metadata": {},
     "output_type": "execute_result"
    }
   ],
   "source": [
    "from dateutil.parser import parse\n",
    "parse('2001-08-27')"
   ]
  },
  {
   "cell_type": "markdown",
   "id": "1b50957c",
   "metadata": {},
   "source": [
    "Dateutil có khả năng phân tích cú pháp hầu hết các đại diện ngày tháng mà con người có thể hiểu được:\"\n"
   ]
  },
  {
   "cell_type": "code",
   "execution_count": 23,
   "id": "029e9e53",
   "metadata": {},
   "outputs": [
    {
     "data": {
      "text/plain": [
       "datetime.datetime(1997, 1, 31, 22, 45)"
      ]
     },
     "execution_count": 23,
     "metadata": {},
     "output_type": "execute_result"
    }
   ],
   "source": [
    "parse('Jan 31, 1997 10:45 PM')"
   ]
  },
  {
   "cell_type": "markdown",
   "id": "c55b83f4",
   "metadata": {},
   "source": [
    "Có thể thêm date first để biết rằng first có thể là ngày"
   ]
  },
  {
   "cell_type": "code",
   "execution_count": 24,
   "id": "4a614a50",
   "metadata": {},
   "outputs": [
    {
     "data": {
      "text/plain": [
       "datetime.datetime(2001, 12, 6, 0, 0)"
      ]
     },
     "execution_count": 24,
     "metadata": {},
     "output_type": "execute_result"
    }
   ],
   "source": [
    "parse('6/12/2001',dayfirst=True)"
   ]
  },
  {
   "cell_type": "markdown",
   "id": "775a9de8",
   "metadata": {},
   "source": [
    "**Pandas** thường làm việc với array của dates, liệu sử dụng như một chiều index hoặc một cột trong 1 DataFrame. `to_datetime` method `parses` rất nhiều loại date định dang. Những dạng format như ISO 8601 có thể xử lý rất nhanh "
   ]
  },
  {
   "cell_type": "code",
   "execution_count": 25,
   "id": "f023b495",
   "metadata": {},
   "outputs": [],
   "source": [
    "datestrs = ['2011-07-06 12:00:00','2012-8-27 00:00:00']"
   ]
  },
  {
   "cell_type": "code",
   "execution_count": 26,
   "id": "7d4be468",
   "metadata": {},
   "outputs": [
    {
     "data": {
      "text/plain": [
       "DatetimeIndex(['2011-07-06 12:00:00', '2012-08-27 00:00:00'], dtype='datetime64[ns]', freq=None)"
      ]
     },
     "execution_count": 26,
     "metadata": {},
     "output_type": "execute_result"
    }
   ],
   "source": [
    "pd.to_datetime(datestrs)"
   ]
  },
  {
   "cell_type": "markdown",
   "id": "769e34e9",
   "metadata": {},
   "source": [
    "Nó cũng xử lý những giá trị được coi là mising "
   ]
  },
  {
   "cell_type": "code",
   "execution_count": 27,
   "id": "db9c6b6f",
   "metadata": {},
   "outputs": [],
   "source": [
    "idx = pd.to_datetime(datestrs+ [None])"
   ]
  },
  {
   "cell_type": "code",
   "execution_count": 28,
   "id": "11f715a4",
   "metadata": {},
   "outputs": [
    {
     "data": {
      "text/plain": [
       "DatetimeIndex(['2011-07-06 12:00:00', '2012-08-27 00:00:00', 'NaT'], dtype='datetime64[ns]', freq=None)"
      ]
     },
     "execution_count": 28,
     "metadata": {},
     "output_type": "execute_result"
    }
   ],
   "source": [
    "idx"
   ]
  },
  {
   "cell_type": "code",
   "execution_count": 29,
   "id": "486da46e",
   "metadata": {},
   "outputs": [
    {
     "data": {
      "text/plain": [
       "array([False, False,  True])"
      ]
     },
     "execution_count": 29,
     "metadata": {},
     "output_type": "execute_result"
    }
   ],
   "source": [
    "pd.isnull(idx)"
   ]
  },
  {
   "cell_type": "markdown",
   "id": "9be1d4ac",
   "metadata": {},
   "source": [
    "**Note**: *NaT* (Not A Time) được coi là null trong timestamp."
   ]
  },
  {
   "cell_type": "markdown",
   "id": "a009cf59",
   "metadata": {},
   "source": [
    "### 11.2 Time Series Basic\n",
    "Cơ bản của các loại timeseríe object trong pandas là 1 Series indexed by `timestamps`, nó thường đại diện bên ngoài pandas như python strings hoặc datetime object"
   ]
  },
  {
   "cell_type": "code",
   "execution_count": 30,
   "id": "164eab08",
   "metadata": {},
   "outputs": [],
   "source": [
    "from datetime import datetime\n",
    "dates = [datetime(2021,2,3),datetime(2021,2,10)\n",
    "        ,datetime(2021,2,11),datetime(2021,2,12)\n",
    "        ,datetime(2021,2,13),datetime(2021,2,14)]"
   ]
  },
  {
   "cell_type": "code",
   "execution_count": 31,
   "id": "a4c1c8b8",
   "metadata": {},
   "outputs": [],
   "source": [
    "ts = pd.Series(np.random.randn(6),dates)"
   ]
  },
  {
   "cell_type": "code",
   "execution_count": 32,
   "id": "dade0550",
   "metadata": {},
   "outputs": [
    {
     "data": {
      "text/plain": [
       "2021-02-03   -0.763171\n",
       "2021-02-10   -1.325962\n",
       "2021-02-11    0.475518\n",
       "2021-02-12    0.132850\n",
       "2021-02-13    0.516921\n",
       "2021-02-14   -2.033808\n",
       "dtype: float64"
      ]
     },
     "execution_count": 32,
     "metadata": {},
     "output_type": "execute_result"
    }
   ],
   "source": [
    "ts"
   ]
  },
  {
   "cell_type": "markdown",
   "id": "21083b88",
   "metadata": {},
   "source": [
    "Bên sâu, `datetime` object có put trong 1 DateTime Index"
   ]
  },
  {
   "cell_type": "code",
   "execution_count": 33,
   "id": "a739e25f",
   "metadata": {},
   "outputs": [
    {
     "data": {
      "text/plain": [
       "DatetimeIndex(['2021-02-03', '2021-02-10', '2021-02-11', '2021-02-12',\n",
       "               '2021-02-13', '2021-02-14'],\n",
       "              dtype='datetime64[ns]', freq=None)"
      ]
     },
     "execution_count": 33,
     "metadata": {},
     "output_type": "execute_result"
    }
   ],
   "source": [
    "ts.index"
   ]
  },
  {
   "cell_type": "markdown",
   "id": "e97d6741",
   "metadata": {},
   "source": [
    "Như các Series khác, những phép biến đổi thông thường giữa các indexed time sẻies automatically align on the dates"
   ]
  },
  {
   "cell_type": "code",
   "execution_count": 34,
   "id": "ab817150",
   "metadata": {},
   "outputs": [
    {
     "data": {
      "text/plain": [
       "2021-02-03   -1.526341\n",
       "2021-02-10         NaN\n",
       "2021-02-11    0.951035\n",
       "2021-02-12         NaN\n",
       "2021-02-13    1.033842\n",
       "2021-02-14         NaN\n",
       "dtype: float64"
      ]
     },
     "execution_count": 34,
     "metadata": {},
     "output_type": "execute_result"
    }
   ],
   "source": [
    "ts + ts[::2]"
   ]
  },
  {
   "cell_type": "code",
   "execution_count": 35,
   "id": "d8f91adf",
   "metadata": {},
   "outputs": [
    {
     "data": {
      "text/plain": [
       "2021-02-03   -0.763171\n",
       "2021-02-11    0.475518\n",
       "2021-02-13    0.516921\n",
       "dtype: float64"
      ]
     },
     "execution_count": 35,
     "metadata": {},
     "output_type": "execute_result"
    }
   ],
   "source": [
    "ts[::2]"
   ]
  },
  {
   "cell_type": "markdown",
   "id": "376a6ee6",
   "metadata": {},
   "source": [
    "`pandas stores` **timestamps** sử dụng NumPy's `datetime64` data type tại nano giây "
   ]
  },
  {
   "cell_type": "code",
   "execution_count": 36,
   "id": "536b2a6d",
   "metadata": {},
   "outputs": [
    {
     "data": {
      "text/plain": [
       "dtype('<M8[ns]')"
      ]
     },
     "execution_count": 36,
     "metadata": {},
     "output_type": "execute_result"
    }
   ],
   "source": [
    "ts.index.dtype"
   ]
  },
  {
   "cell_type": "markdown",
   "id": "6ebe7a4c",
   "metadata": {},
   "source": [
    "#### Index Selection Subsetting"
   ]
  },
  {
   "cell_type": "markdown",
   "id": "86af298e",
   "metadata": {},
   "source": [
    "Time series có như là other pandas. Series khi bạn là indexing và selecign data dựa trên label"
   ]
  },
  {
   "cell_type": "code",
   "execution_count": 37,
   "id": "5e6a3a5c",
   "metadata": {},
   "outputs": [],
   "source": [
    "stamp = ts.index[2]"
   ]
  },
  {
   "cell_type": "code",
   "execution_count": 38,
   "id": "0afb316b",
   "metadata": {},
   "outputs": [
    {
     "data": {
      "text/plain": [
       "Timestamp('2021-02-11 00:00:00')"
      ]
     },
     "execution_count": 38,
     "metadata": {},
     "output_type": "execute_result"
    }
   ],
   "source": [
    "stamp"
   ]
  },
  {
   "cell_type": "code",
   "execution_count": 39,
   "id": "82d9acb1",
   "metadata": {},
   "outputs": [
    {
     "data": {
      "text/plain": [
       "0.4755176464901995"
      ]
     },
     "execution_count": 39,
     "metadata": {},
     "output_type": "execute_result"
    }
   ],
   "source": [
    "ts[stamp]"
   ]
  },
  {
   "cell_type": "markdown",
   "id": "460c86dc",
   "metadata": {},
   "source": [
    "như một thông thường, bạn cũng có thể truyênf 1 string rằng như là 1 date"
   ]
  },
  {
   "cell_type": "code",
   "execution_count": 40,
   "id": "68ef87d5",
   "metadata": {},
   "outputs": [
    {
     "data": {
      "text/plain": [
       "2021-02-03   -0.763171\n",
       "2021-02-10   -1.325962\n",
       "2021-02-11    0.475518\n",
       "2021-02-12    0.132850\n",
       "2021-02-13    0.516921\n",
       "2021-02-14   -2.033808\n",
       "dtype: float64"
      ]
     },
     "execution_count": 40,
     "metadata": {},
     "output_type": "execute_result"
    }
   ],
   "source": [
    "ts"
   ]
  },
  {
   "cell_type": "code",
   "execution_count": 41,
   "id": "ba7e0b03",
   "metadata": {},
   "outputs": [
    {
     "data": {
      "text/plain": [
       "-2.033807929727109"
      ]
     },
     "execution_count": 41,
     "metadata": {},
     "output_type": "execute_result"
    }
   ],
   "source": [
    "ts['20210214']"
   ]
  },
  {
   "cell_type": "markdown",
   "id": "a547414e",
   "metadata": {},
   "source": [
    "Đối với chuỗi thời gian dài hơn, có thể chuyển qua một năm hoặc chỉ một năm và tháng để dễ dàng chọn các phần dữ liệu:”\n"
   ]
  },
  {
   "cell_type": "code",
   "execution_count": 42,
   "id": "a9356fb3",
   "metadata": {},
   "outputs": [],
   "source": [
    "long_ts = pd.Series(np.random.randn(1000),\n",
    "                   index = pd.date_range('1/1/2000'\n",
    "                                         ,periods=1000))"
   ]
  },
  {
   "cell_type": "code",
   "execution_count": 43,
   "id": "9e76a410",
   "metadata": {},
   "outputs": [
    {
     "data": {
      "text/plain": [
       "2000-01-01   -0.167198\n",
       "2000-01-02   -1.144395\n",
       "2000-01-03    0.552491\n",
       "2000-01-04   -0.310875\n",
       "2000-01-05   -1.482907\n",
       "                ...   \n",
       "2002-09-22   -0.333813\n",
       "2002-09-23    0.856409\n",
       "2002-09-24   -0.422348\n",
       "2002-09-25    0.477096\n",
       "2002-09-26   -1.146448\n",
       "Freq: D, Length: 1000, dtype: float64"
      ]
     },
     "execution_count": 43,
     "metadata": {},
     "output_type": "execute_result"
    }
   ],
   "source": [
    "long_ts"
   ]
  },
  {
   "cell_type": "code",
   "execution_count": 44,
   "id": "d82e4bb6",
   "metadata": {},
   "outputs": [
    {
     "data": {
      "text/plain": [
       "2001-01-01   -1.274739\n",
       "2001-01-02    0.468866\n",
       "2001-01-03    0.050663\n",
       "2001-01-04   -0.960879\n",
       "2001-01-05    0.444505\n",
       "                ...   \n",
       "2001-12-27    0.874163\n",
       "2001-12-28    0.429243\n",
       "2001-12-29    0.842999\n",
       "2001-12-30    0.582017\n",
       "2001-12-31   -0.679765\n",
       "Freq: D, Length: 365, dtype: float64"
      ]
     },
     "execution_count": 44,
     "metadata": {},
     "output_type": "execute_result"
    }
   ],
   "source": [
    "long_ts['2001']"
   ]
  },
  {
   "cell_type": "code",
   "execution_count": 45,
   "id": "b47098be",
   "metadata": {},
   "outputs": [
    {
     "data": {
      "text/plain": [
       "2001-05-01   -2.002633\n",
       "2001-05-02    0.671434\n",
       "2001-05-03    0.001975\n",
       "2001-05-04   -0.234115\n",
       "2001-05-05    1.351786\n",
       "2001-05-06    1.420177\n",
       "2001-05-07    2.470439\n",
       "2001-05-08    0.593095\n",
       "2001-05-09   -0.392199\n",
       "2001-05-10   -1.177285\n",
       "2001-05-11    0.158205\n",
       "2001-05-12    1.197826\n",
       "2001-05-13    0.827447\n",
       "2001-05-14    1.448511\n",
       "2001-05-15   -0.381831\n",
       "2001-05-16    0.083356\n",
       "2001-05-17    0.663657\n",
       "2001-05-18    0.449609\n",
       "2001-05-19    0.891369\n",
       "2001-05-20   -0.804730\n",
       "2001-05-21    0.591128\n",
       "2001-05-22   -0.538932\n",
       "2001-05-23    0.831687\n",
       "2001-05-24    1.290620\n",
       "2001-05-25    1.662215\n",
       "2001-05-26   -0.542935\n",
       "2001-05-27    0.455342\n",
       "2001-05-28   -1.054438\n",
       "2001-05-29    0.404219\n",
       "2001-05-30   -1.968464\n",
       "2001-05-31    1.274874\n",
       "Freq: D, dtype: float64"
      ]
     },
     "execution_count": 45,
     "metadata": {},
     "output_type": "execute_result"
    }
   ],
   "source": [
    "long_ts['2001-05']"
   ]
  },
  {
   "cell_type": "markdown",
   "id": "afdc09d7",
   "metadata": {},
   "source": [
    "cắt với `datime()` "
   ]
  },
  {
   "cell_type": "code",
   "execution_count": 46,
   "id": "13eb1e19",
   "metadata": {},
   "outputs": [
    {
     "data": {
      "text/plain": [
       "2021-02-03   -0.763171\n",
       "2021-02-10   -1.325962\n",
       "2021-02-11    0.475518\n",
       "2021-02-12    0.132850\n",
       "2021-02-13    0.516921\n",
       "2021-02-14   -2.033808\n",
       "dtype: float64"
      ]
     },
     "execution_count": 46,
     "metadata": {},
     "output_type": "execute_result"
    }
   ],
   "source": [
    "ts"
   ]
  },
  {
   "cell_type": "code",
   "execution_count": 47,
   "id": "f83720ec",
   "metadata": {},
   "outputs": [
    {
     "data": {
      "text/plain": [
       "2021-02-10   -1.325962\n",
       "2021-02-11    0.475518\n",
       "2021-02-12    0.132850\n",
       "2021-02-13    0.516921\n",
       "2021-02-14   -2.033808\n",
       "dtype: float64"
      ]
     },
     "execution_count": 47,
     "metadata": {},
     "output_type": "execute_result"
    }
   ],
   "source": [
    "ts[datetime(2021,2,10):]"
   ]
  },
  {
   "cell_type": "markdown",
   "id": "eec2dcff",
   "metadata": {},
   "source": [
    "Bởi vì hầu hết time series là sắp xếp theo thú tựu thời gian bạn có thể cắt với `timestamps` không bao gồm trong 1 time sẻies "
   ]
  },
  {
   "cell_type": "code",
   "execution_count": 48,
   "id": "1ce95c72",
   "metadata": {},
   "outputs": [
    {
     "data": {
      "text/plain": [
       "2021-02-03   -0.763171\n",
       "2021-02-10   -1.325962\n",
       "2021-02-11    0.475518\n",
       "2021-02-12    0.132850\n",
       "2021-02-13    0.516921\n",
       "2021-02-14   -2.033808\n",
       "dtype: float64"
      ]
     },
     "execution_count": 48,
     "metadata": {},
     "output_type": "execute_result"
    }
   ],
   "source": [
    "ts"
   ]
  },
  {
   "cell_type": "code",
   "execution_count": 49,
   "id": "77f8cd08",
   "metadata": {},
   "outputs": [
    {
     "data": {
      "text/plain": [
       "2021-02-10   -1.325962\n",
       "2021-02-11    0.475518\n",
       "2021-02-12    0.132850\n",
       "2021-02-13    0.516921\n",
       "dtype: float64"
      ]
     },
     "execution_count": 49,
     "metadata": {},
     "output_type": "execute_result"
    }
   ],
   "source": [
    "ts[\"2021/02/10\":\"2021/02/13\"]"
   ]
  },
  {
   "cell_type": "markdown",
   "id": "7757c544",
   "metadata": {},
   "source": [
    "Như trước đây, bạn có thể bát các loạ string date, ở dateim hoặc time-stamp. Nhứ rằng cắt trong các mảng này thì k sửa đc nó là k coppy gì hết nhé"
   ]
  },
  {
   "cell_type": "markdown",
   "id": "bc057e9a",
   "metadata": {},
   "source": [
    "Có một phương thức phiên bản tương đương, cắt ngắn, cắt một Chuỗi giữa hai ngày:"
   ]
  },
  {
   "cell_type": "code",
   "execution_count": 50,
   "id": "2c8cf8c1",
   "metadata": {},
   "outputs": [
    {
     "data": {
      "text/plain": [
       "2021-02-03   -0.763171\n",
       "2021-02-10   -1.325962\n",
       "2021-02-11    0.475518\n",
       "2021-02-12    0.132850\n",
       "2021-02-13    0.516921\n",
       "dtype: float64"
      ]
     },
     "execution_count": 50,
     "metadata": {},
     "output_type": "execute_result"
    }
   ],
   "source": [
    "ts.truncate(after='2021/02/13')"
   ]
  },
  {
   "cell_type": "markdown",
   "id": "577478dc",
   "metadata": {},
   "source": [
    "Tất cả những điêu trên đều được sử dụng DataFrame as well, indexing on ít rows"
   ]
  },
  {
   "cell_type": "code",
   "execution_count": 51,
   "id": "500d9b12",
   "metadata": {},
   "outputs": [],
   "source": [
    "dates= pd.date_range('1/1/2000',periods=100,freq='W-WED')"
   ]
  },
  {
   "cell_type": "code",
   "execution_count": 52,
   "id": "47f82831",
   "metadata": {},
   "outputs": [],
   "source": [
    "long_df = pd.DataFrame(np.random.rand(100,4),\n",
    "                      index=dates,\n",
    "                      columns=['Colorado','Texas','New York','Ohio'])"
   ]
  },
  {
   "cell_type": "code",
   "execution_count": 53,
   "id": "d47d9cc0",
   "metadata": {},
   "outputs": [
    {
     "data": {
      "text/html": [
       "<div>\n",
       "<style scoped>\n",
       "    .dataframe tbody tr th:only-of-type {\n",
       "        vertical-align: middle;\n",
       "    }\n",
       "\n",
       "    .dataframe tbody tr th {\n",
       "        vertical-align: top;\n",
       "    }\n",
       "\n",
       "    .dataframe thead th {\n",
       "        text-align: right;\n",
       "    }\n",
       "</style>\n",
       "<table border=\"1\" class=\"dataframe\">\n",
       "  <thead>\n",
       "    <tr style=\"text-align: right;\">\n",
       "      <th></th>\n",
       "      <th>Colorado</th>\n",
       "      <th>Texas</th>\n",
       "      <th>New York</th>\n",
       "      <th>Ohio</th>\n",
       "    </tr>\n",
       "  </thead>\n",
       "  <tbody>\n",
       "    <tr>\n",
       "      <th>2000-01-05</th>\n",
       "      <td>0.104357</td>\n",
       "      <td>0.454893</td>\n",
       "      <td>0.011995</td>\n",
       "      <td>0.232322</td>\n",
       "    </tr>\n",
       "    <tr>\n",
       "      <th>2000-01-12</th>\n",
       "      <td>0.462937</td>\n",
       "      <td>0.513975</td>\n",
       "      <td>0.103864</td>\n",
       "      <td>0.387753</td>\n",
       "    </tr>\n",
       "    <tr>\n",
       "      <th>2000-01-19</th>\n",
       "      <td>0.461088</td>\n",
       "      <td>0.541395</td>\n",
       "      <td>0.242536</td>\n",
       "      <td>0.120566</td>\n",
       "    </tr>\n",
       "    <tr>\n",
       "      <th>2000-01-26</th>\n",
       "      <td>0.434504</td>\n",
       "      <td>0.426774</td>\n",
       "      <td>0.208996</td>\n",
       "      <td>0.100269</td>\n",
       "    </tr>\n",
       "    <tr>\n",
       "      <th>2000-02-02</th>\n",
       "      <td>0.998591</td>\n",
       "      <td>0.500585</td>\n",
       "      <td>0.612540</td>\n",
       "      <td>0.725746</td>\n",
       "    </tr>\n",
       "    <tr>\n",
       "      <th>...</th>\n",
       "      <td>...</td>\n",
       "      <td>...</td>\n",
       "      <td>...</td>\n",
       "      <td>...</td>\n",
       "    </tr>\n",
       "    <tr>\n",
       "      <th>2001-10-31</th>\n",
       "      <td>0.471495</td>\n",
       "      <td>0.599738</td>\n",
       "      <td>0.761526</td>\n",
       "      <td>0.909492</td>\n",
       "    </tr>\n",
       "    <tr>\n",
       "      <th>2001-11-07</th>\n",
       "      <td>0.028292</td>\n",
       "      <td>0.433281</td>\n",
       "      <td>0.756890</td>\n",
       "      <td>0.841535</td>\n",
       "    </tr>\n",
       "    <tr>\n",
       "      <th>2001-11-14</th>\n",
       "      <td>0.502766</td>\n",
       "      <td>0.225086</td>\n",
       "      <td>0.006671</td>\n",
       "      <td>0.339941</td>\n",
       "    </tr>\n",
       "    <tr>\n",
       "      <th>2001-11-21</th>\n",
       "      <td>0.054511</td>\n",
       "      <td>0.900397</td>\n",
       "      <td>0.588452</td>\n",
       "      <td>0.869740</td>\n",
       "    </tr>\n",
       "    <tr>\n",
       "      <th>2001-11-28</th>\n",
       "      <td>0.244567</td>\n",
       "      <td>0.225834</td>\n",
       "      <td>0.856772</td>\n",
       "      <td>0.827073</td>\n",
       "    </tr>\n",
       "  </tbody>\n",
       "</table>\n",
       "<p>100 rows × 4 columns</p>\n",
       "</div>"
      ],
      "text/plain": [
       "            Colorado     Texas  New York      Ohio\n",
       "2000-01-05  0.104357  0.454893  0.011995  0.232322\n",
       "2000-01-12  0.462937  0.513975  0.103864  0.387753\n",
       "2000-01-19  0.461088  0.541395  0.242536  0.120566\n",
       "2000-01-26  0.434504  0.426774  0.208996  0.100269\n",
       "2000-02-02  0.998591  0.500585  0.612540  0.725746\n",
       "...              ...       ...       ...       ...\n",
       "2001-10-31  0.471495  0.599738  0.761526  0.909492\n",
       "2001-11-07  0.028292  0.433281  0.756890  0.841535\n",
       "2001-11-14  0.502766  0.225086  0.006671  0.339941\n",
       "2001-11-21  0.054511  0.900397  0.588452  0.869740\n",
       "2001-11-28  0.244567  0.225834  0.856772  0.827073\n",
       "\n",
       "[100 rows x 4 columns]"
      ]
     },
     "execution_count": 53,
     "metadata": {},
     "output_type": "execute_result"
    }
   ],
   "source": [
    "long_df"
   ]
  },
  {
   "cell_type": "code",
   "execution_count": 54,
   "id": "619a53b2",
   "metadata": {},
   "outputs": [
    {
     "data": {
      "text/html": [
       "<div>\n",
       "<style scoped>\n",
       "    .dataframe tbody tr th:only-of-type {\n",
       "        vertical-align: middle;\n",
       "    }\n",
       "\n",
       "    .dataframe tbody tr th {\n",
       "        vertical-align: top;\n",
       "    }\n",
       "\n",
       "    .dataframe thead th {\n",
       "        text-align: right;\n",
       "    }\n",
       "</style>\n",
       "<table border=\"1\" class=\"dataframe\">\n",
       "  <thead>\n",
       "    <tr style=\"text-align: right;\">\n",
       "      <th></th>\n",
       "      <th>Colorado</th>\n",
       "      <th>Texas</th>\n",
       "      <th>New York</th>\n",
       "      <th>Ohio</th>\n",
       "    </tr>\n",
       "  </thead>\n",
       "  <tbody>\n",
       "    <tr>\n",
       "      <th>2000-04-05</th>\n",
       "      <td>0.769607</td>\n",
       "      <td>0.478408</td>\n",
       "      <td>0.792230</td>\n",
       "      <td>0.612063</td>\n",
       "    </tr>\n",
       "    <tr>\n",
       "      <th>2000-04-12</th>\n",
       "      <td>0.683669</td>\n",
       "      <td>0.729881</td>\n",
       "      <td>0.069701</td>\n",
       "      <td>0.553798</td>\n",
       "    </tr>\n",
       "    <tr>\n",
       "      <th>2000-04-19</th>\n",
       "      <td>0.326930</td>\n",
       "      <td>0.602093</td>\n",
       "      <td>0.504049</td>\n",
       "      <td>0.700228</td>\n",
       "    </tr>\n",
       "    <tr>\n",
       "      <th>2000-04-26</th>\n",
       "      <td>0.167922</td>\n",
       "      <td>0.871197</td>\n",
       "      <td>0.781362</td>\n",
       "      <td>0.825226</td>\n",
       "    </tr>\n",
       "  </tbody>\n",
       "</table>\n",
       "</div>"
      ],
      "text/plain": [
       "            Colorado     Texas  New York      Ohio\n",
       "2000-04-05  0.769607  0.478408  0.792230  0.612063\n",
       "2000-04-12  0.683669  0.729881  0.069701  0.553798\n",
       "2000-04-19  0.326930  0.602093  0.504049  0.700228\n",
       "2000-04-26  0.167922  0.871197  0.781362  0.825226"
      ]
     },
     "execution_count": 54,
     "metadata": {},
     "output_type": "execute_result"
    }
   ],
   "source": [
    "long_df.loc['2000-04']"
   ]
  },
  {
   "cell_type": "markdown",
   "id": "2eb5d6fd",
   "metadata": {},
   "source": [
    "### Time Series With Duplicate Indices"
   ]
  },
  {
   "cell_type": "markdown",
   "id": "5745918c",
   "metadata": {},
   "source": [
    "Trong vài application, there có thể nhiều dữ liệu quan sát sẽ rơi vào 1 thời gian cụ thể. Dưới đây là 1 ví dụ : \n"
   ]
  },
  {
   "cell_type": "code",
   "execution_count": 55,
   "id": "9d7b2516",
   "metadata": {},
   "outputs": [],
   "source": [
    "dates= pd.DatetimeIndex(['1/1/2000','1/2/2000','1/2/2000','1/2/2000','1/3/2000'])"
   ]
  },
  {
   "cell_type": "code",
   "execution_count": 56,
   "id": "f159145c",
   "metadata": {},
   "outputs": [],
   "source": [
    "dup_ts = pd.Series(np.arange(5),index=dates)"
   ]
  },
  {
   "cell_type": "code",
   "execution_count": 57,
   "id": "70616ece",
   "metadata": {},
   "outputs": [
    {
     "data": {
      "text/plain": [
       "2000-01-01    0\n",
       "2000-01-02    1\n",
       "2000-01-02    2\n",
       "2000-01-02    3\n",
       "2000-01-03    4\n",
       "dtype: int64"
      ]
     },
     "execution_count": 57,
     "metadata": {},
     "output_type": "execute_result"
    }
   ],
   "source": [
    "dup_ts"
   ]
  },
  {
   "cell_type": "markdown",
   "id": "c51570f9",
   "metadata": {},
   "source": [
    "Chúng ta có thể nói rằng index không `Unique` bởi check `is_unique` property:"
   ]
  },
  {
   "cell_type": "code",
   "execution_count": 58,
   "id": "0723a747",
   "metadata": {},
   "outputs": [
    {
     "data": {
      "text/plain": [
       "False"
      ]
     },
     "execution_count": 58,
     "metadata": {},
     "output_type": "execute_result"
    }
   ],
   "source": [
    "dup_ts.index.is_unique"
   ]
  },
  {
   "cell_type": "code",
   "execution_count": 59,
   "id": "8f123244",
   "metadata": {},
   "outputs": [
    {
     "data": {
      "text/plain": [
       "2000-01-02    1\n",
       "2000-01-02    2\n",
       "2000-01-02    3\n",
       "dtype: int64"
      ]
     },
     "execution_count": 59,
     "metadata": {},
     "output_type": "execute_result"
    }
   ],
   "source": [
    "dup_ts['1/2/2000']"
   ]
  },
  {
   "cell_type": "markdown",
   "id": "c271cbac",
   "metadata": {},
   "source": [
    "Giả sử rằng bạn muốn gộp các dẽ liêu không **non-unique** timestamps. Một cách để làm điều đó sử dung `groupby` và truyền level = 0"
   ]
  },
  {
   "cell_type": "code",
   "execution_count": 60,
   "id": "109752d0",
   "metadata": {},
   "outputs": [],
   "source": [
    "grouped = dup_ts.groupby(level=0)"
   ]
  },
  {
   "cell_type": "code",
   "execution_count": 61,
   "id": "0d04da6b",
   "metadata": {},
   "outputs": [
    {
     "data": {
      "text/plain": [
       "2000-01-01    0\n",
       "2000-01-02    2\n",
       "2000-01-03    4\n",
       "dtype: int64"
      ]
     },
     "execution_count": 61,
     "metadata": {},
     "output_type": "execute_result"
    }
   ],
   "source": [
    "grouped.mean()"
   ]
  },
  {
   "cell_type": "code",
   "execution_count": 62,
   "id": "50c0dbd8",
   "metadata": {},
   "outputs": [
    {
     "data": {
      "text/plain": [
       "2000-01-01    1\n",
       "2000-01-02    3\n",
       "2000-01-03    1\n",
       "dtype: int64"
      ]
     },
     "execution_count": 62,
     "metadata": {},
     "output_type": "execute_result"
    }
   ],
   "source": [
    "grouped.count()"
   ]
  },
  {
   "cell_type": "markdown",
   "id": "12aee6d4",
   "metadata": {},
   "source": [
    "## 11.3 Data Ranges, Frequencies, and Shifting "
   ]
  },
  {
   "cell_type": "markdown",
   "id": "dd29fb06",
   "metadata": {},
   "source": [
    "Nhìn chung **time series** in pandas là được cho là không đầu,chúng có không có tần số cố định. rất nhiều ứng dụng thì điều này là đủ, Tuy nhiên nó thườn, bạn đáng ra làm việc liên quan đến tần số cố định, ví dụ như ngày, tháy, và mỗi 15 phút.  Ngay khả khi nó giới thiệu misisng values vào trong time series.Thật may mắn, pandas đã có full tần số tiêu chuẩn củatần số time sẻiess, và các công cụ để `resampling`, tạo ra tần số cố định. Ví dụ , bạn có thể `samp` có thể chuyển ví dụ time series to fixed daily tần số by calling `resample()`"
   ]
  },
  {
   "cell_type": "code",
   "execution_count": 63,
   "id": "01bf8194",
   "metadata": {},
   "outputs": [
    {
     "data": {
      "text/plain": [
       "2021-02-03   -0.763171\n",
       "2021-02-10   -1.325962\n",
       "2021-02-11    0.475518\n",
       "2021-02-12    0.132850\n",
       "2021-02-13    0.516921\n",
       "2021-02-14   -2.033808\n",
       "dtype: float64"
      ]
     },
     "execution_count": 63,
     "metadata": {},
     "output_type": "execute_result"
    }
   ],
   "source": [
    "\n",
    "ts"
   ]
  },
  {
   "cell_type": "code",
   "execution_count": 64,
   "id": "860d9477",
   "metadata": {},
   "outputs": [],
   "source": [
    "resampler = ts.resample('D')"
   ]
  },
  {
   "cell_type": "code",
   "execution_count": 65,
   "id": "8fa2cc53",
   "metadata": {},
   "outputs": [
    {
     "data": {
      "text/plain": [
       "<pandas.core.resample.DatetimeIndexResampler object at 0x7fe9bbcc7e80>"
      ]
     },
     "execution_count": 65,
     "metadata": {},
     "output_type": "execute_result"
    }
   ],
   "source": [
    "resampler"
   ]
  },
  {
   "cell_type": "markdown",
   "id": "d93cedc6",
   "metadata": {},
   "source": [
    "#### Generating Date Ranges "
   ]
  },
  {
   "cell_type": "markdown",
   "id": "783d7c8d",
   "metadata": {},
   "source": [
    "Trong khi tôi sử dụng nó trước đây và không giải thích cho generating a **DatetimeIndex** với độ dài chỉ định tần suất cụ thểm"
   ]
  },
  {
   "cell_type": "code",
   "execution_count": 66,
   "id": "7eafb861",
   "metadata": {},
   "outputs": [],
   "source": [
    "index = pd.date_range('2012-04-01','2012-06-01')"
   ]
  },
  {
   "cell_type": "code",
   "execution_count": 67,
   "id": "fe383e98",
   "metadata": {},
   "outputs": [
    {
     "data": {
      "text/plain": [
       "DatetimeIndex(['2012-04-01', '2012-04-02', '2012-04-03', '2012-04-04',\n",
       "               '2012-04-05', '2012-04-06', '2012-04-07', '2012-04-08',\n",
       "               '2012-04-09', '2012-04-10', '2012-04-11', '2012-04-12',\n",
       "               '2012-04-13', '2012-04-14', '2012-04-15', '2012-04-16',\n",
       "               '2012-04-17', '2012-04-18', '2012-04-19', '2012-04-20',\n",
       "               '2012-04-21', '2012-04-22', '2012-04-23', '2012-04-24',\n",
       "               '2012-04-25', '2012-04-26', '2012-04-27', '2012-04-28',\n",
       "               '2012-04-29', '2012-04-30', '2012-05-01', '2012-05-02',\n",
       "               '2012-05-03', '2012-05-04', '2012-05-05', '2012-05-06',\n",
       "               '2012-05-07', '2012-05-08', '2012-05-09', '2012-05-10',\n",
       "               '2012-05-11', '2012-05-12', '2012-05-13', '2012-05-14',\n",
       "               '2012-05-15', '2012-05-16', '2012-05-17', '2012-05-18',\n",
       "               '2012-05-19', '2012-05-20', '2012-05-21', '2012-05-22',\n",
       "               '2012-05-23', '2012-05-24', '2012-05-25', '2012-05-26',\n",
       "               '2012-05-27', '2012-05-28', '2012-05-29', '2012-05-30',\n",
       "               '2012-05-31', '2012-06-01'],\n",
       "              dtype='datetime64[ns]', freq='D')"
      ]
     },
     "execution_count": 67,
     "metadata": {},
     "output_type": "execute_result"
    }
   ],
   "source": [
    "index"
   ]
  },
  {
   "cell_type": "markdown",
   "id": "20b2473c",
   "metadata": {},
   "source": [
    "Bởi mặc định, `date_range()` tạo ra chung daily timestamps. Nếu bạn có thể truyền một start hoặc end date, Ví dụ, nếu bạn muốn 1 ngày index mà ngày làm việc cuối tháng cho mỗi tháng. bạn có thể pass `BM` frtần số."
   ]
  },
  {
   "cell_type": "code",
   "execution_count": 68,
   "id": "fea3bb12",
   "metadata": {},
   "outputs": [
    {
     "data": {
      "text/plain": [
       "DatetimeIndex(['2000-01-31', '2000-02-29', '2000-03-31', '2000-04-28',\n",
       "               '2000-05-31', '2000-06-30', '2000-07-31', '2000-08-31',\n",
       "               '2000-09-29', '2000-10-31', '2000-11-30'],\n",
       "              dtype='datetime64[ns]', freq='BM')"
      ]
     },
     "execution_count": 68,
     "metadata": {},
     "output_type": "execute_result"
    }
   ],
   "source": [
    "pd.date_range('2000-01-01','2000-12-01',freq='BM')"
   ]
  },
  {
   "cell_type": "code",
   "execution_count": 69,
   "id": "67714c73",
   "metadata": {},
   "outputs": [],
   "source": [
    "alias_data = ['D'\n",
    "              ,'B'\n",
    "              ,'H'\n",
    "              ,'T or min'\n",
    "              ,'S'\n",
    "              ,'L or ms'\n",
    "              ,'U'\n",
    "              ,'M'\n",
    "              ,'BM'\n",
    "              ,'MS'\n",
    "              ,'BMS'\n",
    "              ,'W-MON, W-TUE'\n",
    "             , 'WOM-1MON WOM-2MON'\n",
    "              , 'Q-JAN, Q-FEB'\n",
    "             , 'BQ-JAN, BQ-FEB']"
   ]
  },
  {
   "cell_type": "code",
   "execution_count": 70,
   "id": "afdcf3dc",
   "metadata": {},
   "outputs": [],
   "source": [
    "offset_type_data = [\n",
    "    'Day'\n",
    "    ,'Bussiness Day'\n",
    "    ,'Hour'\n",
    "    ,'Minute'\n",
    "    , 'Second'\n",
    "    ,'Milli'\n",
    "    ,'Micro'\n",
    "    ,'MonthEnd'\n",
    "    ,'BusinessMonthEnd'\n",
    "    ,'MonthBegin'\n",
    "    ,'BussinessMonth Begin'\n",
    "    ,'Week'\n",
    "    ,'WeekOfMonth'\n",
    "    ,'QuarterEnd'\n",
    "    ,'Bussies End'\n",
    "]"
   ]
  },
  {
   "cell_type": "code",
   "execution_count": 71,
   "id": "8178bcc8",
   "metadata": {},
   "outputs": [],
   "source": [
    "dict_data = {\n",
    "    'Alias': alias_data,\n",
    "    'Offset type': offset_type_data\n",
    "}\n",
    "base_time_series_frequencies = pd.DataFrame(data= dict_data,)"
   ]
  },
  {
   "cell_type": "code",
   "execution_count": 72,
   "id": "1a386746",
   "metadata": {},
   "outputs": [
    {
     "data": {
      "text/html": [
       "<div>\n",
       "<style scoped>\n",
       "    .dataframe tbody tr th:only-of-type {\n",
       "        vertical-align: middle;\n",
       "    }\n",
       "\n",
       "    .dataframe tbody tr th {\n",
       "        vertical-align: top;\n",
       "    }\n",
       "\n",
       "    .dataframe thead th {\n",
       "        text-align: right;\n",
       "    }\n",
       "</style>\n",
       "<table border=\"1\" class=\"dataframe\">\n",
       "  <thead>\n",
       "    <tr style=\"text-align: right;\">\n",
       "      <th></th>\n",
       "      <th>Alias</th>\n",
       "      <th>Offset type</th>\n",
       "    </tr>\n",
       "  </thead>\n",
       "  <tbody>\n",
       "    <tr>\n",
       "      <th>0</th>\n",
       "      <td>D</td>\n",
       "      <td>Day</td>\n",
       "    </tr>\n",
       "    <tr>\n",
       "      <th>1</th>\n",
       "      <td>B</td>\n",
       "      <td>Bussiness Day</td>\n",
       "    </tr>\n",
       "    <tr>\n",
       "      <th>2</th>\n",
       "      <td>H</td>\n",
       "      <td>Hour</td>\n",
       "    </tr>\n",
       "    <tr>\n",
       "      <th>3</th>\n",
       "      <td>T or min</td>\n",
       "      <td>Minute</td>\n",
       "    </tr>\n",
       "    <tr>\n",
       "      <th>4</th>\n",
       "      <td>S</td>\n",
       "      <td>Second</td>\n",
       "    </tr>\n",
       "    <tr>\n",
       "      <th>5</th>\n",
       "      <td>L or ms</td>\n",
       "      <td>Milli</td>\n",
       "    </tr>\n",
       "    <tr>\n",
       "      <th>6</th>\n",
       "      <td>U</td>\n",
       "      <td>Micro</td>\n",
       "    </tr>\n",
       "    <tr>\n",
       "      <th>7</th>\n",
       "      <td>M</td>\n",
       "      <td>MonthEnd</td>\n",
       "    </tr>\n",
       "    <tr>\n",
       "      <th>8</th>\n",
       "      <td>BM</td>\n",
       "      <td>BusinessMonthEnd</td>\n",
       "    </tr>\n",
       "    <tr>\n",
       "      <th>9</th>\n",
       "      <td>MS</td>\n",
       "      <td>MonthBegin</td>\n",
       "    </tr>\n",
       "    <tr>\n",
       "      <th>10</th>\n",
       "      <td>BMS</td>\n",
       "      <td>BussinessMonth Begin</td>\n",
       "    </tr>\n",
       "    <tr>\n",
       "      <th>11</th>\n",
       "      <td>W-MON, W-TUE</td>\n",
       "      <td>Week</td>\n",
       "    </tr>\n",
       "    <tr>\n",
       "      <th>12</th>\n",
       "      <td>WOM-1MON WOM-2MON</td>\n",
       "      <td>WeekOfMonth</td>\n",
       "    </tr>\n",
       "    <tr>\n",
       "      <th>13</th>\n",
       "      <td>Q-JAN, Q-FEB</td>\n",
       "      <td>QuarterEnd</td>\n",
       "    </tr>\n",
       "    <tr>\n",
       "      <th>14</th>\n",
       "      <td>BQ-JAN, BQ-FEB</td>\n",
       "      <td>Bussies End</td>\n",
       "    </tr>\n",
       "  </tbody>\n",
       "</table>\n",
       "</div>"
      ],
      "text/plain": [
       "                Alias           Offset type\n",
       "0                   D                   Day\n",
       "1                   B         Bussiness Day\n",
       "2                   H                  Hour\n",
       "3            T or min                Minute\n",
       "4                   S                Second\n",
       "5             L or ms                 Milli\n",
       "6                   U                 Micro\n",
       "7                   M              MonthEnd\n",
       "8                  BM      BusinessMonthEnd\n",
       "9                  MS            MonthBegin\n",
       "10                BMS  BussinessMonth Begin\n",
       "11       W-MON, W-TUE                  Week\n",
       "12  WOM-1MON WOM-2MON           WeekOfMonth\n",
       "13       Q-JAN, Q-FEB            QuarterEnd\n",
       "14     BQ-JAN, BQ-FEB           Bussies End"
      ]
     },
     "execution_count": 72,
     "metadata": {},
     "output_type": "execute_result"
    }
   ],
   "source": [
    "base_time_series_frequencies"
   ]
  },
  {
   "cell_type": "markdown",
   "id": "c870c3c3",
   "metadata": {},
   "source": [
    "`date_range` mặc định giữ nguyên thời gian (nếu có) của dấu thời gian bắt đầu hoặc kết thúc\"\n"
   ]
  },
  {
   "cell_type": "code",
   "execution_count": 73,
   "id": "ceee89c2",
   "metadata": {},
   "outputs": [
    {
     "data": {
      "text/plain": [
       "DatetimeIndex(['2012-05-02 12:56:31', '2012-05-03 12:56:31',\n",
       "               '2012-05-04 12:56:31', '2012-05-05 12:56:31',\n",
       "               '2012-05-06 12:56:31'],\n",
       "              dtype='datetime64[ns]', freq='D')"
      ]
     },
     "execution_count": 73,
     "metadata": {},
     "output_type": "execute_result"
    }
   ],
   "source": [
    "pd.date_range('2012-05-02 12:56:31',periods =5)"
   ]
  },
  {
   "cell_type": "markdown",
   "id": "e8ccdd5d",
   "metadata": {},
   "source": [
    "Thỉnh thoảng bạn sẽ có bắt đầu hoặc kết thuốc dates với thông tin về thời gian nhưng muốn tạo ra 1 set của `timesptams normalized` . Nghĩa là bỏ mẹ hết giờ đi "
   ]
  },
  {
   "cell_type": "code",
   "execution_count": 74,
   "id": "cb6f79c7",
   "metadata": {},
   "outputs": [
    {
     "data": {
      "text/plain": [
       "DatetimeIndex(['2012-05-12', '2012-05-13', '2012-05-14', '2012-05-15',\n",
       "               '2012-05-16'],\n",
       "              dtype='datetime64[ns]', freq='D')"
      ]
     },
     "execution_count": 74,
     "metadata": {},
     "output_type": "execute_result"
    }
   ],
   "source": [
    "pd.date_range('2012-05-12 12:56:31',periods=5,normalize=True)"
   ]
  },
  {
   "cell_type": "markdown",
   "id": "8751e342",
   "metadata": {},
   "source": [
    "### Frequencies and Date Offsets"
   ]
  },
  {
   "cell_type": "markdown",
   "id": "177faca0",
   "metadata": {},
   "source": [
    "Tần số trong pandas là tần số cơ bản và tần số hệ nhân. `Base Frequencies` là một loại sẽ chiếu đến bơi to string là 'M' là tháng, Mỗi tần số cơ bản, nó có 1 định nghĩa đối tượng thường được gọi là `date offset`. Ví dụ. tần số giờ có thể đại diện với ` Hour class: `"
   ]
  },
  {
   "cell_type": "code",
   "execution_count": 75,
   "id": "1ae55599",
   "metadata": {},
   "outputs": [],
   "source": [
    "from pandas.tseries.offsets import Hour,Minute\n",
    "hour = Hour()"
   ]
  },
  {
   "cell_type": "code",
   "execution_count": 76,
   "id": "75769969",
   "metadata": {},
   "outputs": [
    {
     "data": {
      "text/plain": [
       "<Hour>"
      ]
     },
     "execution_count": 76,
     "metadata": {},
     "output_type": "execute_result"
    }
   ],
   "source": [
    "hour"
   ]
  },
  {
   "cell_type": "markdown",
   "id": "f7f173d5",
   "metadata": {},
   "source": [
    "bạn có thể định nghĩa off set bởi passing int"
   ]
  },
  {
   "cell_type": "code",
   "execution_count": 77,
   "id": "f9342086",
   "metadata": {},
   "outputs": [],
   "source": [
    "four_hours = Hour(4)"
   ]
  },
  {
   "cell_type": "code",
   "execution_count": 78,
   "id": "d84f7f1b",
   "metadata": {},
   "outputs": [
    {
     "data": {
      "text/plain": [
       "<4 * Hours>"
      ]
     },
     "execution_count": 78,
     "metadata": {},
     "output_type": "execute_result"
    }
   ],
   "source": [
    "four_hours\n"
   ]
  },
  {
   "cell_type": "markdown",
   "id": "3c8ef7d4",
   "metadata": {},
   "source": [
    "Hầu hết ứng giọng, bạn có thể không bao giờ cần phải sủ dụng đối tượng này, bạn sẽ sử dụng bí ddanh như \n",
    "**H or 4H**"
   ]
  },
  {
   "cell_type": "code",
   "execution_count": 79,
   "id": "b7e41fbd",
   "metadata": {},
   "outputs": [
    {
     "data": {
      "text/plain": [
       "DatetimeIndex(['2000-01-01 00:00:00', '2000-01-01 04:00:00',\n",
       "               '2000-01-01 08:00:00', '2000-01-01 12:00:00',\n",
       "               '2000-01-01 16:00:00', '2000-01-01 20:00:00',\n",
       "               '2000-01-02 00:00:00', '2000-01-02 04:00:00',\n",
       "               '2000-01-02 08:00:00', '2000-01-02 12:00:00',\n",
       "               '2000-01-02 16:00:00', '2000-01-02 20:00:00',\n",
       "               '2000-01-03 00:00:00', '2000-01-03 04:00:00',\n",
       "               '2000-01-03 08:00:00', '2000-01-03 12:00:00',\n",
       "               '2000-01-03 16:00:00', '2000-01-03 20:00:00'],\n",
       "              dtype='datetime64[ns]', freq='4H')"
      ]
     },
     "execution_count": 79,
     "metadata": {},
     "output_type": "execute_result"
    }
   ],
   "source": [
    "pd.date_range('2000-01-01','2000-01-03 23:59',freq='4h')"
   ]
  },
  {
   "cell_type": "markdown",
   "id": "7ebe7ef3",
   "metadata": {},
   "source": [
    "rất nhiều ofsers có thể kết hợp với nhau bởi + vào:"
   ]
  },
  {
   "cell_type": "code",
   "execution_count": 80,
   "id": "44de0cd5",
   "metadata": {},
   "outputs": [
    {
     "data": {
      "text/plain": [
       "<150 * Minutes>"
      ]
     },
     "execution_count": 80,
     "metadata": {},
     "output_type": "execute_result"
    }
   ],
   "source": [
    "Hour(2) + Minute(30)"
   ]
  },
  {
   "cell_type": "markdown",
   "id": "8026bd58",
   "metadata": {},
   "source": [
    "Đơn giản, bạn có thể truyền tần số stirng như '1h30 min', rằng nó sẽ hiệu ứng để đổ giống như cú pháp thành một biểu thức \n",
    "\n"
   ]
  },
  {
   "cell_type": "code",
   "execution_count": 81,
   "id": "1a63baa9",
   "metadata": {},
   "outputs": [
    {
     "data": {
      "text/plain": [
       "DatetimeIndex(['2000-01-01 00:00:00', '2000-01-01 01:30:00',\n",
       "               '2000-01-01 03:00:00', '2000-01-01 04:30:00',\n",
       "               '2000-01-01 06:00:00', '2000-01-01 07:30:00',\n",
       "               '2000-01-01 09:00:00', '2000-01-01 10:30:00',\n",
       "               '2000-01-01 12:00:00', '2000-01-01 13:30:00'],\n",
       "              dtype='datetime64[ns]', freq='90T')"
      ]
     },
     "execution_count": 81,
     "metadata": {},
     "output_type": "execute_result"
    }
   ],
   "source": [
    "pd.date_range('2000-01-01',periods=10,freq='1h30min')"
   ]
  },
  {
   "cell_type": "markdown",
   "id": "d1719d75",
   "metadata": {},
   "source": [
    "#### Shifting (Leading and Lagging) Data\n",
    "\n",
    "**Shifting** refers to dịch chuyển dữ liệu backword và forwwad xuyên thời gian. Cả Seris và DataFrame có 1 `shift()` để là điều này. index k bị sửa chữa"
   ]
  },
  {
   "cell_type": "code",
   "execution_count": 82,
   "id": "4253aa36",
   "metadata": {},
   "outputs": [],
   "source": [
    "ts = pd.Series(np.random.rand(4),\n",
    "              index=pd.date_range('1/1/2000',periods=4,freq='M'))"
   ]
  },
  {
   "cell_type": "code",
   "execution_count": 83,
   "id": "534cb98c",
   "metadata": {},
   "outputs": [
    {
     "data": {
      "text/plain": [
       "2000-01-31    0.459848\n",
       "2000-02-29    0.563870\n",
       "2000-03-31    0.123864\n",
       "2000-04-30    0.863610\n",
       "Freq: M, dtype: float64"
      ]
     },
     "execution_count": 83,
     "metadata": {},
     "output_type": "execute_result"
    }
   ],
   "source": [
    "ts"
   ]
  },
  {
   "cell_type": "code",
   "execution_count": 84,
   "id": "f8fee96c",
   "metadata": {},
   "outputs": [
    {
     "data": {
      "text/plain": [
       "2000-01-31         NaN\n",
       "2000-02-29         NaN\n",
       "2000-03-31    0.459848\n",
       "2000-04-30    0.563870\n",
       "Freq: M, dtype: float64"
      ]
     },
     "execution_count": 84,
     "metadata": {},
     "output_type": "execute_result"
    }
   ],
   "source": [
    "ts.shift(2)"
   ]
  },
  {
   "cell_type": "code",
   "execution_count": 85,
   "id": "055daebf",
   "metadata": {},
   "outputs": [
    {
     "data": {
      "text/plain": [
       "2000-01-31         NaN\n",
       "2000-02-29         NaN\n",
       "2000-03-31         NaN\n",
       "2000-04-30    0.459848\n",
       "Freq: M, dtype: float64"
      ]
     },
     "execution_count": 85,
     "metadata": {},
     "output_type": "execute_result"
    }
   ],
   "source": [
    "ts.shift(3)"
   ]
  },
  {
   "cell_type": "code",
   "execution_count": 86,
   "id": "2cbb3749",
   "metadata": {},
   "outputs": [
    {
     "data": {
      "text/plain": [
       "2000-01-31    0.563870\n",
       "2000-02-29    0.123864\n",
       "2000-03-31    0.863610\n",
       "2000-04-30         NaN\n",
       "Freq: M, dtype: float64"
      ]
     },
     "execution_count": 86,
     "metadata": {},
     "output_type": "execute_result"
    }
   ],
   "source": [
    "ts.shift(-1)"
   ]
  },
  {
   "cell_type": "code",
   "execution_count": 87,
   "id": "55ffe72a",
   "metadata": {},
   "outputs": [
    {
     "data": {
      "text/plain": [
       "2000-01-31    0.459848\n",
       "2000-02-29    0.563870\n",
       "2000-03-31    0.123864\n",
       "2000-04-30    0.863610\n",
       "Freq: M, dtype: float64"
      ]
     },
     "execution_count": 87,
     "metadata": {},
     "output_type": "execute_result"
    }
   ],
   "source": [
    "ts"
   ]
  },
  {
   "cell_type": "markdown",
   "id": "278fc0d3",
   "metadata": {},
   "source": [
    "Khi chúng ta thay đổi như vậy, dữ liệu bị thiếu sẽ được đưa vào ở đầu hoặc cuối của chuỗi thời gian."
   ]
  },
  {
   "cell_type": "code",
   "execution_count": 88,
   "id": "0460a82a",
   "metadata": {},
   "outputs": [
    {
     "data": {
      "text/plain": [
       "2000-01-31         NaN\n",
       "2000-02-29   -0.540152\n",
       "2000-03-31   -0.436130\n",
       "2000-04-30   -0.876136\n",
       "Freq: M, dtype: float64"
      ]
     },
     "execution_count": 88,
     "metadata": {},
     "output_type": "execute_result"
    }
   ],
   "source": [
    "ts.shift(1) - 1"
   ]
  },
  {
   "cell_type": "code",
   "execution_count": 89,
   "id": "3a8cfee2",
   "metadata": {},
   "outputs": [
    {
     "data": {
      "text/plain": [
       "2000-01-31    0.459848\n",
       "2000-02-29    0.563870\n",
       "2000-03-31    0.123864\n",
       "2000-04-30    0.863610\n",
       "Freq: M, dtype: float64"
      ]
     },
     "execution_count": 89,
     "metadata": {},
     "output_type": "execute_result"
    }
   ],
   "source": [
    "ts"
   ]
  },
  {
   "cell_type": "code",
   "execution_count": 90,
   "id": "c263efff",
   "metadata": {},
   "outputs": [
    {
     "data": {
      "text/plain": [
       "2000-01-31         NaN\n",
       "2000-02-29    0.459848\n",
       "2000-03-31    0.563870\n",
       "2000-04-30    0.123864\n",
       "Freq: M, dtype: float64"
      ]
     },
     "execution_count": 90,
     "metadata": {},
     "output_type": "execute_result"
    }
   ],
   "source": [
    "ts.shift(1)"
   ]
  },
  {
   "cell_type": "code",
   "execution_count": 91,
   "id": "098afd3e",
   "metadata": {},
   "outputs": [
    {
     "data": {
      "text/plain": [
       "2000-01-31         NaN\n",
       "2000-02-29    0.226210\n",
       "2000-03-31   -0.780333\n",
       "2000-04-30    5.972250\n",
       "Freq: M, dtype: float64"
      ]
     },
     "execution_count": 91,
     "metadata": {},
     "output_type": "execute_result"
    }
   ],
   "source": [
    "ts/ts.shift(1)-1"
   ]
  },
  {
   "cell_type": "markdown",
   "id": "c012f5cc",
   "metadata": {},
   "source": [
    "Bởi vì sự thay đổi ngây thơ khiến chỉ mục không được sửa đổi, một số dữ liệu bị loại bỏ. Vì vậy, nếu tần suất được biết, nó có thể được chuyển sang chuyển đổi để nâng cao dấu thời gian thay vì chỉ đơn giản là dữ liệu: \"\n",
    "\n",
    "Có nghĩa là chúng ta có thể dịch truyển index \n"
   ]
  },
  {
   "cell_type": "code",
   "execution_count": 92,
   "id": "b95cddd2",
   "metadata": {},
   "outputs": [
    {
     "data": {
      "text/plain": [
       "2000-03-31    0.459848\n",
       "2000-04-30    0.563870\n",
       "2000-05-31    0.123864\n",
       "2000-06-30    0.863610\n",
       "Freq: M, dtype: float64"
      ]
     },
     "execution_count": 92,
     "metadata": {},
     "output_type": "execute_result"
    }
   ],
   "source": [
    "ts.shift(2,freq='M')"
   ]
  },
  {
   "cell_type": "code",
   "execution_count": null,
   "id": "bcfff89f",
   "metadata": {},
   "outputs": [],
   "source": []
  },
  {
   "cell_type": "code",
   "execution_count": 93,
   "id": "d1ee984f",
   "metadata": {},
   "outputs": [
    {
     "data": {
      "text/plain": [
       "2000-03-31    0.459848\n",
       "2000-04-30    0.563870\n",
       "2000-05-31    0.123864\n",
       "2000-06-30    0.863610\n",
       "Freq: M, dtype: float64"
      ]
     },
     "execution_count": 93,
     "metadata": {},
     "output_type": "execute_result"
    }
   ],
   "source": [
    "ts.shift(2,freq='M')"
   ]
  },
  {
   "cell_type": "code",
   "execution_count": 94,
   "id": "f7faff84",
   "metadata": {},
   "outputs": [
    {
     "data": {
      "text/plain": [
       "2000-03-31    0.459848\n",
       "2000-04-30    0.563870\n",
       "2000-05-31    0.123864\n",
       "2000-06-30    0.863610\n",
       "Freq: M, dtype: float64"
      ]
     },
     "execution_count": 94,
     "metadata": {},
     "output_type": "execute_result"
    }
   ],
   "source": [
    "ts.shift(2,freq='M')"
   ]
  },
  {
   "cell_type": "code",
   "execution_count": 95,
   "id": "bfc6d1dd",
   "metadata": {},
   "outputs": [
    {
     "data": {
      "text/plain": [
       "2000-03-31    0.459848\n",
       "2000-04-30    0.563870\n",
       "2000-05-31    0.123864\n",
       "2000-06-30    0.863610\n",
       "Freq: M, dtype: float64"
      ]
     },
     "execution_count": 95,
     "metadata": {},
     "output_type": "execute_result"
    }
   ],
   "source": [
    "ts.shift(2,freq='M')"
   ]
  },
  {
   "cell_type": "code",
   "execution_count": 96,
   "id": "edb07d89",
   "metadata": {},
   "outputs": [
    {
     "data": {
      "text/plain": [
       "2000-01-31    0.459848\n",
       "2000-02-29    0.563870\n",
       "2000-03-31    0.123864\n",
       "2000-04-30    0.863610\n",
       "Freq: M, dtype: float64"
      ]
     },
     "execution_count": 96,
     "metadata": {},
     "output_type": "execute_result"
    }
   ],
   "source": [
    "ts"
   ]
  },
  {
   "cell_type": "markdown",
   "id": "675b573b",
   "metadata": {},
   "source": [
    "Một tần số có thể truyền, tô nó sẽ đưa cho bạn flexibi trong xử lý đầu hoặc cuối dữ liệu"
   ]
  },
  {
   "cell_type": "code",
   "execution_count": 97,
   "id": "5d169258",
   "metadata": {},
   "outputs": [
    {
     "data": {
      "text/plain": [
       "2000-02-03    0.459848\n",
       "2000-03-03    0.563870\n",
       "2000-04-03    0.123864\n",
       "2000-05-03    0.863610\n",
       "dtype: float64"
      ]
     },
     "execution_count": 97,
     "metadata": {},
     "output_type": "execute_result"
    }
   ],
   "source": [
    "ts.shift(3,freq='D')"
   ]
  },
  {
   "cell_type": "markdown",
   "id": "0941396b",
   "metadata": {},
   "source": [
    "##### Shifting dates with offsets"
   ]
  },
  {
   "cell_type": "markdown",
   "id": "f66a8cb6",
   "metadata": {},
   "source": [
    "Pandas date offsets có thể sử dụng với datetime hoặc Timestamp object:"
   ]
  },
  {
   "cell_type": "code",
   "execution_count": 98,
   "id": "86c62c6c",
   "metadata": {},
   "outputs": [],
   "source": [
    "from pandas.tseries.offsets import Day, MonthEnd\n",
    "new = datetime(2011,11,17)"
   ]
  },
  {
   "cell_type": "code",
   "execution_count": 99,
   "id": "36371799",
   "metadata": {},
   "outputs": [
    {
     "data": {
      "text/plain": [
       "Timestamp('2021-06-04 16:51:51.143079')"
      ]
     },
     "execution_count": 99,
     "metadata": {},
     "output_type": "execute_result"
    }
   ],
   "source": [
    "now + 3 * Day()"
   ]
  },
  {
   "cell_type": "code",
   "execution_count": 100,
   "id": "6d349411",
   "metadata": {},
   "outputs": [
    {
     "data": {
      "text/plain": [
       "Timestamp('2021-07-31 16:51:51.143079')"
      ]
     },
     "execution_count": 100,
     "metadata": {},
     "output_type": "execute_result"
    }
   ],
   "source": [
    "now + MonthEnd(2)"
   ]
  },
  {
   "cell_type": "markdown",
   "id": "7dead15f",
   "metadata": {},
   "source": [
    "“Cách sử dụng hiệu quả ngày tháng một cách sáng tạo là sử dụng các phương pháp này với phân nhóm:”\n"
   ]
  },
  {
   "cell_type": "code",
   "execution_count": 101,
   "id": "98a97893",
   "metadata": {},
   "outputs": [],
   "source": [
    "ts = pd.Series(np.random.randn(20),\n",
    "              index=pd.date_range('1/15/2000',\n",
    "                                 periods=20,freq='4d'))"
   ]
  },
  {
   "cell_type": "code",
   "execution_count": 102,
   "id": "5f0f46e7",
   "metadata": {},
   "outputs": [
    {
     "data": {
      "text/plain": [
       "2000-01-15   -0.605070\n",
       "2000-01-19    1.379453\n",
       "2000-01-23   -0.590555\n",
       "2000-01-27   -0.664015\n",
       "2000-01-31   -2.186095\n",
       "2000-02-04    0.721511\n",
       "2000-02-08   -1.861466\n",
       "2000-02-12   -1.198606\n",
       "2000-02-16    1.841349\n",
       "2000-02-20   -0.078716\n",
       "2000-02-24   -0.799354\n",
       "2000-02-28   -0.359277\n",
       "2000-03-03   -0.410175\n",
       "2000-03-07    0.037562\n",
       "2000-03-11    0.982529\n",
       "2000-03-15   -0.220186\n",
       "2000-03-19    0.661673\n",
       "2000-03-23   -0.314190\n",
       "2000-03-27    0.840688\n",
       "2000-03-31   -0.482272\n",
       "Freq: 4D, dtype: float64"
      ]
     },
     "execution_count": 102,
     "metadata": {},
     "output_type": "execute_result"
    }
   ],
   "source": [
    "ts"
   ]
  },
  {
   "cell_type": "code",
   "execution_count": 103,
   "id": "dda68dac",
   "metadata": {},
   "outputs": [],
   "source": [
    "offset = MonthEnd()"
   ]
  },
  {
   "cell_type": "code",
   "execution_count": 104,
   "id": "401c5a35",
   "metadata": {},
   "outputs": [
    {
     "data": {
      "text/plain": [
       "2000-01-31   -0.533256\n",
       "2000-02-29   -0.247794\n",
       "2000-03-31    0.136954\n",
       "dtype: float64"
      ]
     },
     "execution_count": 104,
     "metadata": {},
     "output_type": "execute_result"
    }
   ],
   "source": [
    "ts.groupby(offset.rollforward).mean()"
   ]
  },
  {
   "cell_type": "markdown",
   "id": "23233432",
   "metadata": {},
   "source": [
    "1 cáh dễ nhất và nhanh hơn sử dụng `resample()`"
   ]
  },
  {
   "cell_type": "code",
   "execution_count": 105,
   "id": "2a065a8f",
   "metadata": {},
   "outputs": [
    {
     "data": {
      "text/plain": [
       "2000-01-31   -0.533256\n",
       "2000-02-29   -0.247794\n",
       "2000-03-31    0.136954\n",
       "Freq: M, dtype: float64"
      ]
     },
     "execution_count": 105,
     "metadata": {},
     "output_type": "execute_result"
    }
   ],
   "source": [
    "ts.resample('M').mean()"
   ]
  },
  {
   "cell_type": "markdown",
   "id": "679bc4f9",
   "metadata": {},
   "source": [
    "### 11.4 Time Zone Handling"
   ]
  },
  {
   "cell_type": "markdown",
   "id": "a6c7b0db",
   "metadata": {},
   "source": [
    "Làm việc với time zones, nhìn chung một vấn đề khó khăn với dev xử lý việc này"
   ]
  },
  {
   "cell_type": "code",
   "execution_count": 106,
   "id": "31c3e9c9",
   "metadata": {},
   "outputs": [],
   "source": [
    "import pytz"
   ]
  },
  {
   "cell_type": "code",
   "execution_count": 107,
   "id": "8f99d852",
   "metadata": {},
   "outputs": [
    {
     "data": {
      "text/plain": [
       "['US/Eastern', 'US/Hawaii', 'US/Mountain', 'US/Pacific', 'UTC']"
      ]
     },
     "execution_count": 107,
     "metadata": {},
     "output_type": "execute_result"
    }
   ],
   "source": [
    "pytz.common_timezones[-5:]"
   ]
  },
  {
   "cell_type": "code",
   "execution_count": 108,
   "id": "56e8a6ce",
   "metadata": {},
   "outputs": [],
   "source": [
    "tz = pytz.timezone('Asia/Ho_Chi_Minh')"
   ]
  },
  {
   "cell_type": "code",
   "execution_count": 109,
   "id": "bdf6cca8",
   "metadata": {},
   "outputs": [
    {
     "data": {
      "text/plain": [
       "<DstTzInfo 'Asia/Ho_Chi_Minh' LMT+7:07:00 STD>"
      ]
     },
     "execution_count": 109,
     "metadata": {},
     "output_type": "execute_result"
    }
   ],
   "source": [
    "tz"
   ]
  },
  {
   "cell_type": "markdown",
   "id": "167ad214",
   "metadata": {},
   "source": [
    "### Time Zone Localiztion and Conversion"
   ]
  },
  {
   "cell_type": "markdown",
   "id": "4c46ce0a",
   "metadata": {},
   "source": [
    "Bởi mặc định, time seris in `pandas` là time ."
   ]
  },
  {
   "cell_type": "code",
   "execution_count": 110,
   "id": "90439363",
   "metadata": {},
   "outputs": [],
   "source": [
    "rng = pd.date_range('3/9/2012 9:30'\n",
    "                    ,periods=6\n",
    "                    ,freq='D')"
   ]
  },
  {
   "cell_type": "code",
   "execution_count": 111,
   "id": "1bf84341",
   "metadata": {},
   "outputs": [],
   "source": [
    "ts = pd.Series(np.random.randn(len(rng))\n",
    "                               ,index=rng)"
   ]
  },
  {
   "cell_type": "code",
   "execution_count": 112,
   "id": "6b0c1a9d",
   "metadata": {},
   "outputs": [
    {
     "data": {
      "text/plain": [
       "2012-03-09 09:30:00    1.778559\n",
       "2012-03-10 09:30:00   -0.403530\n",
       "2012-03-11 09:30:00   -0.392140\n",
       "2012-03-12 09:30:00   -0.131315\n",
       "2012-03-13 09:30:00    0.136329\n",
       "2012-03-14 09:30:00    0.145110\n",
       "Freq: D, dtype: float64"
      ]
     },
     "execution_count": 112,
     "metadata": {},
     "output_type": "execute_result"
    }
   ],
   "source": [
    "ts"
   ]
  },
  {
   "cell_type": "code",
   "execution_count": 113,
   "id": "f80a5272",
   "metadata": {},
   "outputs": [
    {
     "name": "stdout",
     "output_type": "stream",
     "text": [
      "None\n"
     ]
    }
   ],
   "source": [
    "print(ts.index.tz)"
   ]
  },
  {
   "cell_type": "markdown",
   "id": "28292bb1",
   "metadata": {},
   "source": [
    "date ranges có thể tạo với time zone set: \n",
    "    "
   ]
  },
  {
   "cell_type": "code",
   "execution_count": 114,
   "id": "6eff3399",
   "metadata": {},
   "outputs": [
    {
     "data": {
      "text/plain": [
       "DatetimeIndex(['2012-03-09 09:30:00+00:00', '2012-03-10 09:30:00+00:00',\n",
       "               '2012-03-11 09:30:00+00:00', '2012-03-12 09:30:00+00:00',\n",
       "               '2012-03-13 09:30:00+00:00', '2012-03-14 09:30:00+00:00',\n",
       "               '2012-03-15 09:30:00+00:00', '2012-03-16 09:30:00+00:00',\n",
       "               '2012-03-17 09:30:00+00:00', '2012-03-18 09:30:00+00:00'],\n",
       "              dtype='datetime64[ns, UTC]', freq='D')"
      ]
     },
     "execution_count": 114,
     "metadata": {},
     "output_type": "execute_result"
    }
   ],
   "source": [
    "pd.date_range('3/9/2012 9:30',periods=10,freq='D',tz='UTC')"
   ]
  },
  {
   "cell_type": "code",
   "execution_count": 115,
   "id": "ddad00bb",
   "metadata": {},
   "outputs": [
    {
     "data": {
      "text/plain": [
       "2012-03-09 09:30:00    1.778559\n",
       "2012-03-10 09:30:00   -0.403530\n",
       "2012-03-11 09:30:00   -0.392140\n",
       "2012-03-12 09:30:00   -0.131315\n",
       "2012-03-13 09:30:00    0.136329\n",
       "2012-03-14 09:30:00    0.145110\n",
       "Freq: D, dtype: float64"
      ]
     },
     "execution_count": 115,
     "metadata": {},
     "output_type": "execute_result"
    }
   ],
   "source": [
    "ts"
   ]
  },
  {
   "cell_type": "markdown",
   "id": "f79a082e",
   "metadata": {},
   "source": [
    "Convert from native to `localized` là xử lý bở `tz_localize()`"
   ]
  },
  {
   "cell_type": "code",
   "execution_count": 116,
   "id": "6ff23742",
   "metadata": {},
   "outputs": [
    {
     "data": {
      "text/plain": [
       "2012-03-09 09:30:00    1.778559\n",
       "2012-03-10 09:30:00   -0.403530\n",
       "2012-03-11 09:30:00   -0.392140\n",
       "2012-03-12 09:30:00   -0.131315\n",
       "2012-03-13 09:30:00    0.136329\n",
       "2012-03-14 09:30:00    0.145110\n",
       "Freq: D, dtype: float64"
      ]
     },
     "execution_count": 116,
     "metadata": {},
     "output_type": "execute_result"
    }
   ],
   "source": [
    "ts"
   ]
  },
  {
   "cell_type": "code",
   "execution_count": 117,
   "id": "6c3050dd",
   "metadata": {},
   "outputs": [],
   "source": [
    "ts_utc = ts.tz_localize('UTC')"
   ]
  },
  {
   "cell_type": "code",
   "execution_count": 118,
   "id": "2ba6c220",
   "metadata": {},
   "outputs": [
    {
     "data": {
      "text/plain": [
       "array([datetime.time(9, 30, tzinfo=<UTC>),\n",
       "       datetime.time(9, 30, tzinfo=<UTC>),\n",
       "       datetime.time(9, 30, tzinfo=<UTC>),\n",
       "       datetime.time(9, 30, tzinfo=<UTC>),\n",
       "       datetime.time(9, 30, tzinfo=<UTC>),\n",
       "       datetime.time(9, 30, tzinfo=<UTC>)], dtype=object)"
      ]
     },
     "execution_count": 118,
     "metadata": {},
     "output_type": "execute_result"
    }
   ],
   "source": [
    "ts_utc.index.timetz"
   ]
  },
  {
   "cell_type": "code",
   "execution_count": 119,
   "id": "9913e420",
   "metadata": {},
   "outputs": [
    {
     "data": {
      "text/plain": [
       "<UTC>"
      ]
     },
     "execution_count": 119,
     "metadata": {},
     "output_type": "execute_result"
    }
   ],
   "source": [
    "ts_utc.index.tz"
   ]
  },
  {
   "cell_type": "markdown",
   "id": "620f4f31",
   "metadata": {},
   "source": [
    "Mình có thể chuyển hoá cái time zone từ mình sang các time zone khác bởi sử dụng `tz_convert()`"
   ]
  },
  {
   "cell_type": "code",
   "execution_count": 120,
   "id": "c882d821",
   "metadata": {},
   "outputs": [
    {
     "data": {
      "text/plain": [
       "2012-03-09 04:30:00-05:00    1.778559\n",
       "2012-03-10 04:30:00-05:00   -0.403530\n",
       "2012-03-11 05:30:00-04:00   -0.392140\n",
       "2012-03-12 05:30:00-04:00   -0.131315\n",
       "2012-03-13 05:30:00-04:00    0.136329\n",
       "2012-03-14 05:30:00-04:00    0.145110\n",
       "Freq: D, dtype: float64"
      ]
     },
     "execution_count": 120,
     "metadata": {},
     "output_type": "execute_result"
    }
   ],
   "source": [
    "ts_utc.tz_convert('America/New_York')"
   ]
  },
  {
   "cell_type": "code",
   "execution_count": 121,
   "id": "33ea3192",
   "metadata": {},
   "outputs": [
    {
     "data": {
      "text/plain": [
       "2012-03-09 09:30:00    1.778559\n",
       "2012-03-10 09:30:00   -0.403530\n",
       "2012-03-11 09:30:00   -0.392140\n",
       "2012-03-12 09:30:00   -0.131315\n",
       "2012-03-13 09:30:00    0.136329\n",
       "2012-03-14 09:30:00    0.145110\n",
       "Freq: D, dtype: float64"
      ]
     },
     "execution_count": 121,
     "metadata": {},
     "output_type": "execute_result"
    }
   ],
   "source": [
    "ts"
   ]
  },
  {
   "cell_type": "markdown",
   "id": "c3e52880",
   "metadata": {},
   "source": [
    "Trong trường hợp các thời gian trước của thời gian straddels a DST transition trong **Americal/New_York** time zone, chúng ta có thể `localize to EST` bởi converr to"
   ]
  },
  {
   "cell_type": "code",
   "execution_count": 122,
   "id": "b6cd41f7",
   "metadata": {},
   "outputs": [],
   "source": [
    "ts_eastern = ts.tz_localize('America/New_York')"
   ]
  },
  {
   "cell_type": "code",
   "execution_count": 123,
   "id": "0214c7cb",
   "metadata": {},
   "outputs": [
    {
     "data": {
      "text/plain": [
       "2012-03-09 09:30:00-05:00    1.778559\n",
       "2012-03-10 09:30:00-05:00   -0.403530\n",
       "2012-03-11 09:30:00-04:00   -0.392140\n",
       "2012-03-12 09:30:00-04:00   -0.131315\n",
       "2012-03-13 09:30:00-04:00    0.136329\n",
       "2012-03-14 09:30:00-04:00    0.145110\n",
       "dtype: float64"
      ]
     },
     "execution_count": 123,
     "metadata": {},
     "output_type": "execute_result"
    }
   ],
   "source": [
    "ts_eastern"
   ]
  },
  {
   "cell_type": "code",
   "execution_count": 124,
   "id": "1c041b8a",
   "metadata": {},
   "outputs": [
    {
     "data": {
      "text/plain": [
       "2012-03-09 14:30:00+00:00    1.778559\n",
       "2012-03-10 14:30:00+00:00   -0.403530\n",
       "2012-03-11 13:30:00+00:00   -0.392140\n",
       "2012-03-12 13:30:00+00:00   -0.131315\n",
       "2012-03-13 13:30:00+00:00    0.136329\n",
       "2012-03-14 13:30:00+00:00    0.145110\n",
       "dtype: float64"
      ]
     },
     "execution_count": 124,
     "metadata": {},
     "output_type": "execute_result"
    }
   ],
   "source": [
    "ts_eastern.tz_convert('UTC')"
   ]
  },
  {
   "cell_type": "code",
   "execution_count": 125,
   "id": "6c30dec1",
   "metadata": {},
   "outputs": [
    {
     "data": {
      "text/plain": [
       "2012-03-09 15:30:00+01:00    1.778559\n",
       "2012-03-10 15:30:00+01:00   -0.403530\n",
       "2012-03-11 14:30:00+01:00   -0.392140\n",
       "2012-03-12 14:30:00+01:00   -0.131315\n",
       "2012-03-13 14:30:00+01:00    0.136329\n",
       "2012-03-14 14:30:00+01:00    0.145110\n",
       "dtype: float64"
      ]
     },
     "execution_count": 125,
     "metadata": {},
     "output_type": "execute_result"
    }
   ],
   "source": [
    "ts_eastern.tz_convert('Europe/Berlin')"
   ]
  },
  {
   "cell_type": "markdown",
   "id": "c6d084f8",
   "metadata": {},
   "source": [
    "`tz_localize` và `tz_convert` cũng là 1 instance của method `DatetimeIndex()`"
   ]
  },
  {
   "cell_type": "code",
   "execution_count": 126,
   "id": "c9fbc80b",
   "metadata": {},
   "outputs": [
    {
     "data": {
      "text/plain": [
       "DatetimeIndex(['2012-03-09 09:30:00+07:00', '2012-03-10 09:30:00+07:00',\n",
       "               '2012-03-11 09:30:00+07:00', '2012-03-12 09:30:00+07:00',\n",
       "               '2012-03-13 09:30:00+07:00', '2012-03-14 09:30:00+07:00'],\n",
       "              dtype='datetime64[ns, Asia/Ho_Chi_Minh]', freq=None)"
      ]
     },
     "execution_count": 126,
     "metadata": {},
     "output_type": "execute_result"
    }
   ],
   "source": [
    "ts.index.tz_localize('Asia/Ho_Chi_Minh')"
   ]
  },
  {
   "cell_type": "markdown",
   "id": "2e7aff21",
   "metadata": {},
   "source": [
    "#### Operations with Time Zone-Aware Timestamp Objects"
   ]
  },
  {
   "cell_type": "markdown",
   "id": "5bedd129",
   "metadata": {},
   "source": [
    "Giống với time series và date ranges, **Timestamp** đơn giản chuyển từ *naive to time  tới localized* và convert chúng to from one tỉm zone to another: "
   ]
  },
  {
   "cell_type": "code",
   "execution_count": 127,
   "id": "99d6d7b7",
   "metadata": {},
   "outputs": [
    {
     "data": {
      "text/plain": [
       "Timestamp('2011-03-12 04:00:00')"
      ]
     },
     "execution_count": 127,
     "metadata": {},
     "output_type": "execute_result"
    }
   ],
   "source": [
    "stamp = pd.Timestamp('2011-03-12 04:00')\n",
    "stamp"
   ]
  },
  {
   "cell_type": "code",
   "execution_count": 128,
   "id": "f5a9b170",
   "metadata": {},
   "outputs": [],
   "source": [
    "stamp_utc = stamp.tz_localize('utc')"
   ]
  },
  {
   "cell_type": "code",
   "execution_count": 129,
   "id": "912535ac",
   "metadata": {},
   "outputs": [
    {
     "data": {
      "text/plain": [
       "Timestamp('2011-03-12 04:00:00+0000', tz='UTC')"
      ]
     },
     "execution_count": 129,
     "metadata": {},
     "output_type": "execute_result"
    }
   ],
   "source": [
    "stamp_utc\n"
   ]
  },
  {
   "cell_type": "code",
   "execution_count": 130,
   "id": "76764190",
   "metadata": {},
   "outputs": [
    {
     "data": {
      "text/plain": [
       "Timestamp('2011-03-11 23:00:00-0500', tz='America/New_York')"
      ]
     },
     "execution_count": 130,
     "metadata": {},
     "output_type": "execute_result"
    }
   ],
   "source": [
    "stamp_utc.tz_convert('America/New_York')"
   ]
  },
  {
   "cell_type": "markdown",
   "id": "7d896f87",
   "metadata": {},
   "source": [
    "Bạn có thể truyển a **time zone** khi tạo tạo the *Timestamp*:"
   ]
  },
  {
   "cell_type": "code",
   "execution_count": 131,
   "id": "938c949e",
   "metadata": {},
   "outputs": [],
   "source": [
    "stamp_moscow = pd.Timestamp('2011-03-12 04:00'\n",
    "                           ,tz='Europe/Moscow')"
   ]
  },
  {
   "cell_type": "code",
   "execution_count": 132,
   "id": "ebab74da",
   "metadata": {},
   "outputs": [
    {
     "data": {
      "text/plain": [
       "Timestamp('2011-03-12 04:00:00+0300', tz='Europe/Moscow')"
      ]
     },
     "execution_count": 132,
     "metadata": {},
     "output_type": "execute_result"
    }
   ],
   "source": [
    "stamp_moscow"
   ]
  },
  {
   "cell_type": "markdown",
   "id": "3f5c612f",
   "metadata": {},
   "source": [
    "có giá trị value để từ UTC **January 1,1970**"
   ]
  },
  {
   "cell_type": "code",
   "execution_count": 133,
   "id": "f3020906",
   "metadata": {},
   "outputs": [
    {
     "data": {
      "text/plain": [
       "1299902400000000000"
      ]
     },
     "execution_count": 133,
     "metadata": {},
     "output_type": "execute_result"
    }
   ],
   "source": [
    "stamp_utc.value"
   ]
  },
  {
   "cell_type": "code",
   "execution_count": 134,
   "id": "4488324b",
   "metadata": {},
   "outputs": [
    {
     "data": {
      "text/plain": [
       "1299902400000000000"
      ]
     },
     "execution_count": 134,
     "metadata": {},
     "output_type": "execute_result"
    }
   ],
   "source": [
    "stamp_utc.tz_convert('America/New_York').value"
   ]
  },
  {
   "cell_type": "markdown",
   "id": "6c46f54e",
   "metadata": {},
   "source": [
    "Chỗ này là 30p trong ánh sáng ntn ý mình k hiểu chỗ này luôn"
   ]
  },
  {
   "cell_type": "code",
   "execution_count": 135,
   "id": "bed76544",
   "metadata": {},
   "outputs": [],
   "source": [
    "from pandas.tseries.offsets import Hour\n",
    "stamp = pd.Timestamp('2012-03-12 01:30',tz='Us/Eastern')"
   ]
  },
  {
   "cell_type": "code",
   "execution_count": 136,
   "id": "5b27b293",
   "metadata": {},
   "outputs": [
    {
     "data": {
      "text/plain": [
       "Timestamp('2012-03-12 01:30:00-0400', tz='US/Eastern')"
      ]
     },
     "execution_count": 136,
     "metadata": {},
     "output_type": "execute_result"
    }
   ],
   "source": [
    "stamp"
   ]
  },
  {
   "cell_type": "code",
   "execution_count": 137,
   "id": "ebb71bea",
   "metadata": {},
   "outputs": [
    {
     "data": {
      "text/plain": [
       "Timestamp('2012-03-12 03:30:00-0400', tz='US/Eastern')"
      ]
     },
     "execution_count": 137,
     "metadata": {},
     "output_type": "execute_result"
    }
   ],
   "source": [
    "stamp+ 2*Hour()"
   ]
  },
  {
   "cell_type": "markdown",
   "id": "7dc42631",
   "metadata": {},
   "source": [
    "### Operations Between Different Time Zones\n",
    "\n",
    "Nếu có 2 time series với different time zones muốn combine, kết quả sẽ là UTC, vì timestamp vì timestamps đã stored ở dưới UTC,"
   ]
  },
  {
   "cell_type": "code",
   "execution_count": 138,
   "id": "49907cc0",
   "metadata": {},
   "outputs": [],
   "source": [
    "rng = pd.date_range('3/7/2012 9:30',periods=10,freq='B')"
   ]
  },
  {
   "cell_type": "code",
   "execution_count": 139,
   "id": "fbb3b986",
   "metadata": {},
   "outputs": [
    {
     "data": {
      "text/plain": [
       "DatetimeIndex(['2012-03-07 09:30:00', '2012-03-08 09:30:00',\n",
       "               '2012-03-09 09:30:00', '2012-03-12 09:30:00',\n",
       "               '2012-03-13 09:30:00', '2012-03-14 09:30:00',\n",
       "               '2012-03-15 09:30:00', '2012-03-16 09:30:00',\n",
       "               '2012-03-19 09:30:00', '2012-03-20 09:30:00'],\n",
       "              dtype='datetime64[ns]', freq='B')"
      ]
     },
     "execution_count": 139,
     "metadata": {},
     "output_type": "execute_result"
    }
   ],
   "source": [
    "rng"
   ]
  },
  {
   "cell_type": "code",
   "execution_count": 140,
   "id": "eafe357e",
   "metadata": {},
   "outputs": [],
   "source": [
    "ts = pd.Series(np.random.randn(len(rng)),index=rng)"
   ]
  },
  {
   "cell_type": "code",
   "execution_count": 141,
   "id": "23cd4b3d",
   "metadata": {},
   "outputs": [
    {
     "data": {
      "text/plain": [
       "2012-03-07 09:30:00   -1.580537\n",
       "2012-03-08 09:30:00   -0.026064\n",
       "2012-03-09 09:30:00   -1.124713\n",
       "2012-03-12 09:30:00   -0.529984\n",
       "2012-03-13 09:30:00   -1.466401\n",
       "2012-03-14 09:30:00   -0.123525\n",
       "2012-03-15 09:30:00   -0.868984\n",
       "2012-03-16 09:30:00   -0.889422\n",
       "2012-03-19 09:30:00    1.314851\n",
       "2012-03-20 09:30:00    1.396481\n",
       "Freq: B, dtype: float64"
      ]
     },
     "execution_count": 141,
     "metadata": {},
     "output_type": "execute_result"
    }
   ],
   "source": [
    "ts"
   ]
  },
  {
   "cell_type": "markdown",
   "id": "3e52e919",
   "metadata": {},
   "source": [
    "\n",
    "Chuyển time sang *Europe Londo 0->7*"
   ]
  },
  {
   "cell_type": "code",
   "execution_count": 142,
   "id": "8d2f99c1",
   "metadata": {},
   "outputs": [],
   "source": [
    "ts1 = ts[:7].tz_localize('Europe/London')"
   ]
  },
  {
   "cell_type": "code",
   "execution_count": 143,
   "id": "4eaddd2b",
   "metadata": {},
   "outputs": [],
   "source": [
    "ts2 = ts[2:].tz_localize('Europe/Moscow')"
   ]
  },
  {
   "cell_type": "code",
   "execution_count": 144,
   "id": "15cff900",
   "metadata": {},
   "outputs": [],
   "source": [
    "result = ts1 + ts2 "
   ]
  },
  {
   "cell_type": "code",
   "execution_count": 145,
   "id": "a4e31743",
   "metadata": {},
   "outputs": [
    {
     "data": {
      "text/plain": [
       "DatetimeIndex(['2012-03-07 09:30:00+00:00', '2012-03-08 09:30:00+00:00',\n",
       "               '2012-03-09 05:30:00+00:00', '2012-03-09 09:30:00+00:00',\n",
       "               '2012-03-12 05:30:00+00:00', '2012-03-12 09:30:00+00:00',\n",
       "               '2012-03-13 05:30:00+00:00', '2012-03-13 09:30:00+00:00',\n",
       "               '2012-03-14 05:30:00+00:00', '2012-03-14 09:30:00+00:00',\n",
       "               '2012-03-15 05:30:00+00:00', '2012-03-15 09:30:00+00:00',\n",
       "               '2012-03-16 05:30:00+00:00', '2012-03-19 05:30:00+00:00',\n",
       "               '2012-03-20 05:30:00+00:00'],\n",
       "              dtype='datetime64[ns, UTC]', freq=None)"
      ]
     },
     "execution_count": 145,
     "metadata": {},
     "output_type": "execute_result"
    }
   ],
   "source": [
    "result.index"
   ]
  },
  {
   "cell_type": "markdown",
   "id": "471e2d25",
   "metadata": {},
   "source": [
    "### 11.5 Periods and Period Arithmetic \n",
    "Thời kỳ đại diện timesspans, như ngày, tháng , 1/4 hoặc year. The Period classđạy diện kiểu dữ liệu , yêu cầu 1 srting hoặc int "
   ]
  },
  {
   "cell_type": "code",
   "execution_count": 146,
   "id": "1d5fb8d9",
   "metadata": {},
   "outputs": [],
   "source": [
    "p = pd.Period(2007,freq='A-DEC')"
   ]
  },
  {
   "cell_type": "code",
   "execution_count": 147,
   "id": "25772dab",
   "metadata": {},
   "outputs": [
    {
     "data": {
      "text/plain": [
       "Period('2007', 'A-DEC')"
      ]
     },
     "execution_count": 147,
     "metadata": {},
     "output_type": "execute_result"
    }
   ],
   "source": [
    "p"
   ]
  },
  {
   "cell_type": "markdown",
   "id": "243cdf93",
   "metadata": {},
   "source": [
    "Trong tường hợp, the Period object đại diện full timess từ *Januray,1,2007 -> December 31,2007*"
   ]
  },
  {
   "cell_type": "code",
   "execution_count": 148,
   "id": "506e48ce",
   "metadata": {},
   "outputs": [
    {
     "data": {
      "text/plain": [
       "Period('2012', 'A-DEC')"
      ]
     },
     "execution_count": 148,
     "metadata": {},
     "output_type": "execute_result"
    }
   ],
   "source": [
    "p+5"
   ]
  },
  {
   "cell_type": "code",
   "execution_count": 149,
   "id": "ea022692",
   "metadata": {},
   "outputs": [
    {
     "data": {
      "text/plain": [
       "Period('2005', 'A-DEC')"
      ]
     },
     "execution_count": 149,
     "metadata": {},
     "output_type": "execute_result"
    }
   ],
   "source": [
    "p-2"
   ]
  },
  {
   "cell_type": "markdown",
   "id": "41896c34",
   "metadata": {},
   "source": [
    "Nếu two periods có cùng tần số, number of units betwwen them:"
   ]
  },
  {
   "cell_type": "code",
   "execution_count": 150,
   "id": "d0ed3156",
   "metadata": {},
   "outputs": [
    {
     "data": {
      "text/plain": [
       "<7 * YearEnds: month=12>"
      ]
     },
     "execution_count": 150,
     "metadata": {},
     "output_type": "execute_result"
    }
   ],
   "source": [
    "pd.Period('2014',freq='A-DEC') - p"
   ]
  },
  {
   "cell_type": "markdown",
   "id": "31636d0d",
   "metadata": {},
   "source": [
    "Regular ranges của periods có thể constructed with `period_range` fnc: "
   ]
  },
  {
   "cell_type": "code",
   "execution_count": 151,
   "id": "f4dacdcc",
   "metadata": {},
   "outputs": [],
   "source": [
    "rng = pd.period_range('2000-01-01','2000-06-30',freq='M')"
   ]
  },
  {
   "cell_type": "code",
   "execution_count": 152,
   "id": "1686e2d8",
   "metadata": {},
   "outputs": [
    {
     "data": {
      "text/plain": [
       "PeriodIndex(['2000-01', '2000-02', '2000-03', '2000-04', '2000-05', '2000-06'], dtype='period[M]', freq='M')"
      ]
     },
     "execution_count": 152,
     "metadata": {},
     "output_type": "execute_result"
    }
   ],
   "source": [
    "rng"
   ]
  },
  {
   "cell_type": "code",
   "execution_count": 153,
   "id": "742aeb34",
   "metadata": {},
   "outputs": [
    {
     "data": {
      "text/plain": [
       "2000-01   -0.091902\n",
       "2000-02   -0.760514\n",
       "2000-03   -0.797456\n",
       "2000-04   -0.028333\n",
       "2000-05   -0.910112\n",
       "2000-06    0.037410\n",
       "Freq: M, dtype: float64"
      ]
     },
     "execution_count": 153,
     "metadata": {},
     "output_type": "execute_result"
    }
   ],
   "source": [
    "pd.Series(np.random.randn(6),index=rng)"
   ]
  },
  {
   "cell_type": "markdown",
   "id": "2f154623",
   "metadata": {},
   "source": [
    "#### Period Frequency Conversion \n",
    "Periods and PeriodIndex object có thể chuyển tới tần suất khác với `asfreq()` method. Như một ví dụ, giả sử chúng ta có annual period và muốn chuyển nó vaof thasng  và bắt đầu startt hoặc end ở year"
   ]
  },
  {
   "cell_type": "code",
   "execution_count": 154,
   "id": "065912e8",
   "metadata": {},
   "outputs": [],
   "source": [
    "p = pd.Period('2007',freq='A-DEC')"
   ]
  },
  {
   "cell_type": "code",
   "execution_count": 155,
   "id": "613c8ac4",
   "metadata": {},
   "outputs": [
    {
     "data": {
      "text/plain": [
       "Period('2007', 'A-DEC')"
      ]
     },
     "execution_count": 155,
     "metadata": {},
     "output_type": "execute_result"
    }
   ],
   "source": [
    "p"
   ]
  },
  {
   "cell_type": "code",
   "execution_count": 156,
   "id": "da1c7cdd",
   "metadata": {},
   "outputs": [
    {
     "data": {
      "text/plain": [
       "Period('2007-01', 'M')"
      ]
     },
     "execution_count": 156,
     "metadata": {},
     "output_type": "execute_result"
    }
   ],
   "source": [
    "p.asfreq('M',how='start')"
   ]
  },
  {
   "cell_type": "code",
   "execution_count": 157,
   "id": "603bf997",
   "metadata": {},
   "outputs": [
    {
     "data": {
      "text/plain": [
       "Period('2007-12', 'M')"
      ]
     },
     "execution_count": 157,
     "metadata": {},
     "output_type": "execute_result"
    }
   ],
   "source": [
    "p.asfreq('M',how='end')"
   ]
  },
  {
   "cell_type": "markdown",
   "id": "1ed69212",
   "metadata": {},
   "source": [
    "Bạn có thể nghĩ Period('2007','A-DEC') như 1 con trỏ và chia theo các tháng,Đối một một tài chính nó kết thúc trên 1 tháng khác tháng 12,"
   ]
  },
  {
   "cell_type": "code",
   "execution_count": 158,
   "id": "5de2cc0f",
   "metadata": {},
   "outputs": [],
   "source": [
    "p = pd.Period('2007',freq='A-JUN')"
   ]
  },
  {
   "cell_type": "code",
   "execution_count": 159,
   "id": "b01ced15",
   "metadata": {},
   "outputs": [
    {
     "data": {
      "text/plain": [
       "Period('2007', 'A-JUN')"
      ]
     },
     "execution_count": 159,
     "metadata": {},
     "output_type": "execute_result"
    }
   ],
   "source": [
    "p"
   ]
  },
  {
   "cell_type": "code",
   "execution_count": 160,
   "id": "9d13be07",
   "metadata": {},
   "outputs": [
    {
     "data": {
      "text/plain": [
       "Period('2006-07', 'M')"
      ]
     },
     "execution_count": 160,
     "metadata": {},
     "output_type": "execute_result"
    }
   ],
   "source": [
    "p.asfreq('M','start')"
   ]
  },
  {
   "cell_type": "code",
   "execution_count": 161,
   "id": "139a412e",
   "metadata": {},
   "outputs": [
    {
     "data": {
      "text/plain": [
       "Period('2007-06', 'M')"
      ]
     },
     "execution_count": 161,
     "metadata": {},
     "output_type": "execute_result"
    }
   ],
   "source": [
    "p.asfreq('M','end')"
   ]
  },
  {
   "cell_type": "markdown",
   "id": "23c9d182",
   "metadata": {},
   "source": [
    "Khi bạn chuyển từ tần số cao tới tần số thấp, pandas sẽ xác dịnh superperiod , nghĩa là thằng nào to thì chuyển thì sẽ lấy ví dụ (mình đọc cũng k hiểu đoạn này huhu ^^)"
   ]
  },
  {
   "cell_type": "code",
   "execution_count": 162,
   "id": "a50de45b",
   "metadata": {},
   "outputs": [],
   "source": [
    "p = pd.Period('Aug-2007','M')"
   ]
  },
  {
   "cell_type": "code",
   "execution_count": 163,
   "id": "f60e3d98",
   "metadata": {},
   "outputs": [
    {
     "data": {
      "text/plain": [
       "Period('2007-08', 'M')"
      ]
     },
     "execution_count": 163,
     "metadata": {},
     "output_type": "execute_result"
    }
   ],
   "source": [
    "p"
   ]
  },
  {
   "cell_type": "code",
   "execution_count": 164,
   "id": "f363ec8b",
   "metadata": {},
   "outputs": [
    {
     "data": {
      "text/plain": [
       "Period('2008', 'A-JUN')"
      ]
     },
     "execution_count": 164,
     "metadata": {},
     "output_type": "execute_result"
    }
   ],
   "source": [
    "p.asfreq('A-JUN')"
   ]
  },
  {
   "cell_type": "code",
   "execution_count": 165,
   "id": "4e9837cc",
   "metadata": {},
   "outputs": [],
   "source": [
    "rng =  pd.period_range('2006','2009',freq='A-DEC')"
   ]
  },
  {
   "cell_type": "code",
   "execution_count": 166,
   "id": "8cfc413e",
   "metadata": {},
   "outputs": [],
   "source": [
    "ts= pd.Series(np.random.randn(len(rng)),index=rng)"
   ]
  },
  {
   "cell_type": "code",
   "execution_count": 167,
   "id": "242be504",
   "metadata": {},
   "outputs": [
    {
     "data": {
      "text/plain": [
       "2006   -1.391122\n",
       "2007    0.768859\n",
       "2008    0.329940\n",
       "2009   -0.750720\n",
       "Freq: A-DEC, dtype: float64"
      ]
     },
     "execution_count": 167,
     "metadata": {},
     "output_type": "execute_result"
    }
   ],
   "source": [
    "ts"
   ]
  },
  {
   "cell_type": "code",
   "execution_count": 168,
   "id": "0cd05217",
   "metadata": {},
   "outputs": [
    {
     "data": {
      "text/plain": [
       "2006-01   -1.391122\n",
       "2007-01    0.768859\n",
       "2008-01    0.329940\n",
       "2009-01   -0.750720\n",
       "Freq: M, dtype: float64"
      ]
     },
     "execution_count": 168,
     "metadata": {},
     "output_type": "execute_result"
    }
   ],
   "source": [
    "ts.asfreq('M',how='S')"
   ]
  },
  {
   "cell_type": "markdown",
   "id": "cac85868",
   "metadata": {},
   "source": [
    "'B' để làm cho cái frequent tính toán cuối năm cho bussiines"
   ]
  },
  {
   "cell_type": "code",
   "execution_count": 169,
   "id": "b6311315",
   "metadata": {},
   "outputs": [
    {
     "data": {
      "text/plain": [
       "2006-12-29   -1.391122\n",
       "2007-12-31    0.768859\n",
       "2008-12-31    0.329940\n",
       "2009-12-31   -0.750720\n",
       "Freq: B, dtype: float64"
      ]
     },
     "execution_count": 169,
     "metadata": {},
     "output_type": "execute_result"
    }
   ],
   "source": [
    "ts.asfreq('B',how='end')"
   ]
  },
  {
   "cell_type": "markdown",
   "id": "a28f3d55",
   "metadata": {},
   "source": [
    "#### Các quý trong Period Frequencies"
   ]
  },
  {
   "cell_type": "markdown",
   "id": "795e34ba",
   "metadata": {},
   "source": [
    "Quarterly data là tiêu chuẩn trong kế toán tài chính và lĩnh vực khác "
   ]
  },
  {
   "cell_type": "code",
   "execution_count": 170,
   "id": "0a732c55",
   "metadata": {},
   "outputs": [],
   "source": [
    "p = pd.Period('2012Q4',freq='Q-JAN')"
   ]
  },
  {
   "cell_type": "code",
   "execution_count": 171,
   "id": "d863e33e",
   "metadata": {},
   "outputs": [
    {
     "data": {
      "text/plain": [
       "Period('2012Q4', 'Q-JAN')"
      ]
     },
     "execution_count": 171,
     "metadata": {},
     "output_type": "execute_result"
    }
   ],
   "source": [
    "p"
   ]
  },
  {
   "cell_type": "markdown",
   "id": "4175113e",
   "metadata": {},
   "source": [
    "Có thể các loại quý khác nhau convention"
   ]
  },
  {
   "cell_type": "code",
   "execution_count": 172,
   "id": "bb68e7e2",
   "metadata": {},
   "outputs": [
    {
     "data": {
      "text/plain": [
       "Period('2011-11-01', 'D')"
      ]
     },
     "execution_count": 172,
     "metadata": {},
     "output_type": "execute_result"
    }
   ],
   "source": [
    "p.asfreq('D','start')"
   ]
  },
  {
   "cell_type": "code",
   "execution_count": 173,
   "id": "76f71387",
   "metadata": {},
   "outputs": [
    {
     "data": {
      "text/plain": [
       "Period('2012-01-31', 'D')"
      ]
     },
     "execution_count": 173,
     "metadata": {},
     "output_type": "execute_result"
    }
   ],
   "source": [
    "p.asfreq('D','end')"
   ]
  },
  {
   "cell_type": "code",
   "execution_count": 174,
   "id": "c528da97",
   "metadata": {},
   "outputs": [
    {
     "data": {
      "text/plain": [
       "Period('2012Q4', 'Q-JAN')"
      ]
     },
     "execution_count": 174,
     "metadata": {},
     "output_type": "execute_result"
    }
   ],
   "source": [
    "p"
   ]
  },
  {
   "cell_type": "markdown",
   "id": "cea7659f",
   "metadata": {},
   "source": [
    "Do đó để thực hiện phép thính chu kỳ dễ dàng,\n",
    "ví dụ để lấy thời gian là 4 giờ chiều trong 1 ngày làm vuệc của quý, bạn có thể làm như sau:"
   ]
  },
  {
   "cell_type": "code",
   "execution_count": 175,
   "id": "fb160068",
   "metadata": {},
   "outputs": [],
   "source": [
    "p4pm = (p.asfreq('B','e')-1).asfreq('T','s') + 16*60"
   ]
  },
  {
   "cell_type": "code",
   "execution_count": 176,
   "id": "0279e1b7",
   "metadata": {},
   "outputs": [
    {
     "data": {
      "text/plain": [
       "Period('2012-01-30 16:00', 'T')"
      ]
     },
     "execution_count": 176,
     "metadata": {},
     "output_type": "execute_result"
    }
   ],
   "source": [
    "p4pm"
   ]
  },
  {
   "cell_type": "code",
   "execution_count": 177,
   "id": "00885d46",
   "metadata": {},
   "outputs": [
    {
     "data": {
      "text/html": [
       "<div>\n",
       "<style scoped>\n",
       "    .dataframe tbody tr th:only-of-type {\n",
       "        vertical-align: middle;\n",
       "    }\n",
       "\n",
       "    .dataframe tbody tr th {\n",
       "        vertical-align: top;\n",
       "    }\n",
       "\n",
       "    .dataframe thead th {\n",
       "        text-align: right;\n",
       "    }\n",
       "</style>\n",
       "<table border=\"1\" class=\"dataframe\">\n",
       "  <thead>\n",
       "    <tr style=\"text-align: right;\">\n",
       "      <th></th>\n",
       "      <th>Alias</th>\n",
       "      <th>Offset type</th>\n",
       "    </tr>\n",
       "  </thead>\n",
       "  <tbody>\n",
       "    <tr>\n",
       "      <th>0</th>\n",
       "      <td>D</td>\n",
       "      <td>Day</td>\n",
       "    </tr>\n",
       "    <tr>\n",
       "      <th>1</th>\n",
       "      <td>B</td>\n",
       "      <td>Bussiness Day</td>\n",
       "    </tr>\n",
       "    <tr>\n",
       "      <th>2</th>\n",
       "      <td>H</td>\n",
       "      <td>Hour</td>\n",
       "    </tr>\n",
       "    <tr>\n",
       "      <th>3</th>\n",
       "      <td>T or min</td>\n",
       "      <td>Minute</td>\n",
       "    </tr>\n",
       "    <tr>\n",
       "      <th>4</th>\n",
       "      <td>S</td>\n",
       "      <td>Second</td>\n",
       "    </tr>\n",
       "    <tr>\n",
       "      <th>5</th>\n",
       "      <td>L or ms</td>\n",
       "      <td>Milli</td>\n",
       "    </tr>\n",
       "    <tr>\n",
       "      <th>6</th>\n",
       "      <td>U</td>\n",
       "      <td>Micro</td>\n",
       "    </tr>\n",
       "    <tr>\n",
       "      <th>7</th>\n",
       "      <td>M</td>\n",
       "      <td>MonthEnd</td>\n",
       "    </tr>\n",
       "    <tr>\n",
       "      <th>8</th>\n",
       "      <td>BM</td>\n",
       "      <td>BusinessMonthEnd</td>\n",
       "    </tr>\n",
       "    <tr>\n",
       "      <th>9</th>\n",
       "      <td>MS</td>\n",
       "      <td>MonthBegin</td>\n",
       "    </tr>\n",
       "    <tr>\n",
       "      <th>10</th>\n",
       "      <td>BMS</td>\n",
       "      <td>BussinessMonth Begin</td>\n",
       "    </tr>\n",
       "    <tr>\n",
       "      <th>11</th>\n",
       "      <td>W-MON, W-TUE</td>\n",
       "      <td>Week</td>\n",
       "    </tr>\n",
       "    <tr>\n",
       "      <th>12</th>\n",
       "      <td>WOM-1MON WOM-2MON</td>\n",
       "      <td>WeekOfMonth</td>\n",
       "    </tr>\n",
       "    <tr>\n",
       "      <th>13</th>\n",
       "      <td>Q-JAN, Q-FEB</td>\n",
       "      <td>QuarterEnd</td>\n",
       "    </tr>\n",
       "    <tr>\n",
       "      <th>14</th>\n",
       "      <td>BQ-JAN, BQ-FEB</td>\n",
       "      <td>Bussies End</td>\n",
       "    </tr>\n",
       "  </tbody>\n",
       "</table>\n",
       "</div>"
      ],
      "text/plain": [
       "                Alias           Offset type\n",
       "0                   D                   Day\n",
       "1                   B         Bussiness Day\n",
       "2                   H                  Hour\n",
       "3            T or min                Minute\n",
       "4                   S                Second\n",
       "5             L or ms                 Milli\n",
       "6                   U                 Micro\n",
       "7                   M              MonthEnd\n",
       "8                  BM      BusinessMonthEnd\n",
       "9                  MS            MonthBegin\n",
       "10                BMS  BussinessMonth Begin\n",
       "11       W-MON, W-TUE                  Week\n",
       "12  WOM-1MON WOM-2MON           WeekOfMonth\n",
       "13       Q-JAN, Q-FEB            QuarterEnd\n",
       "14     BQ-JAN, BQ-FEB           Bussies End"
      ]
     },
     "execution_count": 177,
     "metadata": {},
     "output_type": "execute_result"
    }
   ],
   "source": [
    "base_time_series_frequencies"
   ]
  },
  {
   "cell_type": "markdown",
   "id": "e1d259ef",
   "metadata": {},
   "source": [
    "Bạn có thể tạo ra phạm vi quý sử dụng `period_range`. "
   ]
  },
  {
   "cell_type": "code",
   "execution_count": 178,
   "id": "5b41b7fe",
   "metadata": {},
   "outputs": [],
   "source": [
    "rng = pd.period_range('2011Q3','2012Q4',freq='Q-JAN')"
   ]
  },
  {
   "cell_type": "code",
   "execution_count": 179,
   "id": "f0534061",
   "metadata": {},
   "outputs": [
    {
     "data": {
      "text/plain": [
       "PeriodIndex(['2011Q3', '2011Q4', '2012Q1', '2012Q2', '2012Q3', '2012Q4'], dtype='period[Q-JAN]', freq='Q-JAN')"
      ]
     },
     "execution_count": 179,
     "metadata": {},
     "output_type": "execute_result"
    }
   ],
   "source": [
    "rng"
   ]
  },
  {
   "cell_type": "code",
   "execution_count": 180,
   "id": "5f2a2eac",
   "metadata": {},
   "outputs": [],
   "source": [
    "ts=  pd.Series(np.arange(len(rng)),index=rng)"
   ]
  },
  {
   "cell_type": "code",
   "execution_count": 181,
   "id": "e1945692",
   "metadata": {},
   "outputs": [
    {
     "data": {
      "text/plain": [
       "2011Q3    0\n",
       "2011Q4    1\n",
       "2012Q1    2\n",
       "2012Q2    3\n",
       "2012Q3    4\n",
       "2012Q4    5\n",
       "Freq: Q-JAN, dtype: int64"
      ]
     },
     "execution_count": 181,
     "metadata": {},
     "output_type": "execute_result"
    }
   ],
   "source": [
    "ts"
   ]
  },
  {
   "cell_type": "code",
   "execution_count": 182,
   "id": "35379525",
   "metadata": {},
   "outputs": [],
   "source": [
    "new_rng = (rng.asfreq('B','e') - 1).asfreq('T','s') + 16*60"
   ]
  },
  {
   "cell_type": "code",
   "execution_count": 183,
   "id": "8aac35bd",
   "metadata": {},
   "outputs": [],
   "source": [
    "ts.index = new_rng.to_timestamp()"
   ]
  },
  {
   "cell_type": "code",
   "execution_count": 184,
   "id": "df259b31",
   "metadata": {},
   "outputs": [
    {
     "data": {
      "text/plain": [
       "2010-10-28 16:00:00    0\n",
       "2011-01-28 16:00:00    1\n",
       "2011-04-28 16:00:00    2\n",
       "2011-07-28 16:00:00    3\n",
       "2011-10-28 16:00:00    4\n",
       "2012-01-30 16:00:00    5\n",
       "dtype: int64"
      ]
     },
     "execution_count": 184,
     "metadata": {},
     "output_type": "execute_result"
    }
   ],
   "source": [
    "ts"
   ]
  },
  {
   "cell_type": "markdown",
   "id": "febe1ef4",
   "metadata": {},
   "source": [
    "### Converting Timestamps to Periods (and Back)"
   ]
  },
  {
   "cell_type": "markdown",
   "id": "5ca6fa05",
   "metadata": {},
   "source": [
    "Serires và DâtFrame object indexed là  timestamps có thể chuyển sang periods với method `to_period()`"
   ]
  },
  {
   "cell_type": "code",
   "execution_count": 185,
   "id": "e8f87d8d",
   "metadata": {},
   "outputs": [],
   "source": [
    "rng = pd.date_range('2000-01-01',periods=3,freq='M')"
   ]
  },
  {
   "cell_type": "code",
   "execution_count": 186,
   "id": "b5496e3c",
   "metadata": {},
   "outputs": [
    {
     "data": {
      "text/plain": [
       "DatetimeIndex(['2000-01-31', '2000-02-29', '2000-03-31'], dtype='datetime64[ns]', freq='M')"
      ]
     },
     "execution_count": 186,
     "metadata": {},
     "output_type": "execute_result"
    }
   ],
   "source": [
    "rng"
   ]
  },
  {
   "cell_type": "code",
   "execution_count": 187,
   "id": "7bebe336",
   "metadata": {},
   "outputs": [],
   "source": [
    "ts = pd.Series(np.random.randn(3),index=rng)"
   ]
  },
  {
   "cell_type": "code",
   "execution_count": 188,
   "id": "cc11c46a",
   "metadata": {},
   "outputs": [
    {
     "data": {
      "text/plain": [
       "2000-01-31   -0.317414\n",
       "2000-02-29    0.597469\n",
       "2000-03-31    0.021167\n",
       "Freq: M, dtype: float64"
      ]
     },
     "execution_count": 188,
     "metadata": {},
     "output_type": "execute_result"
    }
   ],
   "source": [
    "ts"
   ]
  },
  {
   "cell_type": "code",
   "execution_count": 189,
   "id": "02fc945c",
   "metadata": {},
   "outputs": [],
   "source": [
    "pts = ts.to_period()"
   ]
  },
  {
   "cell_type": "code",
   "execution_count": 190,
   "id": "d7b0936a",
   "metadata": {},
   "outputs": [
    {
     "data": {
      "text/plain": [
       "2000-01   -0.317414\n",
       "2000-02    0.597469\n",
       "2000-03    0.021167\n",
       "Freq: M, dtype: float64"
      ]
     },
     "execution_count": 190,
     "metadata": {},
     "output_type": "execute_result"
    }
   ],
   "source": [
    "pts"
   ]
  },
  {
   "cell_type": "markdown",
   "id": "20653f10",
   "metadata": {},
   "source": [
    "Vì các khoảng thời gian đề cập đến các khoảng thời gian không trùng lặp, dấu thời gian chỉ có thể thuộc về một khoảng thời gian duy nhất cho một tần suất nhất định. Mặc dù tần suất của PeriodIndex mới được suy ra từ dấu thời gian theo mặc định, bạn có thể chỉ định bất kỳ tần suất nào bạn muốn. Cũng không có vấn đề gì với việc có các khoảng thời gian trùng lặp trong kết quả"
   ]
  },
  {
   "cell_type": "code",
   "execution_count": 191,
   "id": "ada0a9f5",
   "metadata": {},
   "outputs": [],
   "source": [
    "rng = pd.date_range('1/29/2000',periods=6,freq='D')"
   ]
  },
  {
   "cell_type": "code",
   "execution_count": 192,
   "id": "58549910",
   "metadata": {},
   "outputs": [
    {
     "data": {
      "text/html": [
       "<div>\n",
       "<style scoped>\n",
       "    .dataframe tbody tr th:only-of-type {\n",
       "        vertical-align: middle;\n",
       "    }\n",
       "\n",
       "    .dataframe tbody tr th {\n",
       "        vertical-align: top;\n",
       "    }\n",
       "\n",
       "    .dataframe thead th {\n",
       "        text-align: right;\n",
       "    }\n",
       "</style>\n",
       "<table border=\"1\" class=\"dataframe\">\n",
       "  <thead>\n",
       "    <tr style=\"text-align: right;\">\n",
       "      <th></th>\n",
       "      <th>Alias</th>\n",
       "      <th>Offset type</th>\n",
       "    </tr>\n",
       "  </thead>\n",
       "  <tbody>\n",
       "    <tr>\n",
       "      <th>0</th>\n",
       "      <td>D</td>\n",
       "      <td>Day</td>\n",
       "    </tr>\n",
       "    <tr>\n",
       "      <th>1</th>\n",
       "      <td>B</td>\n",
       "      <td>Bussiness Day</td>\n",
       "    </tr>\n",
       "    <tr>\n",
       "      <th>2</th>\n",
       "      <td>H</td>\n",
       "      <td>Hour</td>\n",
       "    </tr>\n",
       "    <tr>\n",
       "      <th>3</th>\n",
       "      <td>T or min</td>\n",
       "      <td>Minute</td>\n",
       "    </tr>\n",
       "    <tr>\n",
       "      <th>4</th>\n",
       "      <td>S</td>\n",
       "      <td>Second</td>\n",
       "    </tr>\n",
       "    <tr>\n",
       "      <th>5</th>\n",
       "      <td>L or ms</td>\n",
       "      <td>Milli</td>\n",
       "    </tr>\n",
       "    <tr>\n",
       "      <th>6</th>\n",
       "      <td>U</td>\n",
       "      <td>Micro</td>\n",
       "    </tr>\n",
       "    <tr>\n",
       "      <th>7</th>\n",
       "      <td>M</td>\n",
       "      <td>MonthEnd</td>\n",
       "    </tr>\n",
       "    <tr>\n",
       "      <th>8</th>\n",
       "      <td>BM</td>\n",
       "      <td>BusinessMonthEnd</td>\n",
       "    </tr>\n",
       "    <tr>\n",
       "      <th>9</th>\n",
       "      <td>MS</td>\n",
       "      <td>MonthBegin</td>\n",
       "    </tr>\n",
       "    <tr>\n",
       "      <th>10</th>\n",
       "      <td>BMS</td>\n",
       "      <td>BussinessMonth Begin</td>\n",
       "    </tr>\n",
       "    <tr>\n",
       "      <th>11</th>\n",
       "      <td>W-MON, W-TUE</td>\n",
       "      <td>Week</td>\n",
       "    </tr>\n",
       "    <tr>\n",
       "      <th>12</th>\n",
       "      <td>WOM-1MON WOM-2MON</td>\n",
       "      <td>WeekOfMonth</td>\n",
       "    </tr>\n",
       "    <tr>\n",
       "      <th>13</th>\n",
       "      <td>Q-JAN, Q-FEB</td>\n",
       "      <td>QuarterEnd</td>\n",
       "    </tr>\n",
       "    <tr>\n",
       "      <th>14</th>\n",
       "      <td>BQ-JAN, BQ-FEB</td>\n",
       "      <td>Bussies End</td>\n",
       "    </tr>\n",
       "  </tbody>\n",
       "</table>\n",
       "</div>"
      ],
      "text/plain": [
       "                Alias           Offset type\n",
       "0                   D                   Day\n",
       "1                   B         Bussiness Day\n",
       "2                   H                  Hour\n",
       "3            T or min                Minute\n",
       "4                   S                Second\n",
       "5             L or ms                 Milli\n",
       "6                   U                 Micro\n",
       "7                   M              MonthEnd\n",
       "8                  BM      BusinessMonthEnd\n",
       "9                  MS            MonthBegin\n",
       "10                BMS  BussinessMonth Begin\n",
       "11       W-MON, W-TUE                  Week\n",
       "12  WOM-1MON WOM-2MON           WeekOfMonth\n",
       "13       Q-JAN, Q-FEB            QuarterEnd\n",
       "14     BQ-JAN, BQ-FEB           Bussies End"
      ]
     },
     "execution_count": 192,
     "metadata": {},
     "output_type": "execute_result"
    }
   ],
   "source": [
    "base_time_series_frequencies"
   ]
  },
  {
   "cell_type": "code",
   "execution_count": 193,
   "id": "92ba5d3f",
   "metadata": {},
   "outputs": [
    {
     "data": {
      "text/plain": [
       "DatetimeIndex(['2000-01-29', '2000-01-30', '2000-01-31', '2000-02-01',\n",
       "               '2000-02-02', '2000-02-03'],\n",
       "              dtype='datetime64[ns]', freq='D')"
      ]
     },
     "execution_count": 193,
     "metadata": {},
     "output_type": "execute_result"
    }
   ],
   "source": [
    "rng"
   ]
  },
  {
   "cell_type": "markdown",
   "id": "8bdf05e5",
   "metadata": {},
   "source": [
    "Vì các khoảng thời gian đề cập đến các khoảng thời gian không trùng lặp, dấu thời gian chỉ có thể thuộc về một khoảng thời gian duy nhất cho một tần suất nhất định. Mặc dù tần suất của PeriodIndex mới được suy ra từ dấu thời gian theo mặc định, bạn có thể chỉ định bất kỳ tần suất nào bạn muốn. Cũng không có vấn đề gì với việc có các khoảng thời gian trùng lặp trong kết quả: ”\n"
   ]
  },
  {
   "cell_type": "code",
   "execution_count": 194,
   "id": "3ef01ca7",
   "metadata": {},
   "outputs": [],
   "source": [
    "ts2 = pd.Series(np.random.randn(6),index=rng)"
   ]
  },
  {
   "cell_type": "code",
   "execution_count": 195,
   "id": "bc59a0cf",
   "metadata": {},
   "outputs": [
    {
     "data": {
      "text/plain": [
       "2000-01-29    0.246967\n",
       "2000-01-30    0.504561\n",
       "2000-01-31    1.086541\n",
       "2000-02-01   -1.945216\n",
       "2000-02-02   -0.438990\n",
       "2000-02-03    1.028766\n",
       "Freq: D, dtype: float64"
      ]
     },
     "execution_count": 195,
     "metadata": {},
     "output_type": "execute_result"
    }
   ],
   "source": [
    "ts2"
   ]
  },
  {
   "cell_type": "code",
   "execution_count": 196,
   "id": "ee153ce6",
   "metadata": {},
   "outputs": [
    {
     "data": {
      "text/plain": [
       "2000-01    0.246967\n",
       "2000-01    0.504561\n",
       "2000-01    1.086541\n",
       "2000-02   -1.945216\n",
       "2000-02   -0.438990\n",
       "2000-02    1.028766\n",
       "Freq: M, dtype: float64"
      ]
     },
     "execution_count": 196,
     "metadata": {},
     "output_type": "execute_result"
    }
   ],
   "source": [
    "ts2.to_period('M')"
   ]
  },
  {
   "cell_type": "markdown",
   "id": "2244a627",
   "metadata": {},
   "source": [
    "Convert back to timestamps sử dụng `to_timestamp()`"
   ]
  },
  {
   "cell_type": "code",
   "execution_count": 197,
   "id": "6cccc991",
   "metadata": {},
   "outputs": [],
   "source": [
    "\n",
    "pts = ts2.to_period()"
   ]
  },
  {
   "cell_type": "code",
   "execution_count": 198,
   "id": "454ca1bf",
   "metadata": {},
   "outputs": [
    {
     "data": {
      "text/plain": [
       "2000-01-29    0.246967\n",
       "2000-01-30    0.504561\n",
       "2000-01-31    1.086541\n",
       "2000-02-01   -1.945216\n",
       "2000-02-02   -0.438990\n",
       "2000-02-03    1.028766\n",
       "Freq: D, dtype: float64"
      ]
     },
     "execution_count": 198,
     "metadata": {},
     "output_type": "execute_result"
    }
   ],
   "source": [
    "pts"
   ]
  },
  {
   "cell_type": "code",
   "execution_count": 199,
   "id": "db4ec9a8",
   "metadata": {},
   "outputs": [
    {
     "data": {
      "text/plain": [
       "2000-01-29    0.246967\n",
       "2000-01-30    0.504561\n",
       "2000-01-31    1.086541\n",
       "2000-02-01   -1.945216\n",
       "2000-02-02   -0.438990\n",
       "2000-02-03    1.028766\n",
       "Freq: D, dtype: float64"
      ]
     },
     "execution_count": 199,
     "metadata": {},
     "output_type": "execute_result"
    }
   ],
   "source": [
    "pts.to_timestamp()"
   ]
  },
  {
   "cell_type": "markdown",
   "id": "f0b73164",
   "metadata": {},
   "source": [
    "### Create a PrediodIndex from Arrays"
   ]
  },
  {
   "cell_type": "markdown",
   "id": "5b843860",
   "metadata": {},
   "source": [
    "Bộ dữ liệu tần suất cố định đôi khi được lưu trữ với thông tin về khoảng thời gian trải rộng trên nhiều cột. Ví dụ, trong tập dữ liệu kinh tế vĩ mô này, năm và quý nằm trong các cột khác nhau"
   ]
  },
  {
   "cell_type": "code",
   "execution_count": 200,
   "id": "b3db85a1",
   "metadata": {},
   "outputs": [],
   "source": [
    "data = pd.read_csv(\"./examples/macrodata.csv\")"
   ]
  },
  {
   "cell_type": "code",
   "execution_count": 202,
   "id": "e2859a89",
   "metadata": {},
   "outputs": [
    {
     "data": {
      "text/html": [
       "<div>\n",
       "<style scoped>\n",
       "    .dataframe tbody tr th:only-of-type {\n",
       "        vertical-align: middle;\n",
       "    }\n",
       "\n",
       "    .dataframe tbody tr th {\n",
       "        vertical-align: top;\n",
       "    }\n",
       "\n",
       "    .dataframe thead th {\n",
       "        text-align: right;\n",
       "    }\n",
       "</style>\n",
       "<table border=\"1\" class=\"dataframe\">\n",
       "  <thead>\n",
       "    <tr style=\"text-align: right;\">\n",
       "      <th></th>\n",
       "      <th>year</th>\n",
       "      <th>quarter</th>\n",
       "      <th>realgdp</th>\n",
       "      <th>realcons</th>\n",
       "      <th>realinv</th>\n",
       "      <th>realgovt</th>\n",
       "      <th>realdpi</th>\n",
       "      <th>cpi</th>\n",
       "      <th>m1</th>\n",
       "      <th>tbilrate</th>\n",
       "      <th>unemp</th>\n",
       "      <th>pop</th>\n",
       "      <th>infl</th>\n",
       "      <th>realint</th>\n",
       "    </tr>\n",
       "  </thead>\n",
       "  <tbody>\n",
       "    <tr>\n",
       "      <th>0</th>\n",
       "      <td>1959.0</td>\n",
       "      <td>1.0</td>\n",
       "      <td>2710.349</td>\n",
       "      <td>1707.4</td>\n",
       "      <td>286.898</td>\n",
       "      <td>470.045</td>\n",
       "      <td>1886.9</td>\n",
       "      <td>28.98</td>\n",
       "      <td>139.7</td>\n",
       "      <td>2.82</td>\n",
       "      <td>5.8</td>\n",
       "      <td>177.146</td>\n",
       "      <td>0.00</td>\n",
       "      <td>0.00</td>\n",
       "    </tr>\n",
       "    <tr>\n",
       "      <th>1</th>\n",
       "      <td>1959.0</td>\n",
       "      <td>2.0</td>\n",
       "      <td>2778.801</td>\n",
       "      <td>1733.7</td>\n",
       "      <td>310.859</td>\n",
       "      <td>481.301</td>\n",
       "      <td>1919.7</td>\n",
       "      <td>29.15</td>\n",
       "      <td>141.7</td>\n",
       "      <td>3.08</td>\n",
       "      <td>5.1</td>\n",
       "      <td>177.830</td>\n",
       "      <td>2.34</td>\n",
       "      <td>0.74</td>\n",
       "    </tr>\n",
       "    <tr>\n",
       "      <th>2</th>\n",
       "      <td>1959.0</td>\n",
       "      <td>3.0</td>\n",
       "      <td>2775.488</td>\n",
       "      <td>1751.8</td>\n",
       "      <td>289.226</td>\n",
       "      <td>491.260</td>\n",
       "      <td>1916.4</td>\n",
       "      <td>29.35</td>\n",
       "      <td>140.5</td>\n",
       "      <td>3.82</td>\n",
       "      <td>5.3</td>\n",
       "      <td>178.657</td>\n",
       "      <td>2.74</td>\n",
       "      <td>1.09</td>\n",
       "    </tr>\n",
       "    <tr>\n",
       "      <th>3</th>\n",
       "      <td>1959.0</td>\n",
       "      <td>4.0</td>\n",
       "      <td>2785.204</td>\n",
       "      <td>1753.7</td>\n",
       "      <td>299.356</td>\n",
       "      <td>484.052</td>\n",
       "      <td>1931.3</td>\n",
       "      <td>29.37</td>\n",
       "      <td>140.0</td>\n",
       "      <td>4.33</td>\n",
       "      <td>5.6</td>\n",
       "      <td>179.386</td>\n",
       "      <td>0.27</td>\n",
       "      <td>4.06</td>\n",
       "    </tr>\n",
       "    <tr>\n",
       "      <th>4</th>\n",
       "      <td>1960.0</td>\n",
       "      <td>1.0</td>\n",
       "      <td>2847.699</td>\n",
       "      <td>1770.5</td>\n",
       "      <td>331.722</td>\n",
       "      <td>462.199</td>\n",
       "      <td>1955.5</td>\n",
       "      <td>29.54</td>\n",
       "      <td>139.6</td>\n",
       "      <td>3.50</td>\n",
       "      <td>5.2</td>\n",
       "      <td>180.007</td>\n",
       "      <td>2.31</td>\n",
       "      <td>1.19</td>\n",
       "    </tr>\n",
       "  </tbody>\n",
       "</table>\n",
       "</div>"
      ],
      "text/plain": [
       "     year  quarter   realgdp  realcons  realinv  realgovt  realdpi    cpi  \\\n",
       "0  1959.0      1.0  2710.349    1707.4  286.898   470.045   1886.9  28.98   \n",
       "1  1959.0      2.0  2778.801    1733.7  310.859   481.301   1919.7  29.15   \n",
       "2  1959.0      3.0  2775.488    1751.8  289.226   491.260   1916.4  29.35   \n",
       "3  1959.0      4.0  2785.204    1753.7  299.356   484.052   1931.3  29.37   \n",
       "4  1960.0      1.0  2847.699    1770.5  331.722   462.199   1955.5  29.54   \n",
       "\n",
       "      m1  tbilrate  unemp      pop  infl  realint  \n",
       "0  139.7      2.82    5.8  177.146  0.00     0.00  \n",
       "1  141.7      3.08    5.1  177.830  2.34     0.74  \n",
       "2  140.5      3.82    5.3  178.657  2.74     1.09  \n",
       "3  140.0      4.33    5.6  179.386  0.27     4.06  \n",
       "4  139.6      3.50    5.2  180.007  2.31     1.19  "
      ]
     },
     "execution_count": 202,
     "metadata": {},
     "output_type": "execute_result"
    }
   ],
   "source": [
    "data.head(5)"
   ]
  },
  {
   "cell_type": "markdown",
   "id": "ef542134",
   "metadata": {},
   "source": [
    "Giờ chúng ta sẽ chia nó thành các quý "
   ]
  },
  {
   "cell_type": "code",
   "execution_count": 203,
   "id": "57bc92ab",
   "metadata": {},
   "outputs": [
    {
     "data": {
      "text/plain": [
       "0      1959.0\n",
       "1      1959.0\n",
       "2      1959.0\n",
       "3      1959.0\n",
       "4      1960.0\n",
       "        ...  \n",
       "198    2008.0\n",
       "199    2008.0\n",
       "200    2009.0\n",
       "201    2009.0\n",
       "202    2009.0\n",
       "Name: year, Length: 203, dtype: float64"
      ]
     },
     "execution_count": 203,
     "metadata": {},
     "output_type": "execute_result"
    }
   ],
   "source": [
    "data.year"
   ]
  },
  {
   "cell_type": "code",
   "execution_count": 204,
   "id": "468019ce",
   "metadata": {},
   "outputs": [
    {
     "data": {
      "text/plain": [
       "0      1.0\n",
       "1      2.0\n",
       "2      3.0\n",
       "3      4.0\n",
       "4      1.0\n",
       "      ... \n",
       "198    3.0\n",
       "199    4.0\n",
       "200    1.0\n",
       "201    2.0\n",
       "202    3.0\n",
       "Name: quarter, Length: 203, dtype: float64"
      ]
     },
     "execution_count": 204,
     "metadata": {},
     "output_type": "execute_result"
    }
   ],
   "source": [
    "data.quarter"
   ]
  },
  {
   "cell_type": "markdown",
   "id": "5016e6fa",
   "metadata": {},
   "source": [
    "passsing theses arrays to PeriodIndex với tuần suất, bạn cso thể kết hợp chúng từ index cho DataFrame: "
   ]
  },
  {
   "cell_type": "code",
   "execution_count": 206,
   "id": "5905d0f4",
   "metadata": {},
   "outputs": [],
   "source": [
    "index = pd.PeriodIndex(year=data.year,quarter= data.quarter,\n",
    "                      freq='Q-DEC')\n"
   ]
  },
  {
   "cell_type": "code",
   "execution_count": 207,
   "id": "331b0c5c",
   "metadata": {},
   "outputs": [
    {
     "data": {
      "text/plain": [
       "PeriodIndex(['1959Q1', '1959Q2', '1959Q3', '1959Q4', '1960Q1', '1960Q2',\n",
       "             '1960Q3', '1960Q4', '1961Q1', '1961Q2',\n",
       "             ...\n",
       "             '2007Q2', '2007Q3', '2007Q4', '2008Q1', '2008Q2', '2008Q3',\n",
       "             '2008Q4', '2009Q1', '2009Q2', '2009Q3'],\n",
       "            dtype='period[Q-DEC]', length=203, freq='Q-DEC')"
      ]
     },
     "execution_count": 207,
     "metadata": {},
     "output_type": "execute_result"
    }
   ],
   "source": [
    "index"
   ]
  },
  {
   "cell_type": "code",
   "execution_count": 208,
   "id": "a81fe093",
   "metadata": {},
   "outputs": [],
   "source": [
    "data.index = index"
   ]
  },
  {
   "cell_type": "code",
   "execution_count": 209,
   "id": "e6a5bf86",
   "metadata": {},
   "outputs": [
    {
     "data": {
      "text/html": [
       "<div>\n",
       "<style scoped>\n",
       "    .dataframe tbody tr th:only-of-type {\n",
       "        vertical-align: middle;\n",
       "    }\n",
       "\n",
       "    .dataframe tbody tr th {\n",
       "        vertical-align: top;\n",
       "    }\n",
       "\n",
       "    .dataframe thead th {\n",
       "        text-align: right;\n",
       "    }\n",
       "</style>\n",
       "<table border=\"1\" class=\"dataframe\">\n",
       "  <thead>\n",
       "    <tr style=\"text-align: right;\">\n",
       "      <th></th>\n",
       "      <th>year</th>\n",
       "      <th>quarter</th>\n",
       "      <th>realgdp</th>\n",
       "      <th>realcons</th>\n",
       "      <th>realinv</th>\n",
       "      <th>realgovt</th>\n",
       "      <th>realdpi</th>\n",
       "      <th>cpi</th>\n",
       "      <th>m1</th>\n",
       "      <th>tbilrate</th>\n",
       "      <th>unemp</th>\n",
       "      <th>pop</th>\n",
       "      <th>infl</th>\n",
       "      <th>realint</th>\n",
       "    </tr>\n",
       "  </thead>\n",
       "  <tbody>\n",
       "    <tr>\n",
       "      <th>1959Q1</th>\n",
       "      <td>1959.0</td>\n",
       "      <td>1.0</td>\n",
       "      <td>2710.349</td>\n",
       "      <td>1707.4</td>\n",
       "      <td>286.898</td>\n",
       "      <td>470.045</td>\n",
       "      <td>1886.9</td>\n",
       "      <td>28.980</td>\n",
       "      <td>139.7</td>\n",
       "      <td>2.82</td>\n",
       "      <td>5.8</td>\n",
       "      <td>177.146</td>\n",
       "      <td>0.00</td>\n",
       "      <td>0.00</td>\n",
       "    </tr>\n",
       "    <tr>\n",
       "      <th>1959Q2</th>\n",
       "      <td>1959.0</td>\n",
       "      <td>2.0</td>\n",
       "      <td>2778.801</td>\n",
       "      <td>1733.7</td>\n",
       "      <td>310.859</td>\n",
       "      <td>481.301</td>\n",
       "      <td>1919.7</td>\n",
       "      <td>29.150</td>\n",
       "      <td>141.7</td>\n",
       "      <td>3.08</td>\n",
       "      <td>5.1</td>\n",
       "      <td>177.830</td>\n",
       "      <td>2.34</td>\n",
       "      <td>0.74</td>\n",
       "    </tr>\n",
       "    <tr>\n",
       "      <th>1959Q3</th>\n",
       "      <td>1959.0</td>\n",
       "      <td>3.0</td>\n",
       "      <td>2775.488</td>\n",
       "      <td>1751.8</td>\n",
       "      <td>289.226</td>\n",
       "      <td>491.260</td>\n",
       "      <td>1916.4</td>\n",
       "      <td>29.350</td>\n",
       "      <td>140.5</td>\n",
       "      <td>3.82</td>\n",
       "      <td>5.3</td>\n",
       "      <td>178.657</td>\n",
       "      <td>2.74</td>\n",
       "      <td>1.09</td>\n",
       "    </tr>\n",
       "    <tr>\n",
       "      <th>1959Q4</th>\n",
       "      <td>1959.0</td>\n",
       "      <td>4.0</td>\n",
       "      <td>2785.204</td>\n",
       "      <td>1753.7</td>\n",
       "      <td>299.356</td>\n",
       "      <td>484.052</td>\n",
       "      <td>1931.3</td>\n",
       "      <td>29.370</td>\n",
       "      <td>140.0</td>\n",
       "      <td>4.33</td>\n",
       "      <td>5.6</td>\n",
       "      <td>179.386</td>\n",
       "      <td>0.27</td>\n",
       "      <td>4.06</td>\n",
       "    </tr>\n",
       "    <tr>\n",
       "      <th>1960Q1</th>\n",
       "      <td>1960.0</td>\n",
       "      <td>1.0</td>\n",
       "      <td>2847.699</td>\n",
       "      <td>1770.5</td>\n",
       "      <td>331.722</td>\n",
       "      <td>462.199</td>\n",
       "      <td>1955.5</td>\n",
       "      <td>29.540</td>\n",
       "      <td>139.6</td>\n",
       "      <td>3.50</td>\n",
       "      <td>5.2</td>\n",
       "      <td>180.007</td>\n",
       "      <td>2.31</td>\n",
       "      <td>1.19</td>\n",
       "    </tr>\n",
       "    <tr>\n",
       "      <th>...</th>\n",
       "      <td>...</td>\n",
       "      <td>...</td>\n",
       "      <td>...</td>\n",
       "      <td>...</td>\n",
       "      <td>...</td>\n",
       "      <td>...</td>\n",
       "      <td>...</td>\n",
       "      <td>...</td>\n",
       "      <td>...</td>\n",
       "      <td>...</td>\n",
       "      <td>...</td>\n",
       "      <td>...</td>\n",
       "      <td>...</td>\n",
       "      <td>...</td>\n",
       "    </tr>\n",
       "    <tr>\n",
       "      <th>2008Q3</th>\n",
       "      <td>2008.0</td>\n",
       "      <td>3.0</td>\n",
       "      <td>13324.600</td>\n",
       "      <td>9267.7</td>\n",
       "      <td>1990.693</td>\n",
       "      <td>991.551</td>\n",
       "      <td>9838.3</td>\n",
       "      <td>216.889</td>\n",
       "      <td>1474.7</td>\n",
       "      <td>1.17</td>\n",
       "      <td>6.0</td>\n",
       "      <td>305.270</td>\n",
       "      <td>-3.16</td>\n",
       "      <td>4.33</td>\n",
       "    </tr>\n",
       "    <tr>\n",
       "      <th>2008Q4</th>\n",
       "      <td>2008.0</td>\n",
       "      <td>4.0</td>\n",
       "      <td>13141.920</td>\n",
       "      <td>9195.3</td>\n",
       "      <td>1857.661</td>\n",
       "      <td>1007.273</td>\n",
       "      <td>9920.4</td>\n",
       "      <td>212.174</td>\n",
       "      <td>1576.5</td>\n",
       "      <td>0.12</td>\n",
       "      <td>6.9</td>\n",
       "      <td>305.952</td>\n",
       "      <td>-8.79</td>\n",
       "      <td>8.91</td>\n",
       "    </tr>\n",
       "    <tr>\n",
       "      <th>2009Q1</th>\n",
       "      <td>2009.0</td>\n",
       "      <td>1.0</td>\n",
       "      <td>12925.410</td>\n",
       "      <td>9209.2</td>\n",
       "      <td>1558.494</td>\n",
       "      <td>996.287</td>\n",
       "      <td>9926.4</td>\n",
       "      <td>212.671</td>\n",
       "      <td>1592.8</td>\n",
       "      <td>0.22</td>\n",
       "      <td>8.1</td>\n",
       "      <td>306.547</td>\n",
       "      <td>0.94</td>\n",
       "      <td>-0.71</td>\n",
       "    </tr>\n",
       "    <tr>\n",
       "      <th>2009Q2</th>\n",
       "      <td>2009.0</td>\n",
       "      <td>2.0</td>\n",
       "      <td>12901.504</td>\n",
       "      <td>9189.0</td>\n",
       "      <td>1456.678</td>\n",
       "      <td>1023.528</td>\n",
       "      <td>10077.5</td>\n",
       "      <td>214.469</td>\n",
       "      <td>1653.6</td>\n",
       "      <td>0.18</td>\n",
       "      <td>9.2</td>\n",
       "      <td>307.226</td>\n",
       "      <td>3.37</td>\n",
       "      <td>-3.19</td>\n",
       "    </tr>\n",
       "    <tr>\n",
       "      <th>2009Q3</th>\n",
       "      <td>2009.0</td>\n",
       "      <td>3.0</td>\n",
       "      <td>12990.341</td>\n",
       "      <td>9256.0</td>\n",
       "      <td>1486.398</td>\n",
       "      <td>1044.088</td>\n",
       "      <td>10040.6</td>\n",
       "      <td>216.385</td>\n",
       "      <td>1673.9</td>\n",
       "      <td>0.12</td>\n",
       "      <td>9.6</td>\n",
       "      <td>308.013</td>\n",
       "      <td>3.56</td>\n",
       "      <td>-3.44</td>\n",
       "    </tr>\n",
       "  </tbody>\n",
       "</table>\n",
       "<p>203 rows × 14 columns</p>\n",
       "</div>"
      ],
      "text/plain": [
       "          year  quarter    realgdp  realcons   realinv  realgovt  realdpi  \\\n",
       "1959Q1  1959.0      1.0   2710.349    1707.4   286.898   470.045   1886.9   \n",
       "1959Q2  1959.0      2.0   2778.801    1733.7   310.859   481.301   1919.7   \n",
       "1959Q3  1959.0      3.0   2775.488    1751.8   289.226   491.260   1916.4   \n",
       "1959Q4  1959.0      4.0   2785.204    1753.7   299.356   484.052   1931.3   \n",
       "1960Q1  1960.0      1.0   2847.699    1770.5   331.722   462.199   1955.5   \n",
       "...        ...      ...        ...       ...       ...       ...      ...   \n",
       "2008Q3  2008.0      3.0  13324.600    9267.7  1990.693   991.551   9838.3   \n",
       "2008Q4  2008.0      4.0  13141.920    9195.3  1857.661  1007.273   9920.4   \n",
       "2009Q1  2009.0      1.0  12925.410    9209.2  1558.494   996.287   9926.4   \n",
       "2009Q2  2009.0      2.0  12901.504    9189.0  1456.678  1023.528  10077.5   \n",
       "2009Q3  2009.0      3.0  12990.341    9256.0  1486.398  1044.088  10040.6   \n",
       "\n",
       "            cpi      m1  tbilrate  unemp      pop  infl  realint  \n",
       "1959Q1   28.980   139.7      2.82    5.8  177.146  0.00     0.00  \n",
       "1959Q2   29.150   141.7      3.08    5.1  177.830  2.34     0.74  \n",
       "1959Q3   29.350   140.5      3.82    5.3  178.657  2.74     1.09  \n",
       "1959Q4   29.370   140.0      4.33    5.6  179.386  0.27     4.06  \n",
       "1960Q1   29.540   139.6      3.50    5.2  180.007  2.31     1.19  \n",
       "...         ...     ...       ...    ...      ...   ...      ...  \n",
       "2008Q3  216.889  1474.7      1.17    6.0  305.270 -3.16     4.33  \n",
       "2008Q4  212.174  1576.5      0.12    6.9  305.952 -8.79     8.91  \n",
       "2009Q1  212.671  1592.8      0.22    8.1  306.547  0.94    -0.71  \n",
       "2009Q2  214.469  1653.6      0.18    9.2  307.226  3.37    -3.19  \n",
       "2009Q3  216.385  1673.9      0.12    9.6  308.013  3.56    -3.44  \n",
       "\n",
       "[203 rows x 14 columns]"
      ]
     },
     "execution_count": 209,
     "metadata": {},
     "output_type": "execute_result"
    }
   ],
   "source": [
    "data"
   ]
  },
  {
   "cell_type": "code",
   "execution_count": null,
   "id": "3ce01cb4",
   "metadata": {},
   "outputs": [],
   "source": [
    "data.drop([\"year\",\"quarter\"],)"
   ]
  }
 ],
 "metadata": {
  "kernelspec": {
   "display_name": "Python 3",
   "language": "python",
   "name": "python3"
  },
  "language_info": {
   "codemirror_mode": {
    "name": "ipython",
    "version": 3
   },
   "file_extension": ".py",
   "mimetype": "text/x-python",
   "name": "python",
   "nbconvert_exporter": "python",
   "pygments_lexer": "ipython3",
   "version": "3.9.0"
  }
 },
 "nbformat": 4,
 "nbformat_minor": 5
}
