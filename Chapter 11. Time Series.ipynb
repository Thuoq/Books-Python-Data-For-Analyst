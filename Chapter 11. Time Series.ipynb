{
 "cells": [
  {
   "cell_type": "code",
   "execution_count": 2,
   "id": "c5d955d4",
   "metadata": {},
   "outputs": [],
   "source": [
    "import numpy as np\n",
    "import pandas as pd\n",
    "import matplotlib.pyplot as plt"
   ]
  },
  {
   "cell_type": "markdown",
   "id": "56d85447",
   "metadata": {},
   "source": [
    "“Dữ liệu chuỗi thời gian là một dạng dữ liệu có cấu trúc quan trọng trong nhiều lĩnh vực khác nhau, chẳng hạn như tài chính, kinh tế, sinh thái học, khoa học thần kinh và vật lý. Bất cứ thứ gì được quan sát hoặc đo lường ở nhiều thời điểm sẽ tạo thành một chuỗi thời gian. Nhiều chuỗi thời gian có tần suất cố định, có nghĩa là các điểm dữ liệu xảy ra đều đặn theo một số quy tắc, chẳng hạn như cứ sau 15 giây, 5 phút một lần hoặc một lần mỗi tháng. Chuỗi thời gian cũng có thể không đều mà không có một đơn vị thời gian cố định hoặc sự chênh lệch giữa các đơn vị. Cách bạn đánh dấu và tham chiếu đến dữ liệu chuỗi thời gian tùy thuộc vào ứng dụng và bạn có thể có một trong những điều sau: ”\n"
   ]
  },
  {
   "cell_type": "markdown",
   "id": "bda8f929",
   "metadata": {},
   "source": [
    "### 11.1 Date and Time Data Types and Tools"
   ]
  },
  {
   "cell_type": "code",
   "execution_count": 3,
   "id": "6acaa7db",
   "metadata": {},
   "outputs": [],
   "source": [
    "from datetime import datetime"
   ]
  },
  {
   "cell_type": "code",
   "execution_count": 4,
   "id": "693a9dbd",
   "metadata": {},
   "outputs": [],
   "source": [
    "now = datetime.now()"
   ]
  },
  {
   "cell_type": "code",
   "execution_count": 6,
   "id": "03b470ad",
   "metadata": {},
   "outputs": [
    {
     "data": {
      "text/plain": [
       "datetime.datetime(2021, 5, 18, 14, 30, 18, 393027)"
      ]
     },
     "execution_count": 6,
     "metadata": {},
     "output_type": "execute_result"
    }
   ],
   "source": [
    "now"
   ]
  },
  {
   "cell_type": "code",
   "execution_count": 7,
   "id": "744725f3",
   "metadata": {},
   "outputs": [
    {
     "data": {
      "text/plain": [
       "(2021, 5, 18)"
      ]
     },
     "execution_count": 7,
     "metadata": {},
     "output_type": "execute_result"
    }
   ],
   "source": [
    "now.year, now.month, now.day"
   ]
  },
  {
   "cell_type": "markdown",
   "id": "4d9e6eaf",
   "metadata": {},
   "source": [
    "Datetime lưu trữ cả ngày và giờ tính đến từng micro giây. `timedelta()` đại diện cho sự khác biệt về thời gian giữa hai đối tượng datetime:"
   ]
  },
  {
   "cell_type": "code",
   "execution_count": 29,
   "id": "ad6694a2",
   "metadata": {},
   "outputs": [],
   "source": [
    "delta = datetime(2021,5,17,17) - datetime(2021,5,15,15,30) "
   ]
  },
  {
   "cell_type": "code",
   "execution_count": 30,
   "id": "7abfe835",
   "metadata": {},
   "outputs": [
    {
     "data": {
      "text/plain": [
       "datetime.timedelta(days=2, seconds=5400)"
      ]
     },
     "execution_count": 30,
     "metadata": {},
     "output_type": "execute_result"
    }
   ],
   "source": [
    "delta"
   ]
  },
  {
   "cell_type": "code",
   "execution_count": 31,
   "id": "251b2e5f",
   "metadata": {},
   "outputs": [
    {
     "data": {
      "text/plain": [
       "2"
      ]
     },
     "execution_count": 31,
     "metadata": {},
     "output_type": "execute_result"
    }
   ],
   "source": [
    "delta.days"
   ]
  },
  {
   "cell_type": "code",
   "execution_count": 32,
   "id": "d928c5a2",
   "metadata": {},
   "outputs": [
    {
     "data": {
      "text/plain": [
       "5400"
      ]
     },
     "execution_count": 32,
     "metadata": {},
     "output_type": "execute_result"
    }
   ],
   "source": [
    "delta.seconds"
   ]
  },
  {
   "cell_type": "markdown",
   "id": "f7004c06",
   "metadata": {},
   "source": [
    "Bạnk có thể cộng hoặc trừ 1 `timedelta()` hoặc `multiple()` để dịch chuyển sang một time mới"
   ]
  },
  {
   "cell_type": "code",
   "execution_count": 41,
   "id": "0c16f863",
   "metadata": {},
   "outputs": [],
   "source": [
    "from datetime import timedelta\n",
    "start = datetime(2021,5,16,8,30)"
   ]
  },
  {
   "cell_type": "code",
   "execution_count": 42,
   "id": "6c4fec1a",
   "metadata": {},
   "outputs": [
    {
     "data": {
      "text/plain": [
       "datetime.datetime(2021, 5, 17, 16, 30)"
      ]
     },
     "execution_count": 42,
     "metadata": {},
     "output_type": "execute_result"
    }
   ],
   "source": [
    "start + timedelta(1,8*60*60)"
   ]
  },
  {
   "cell_type": "markdown",
   "id": "d3ebc700",
   "metadata": {},
   "source": [
    "#### Convert Between String and Datetime"
   ]
  },
  {
   "cell_type": "markdown",
   "id": "9088cf4f",
   "metadata": {},
   "source": [
    "Bạn có thể chuyển `datetime()` Object và pandas TimeStamp Object, tôi sẽ giới thiệu sau nhưng giờ tôi muốn giới thiệu về `string` trước, bằng các sử dụng `strftime()`"
   ]
  },
  {
   "cell_type": "code",
   "execution_count": 52,
   "id": "427319bf",
   "metadata": {},
   "outputs": [],
   "source": [
    "stamp = datetime(2011,1,15,23,20)"
   ]
  },
  {
   "cell_type": "code",
   "execution_count": 53,
   "id": "ba232229",
   "metadata": {},
   "outputs": [
    {
     "data": {
      "text/plain": [
       "'2011-01-15 23:20:00'"
      ]
     },
     "execution_count": 53,
     "metadata": {},
     "output_type": "execute_result"
    }
   ],
   "source": [
    "str(stamp)"
   ]
  },
  {
   "cell_type": "code",
   "execution_count": 55,
   "id": "45f8910a",
   "metadata": {},
   "outputs": [
    {
     "data": {
      "text/plain": [
       "'2011-01-15-23-11-20-02'"
      ]
     },
     "execution_count": 55,
     "metadata": {},
     "output_type": "execute_result"
    }
   ],
   "source": [
    "stamp.strftime('%Y-%m-%d-%H-%I-%M-%W')"
   ]
  },
  {
   "cell_type": "markdown",
   "id": "c6094936",
   "metadata": {},
   "source": [
    "**Note**: `%F` shortcut for %Y-%m-%d\n"
   ]
  },
  {
   "cell_type": "markdown",
   "id": "9368f2bc",
   "metadata": {},
   "source": [
    "Bạn có thể sử dụng những same format code chuyển từ string to date như `datetime.strptime`"
   ]
  },
  {
   "cell_type": "code",
   "execution_count": 56,
   "id": "8b36b796",
   "metadata": {},
   "outputs": [],
   "source": [
    "value = '2011-01-03'"
   ]
  },
  {
   "cell_type": "code",
   "execution_count": 58,
   "id": "7fddd3c9",
   "metadata": {},
   "outputs": [
    {
     "data": {
      "text/plain": [
       "datetime.datetime(2011, 1, 3, 0, 0)"
      ]
     },
     "execution_count": 58,
     "metadata": {},
     "output_type": "execute_result"
    }
   ],
   "source": [
    "datetime.strptime(value,'%Y-%m-%d')"
   ]
  },
  {
   "cell_type": "code",
   "execution_count": 60,
   "id": "3ce3a333",
   "metadata": {},
   "outputs": [
    {
     "data": {
      "text/plain": [
       "datetime.datetime(2011, 1, 3, 0, 0)"
      ]
     },
     "execution_count": 60,
     "metadata": {},
     "output_type": "execute_result"
    }
   ],
   "source": [
    "datetime(2011,1,3,0,0)"
   ]
  },
  {
   "cell_type": "code",
   "execution_count": 62,
   "id": "33425f69",
   "metadata": {},
   "outputs": [],
   "source": [
    "datestrs = ['27/08/2001','20/10/1999']"
   ]
  },
  {
   "cell_type": "code",
   "execution_count": 65,
   "id": "854ddcfc",
   "metadata": {},
   "outputs": [
    {
     "data": {
      "text/plain": [
       "[datetime.datetime(2001, 8, 27, 0, 0), datetime.datetime(1999, 10, 20, 0, 0)]"
      ]
     },
     "execution_count": 65,
     "metadata": {},
     "output_type": "execute_result"
    }
   ],
   "source": [
    "[datetime.strptime(x,'%d/%m/%Y') for x in datestrs]"
   ]
  },
  {
   "cell_type": "markdown",
   "id": "2065bb89",
   "metadata": {},
   "source": [
    "`datetime.strptime()` là 1 cách tốt để chuyển với cái format định sẵn. Tuy nhiên, nó có vẻ a chút khó chị khi có viết một format spec each time, đặc biệt nấht chug date formats. Trong trường hợp này bạn có thể sử dụng `parser.parse()` trong **third-party** deteutil package"
   ]
  },
  {
   "cell_type": "code",
   "execution_count": 66,
   "id": "595d4ca1",
   "metadata": {},
   "outputs": [
    {
     "data": {
      "text/plain": [
       "datetime.datetime(2001, 8, 27, 0, 0)"
      ]
     },
     "execution_count": 66,
     "metadata": {},
     "output_type": "execute_result"
    }
   ],
   "source": [
    "from dateutil.parser import parse\n",
    "parse('2001-08-27')"
   ]
  },
  {
   "cell_type": "markdown",
   "id": "1b50957c",
   "metadata": {},
   "source": [
    "Dateutil có khả năng phân tích cú pháp hầu hết các đại diện ngày tháng mà con người có thể hiểu được:\"\n"
   ]
  },
  {
   "cell_type": "code",
   "execution_count": 67,
   "id": "029e9e53",
   "metadata": {},
   "outputs": [
    {
     "data": {
      "text/plain": [
       "datetime.datetime(1997, 1, 31, 22, 45)"
      ]
     },
     "execution_count": 67,
     "metadata": {},
     "output_type": "execute_result"
    }
   ],
   "source": [
    "parse('Jan 31, 1997 10:45 PM')"
   ]
  },
  {
   "cell_type": "markdown",
   "id": "c55b83f4",
   "metadata": {},
   "source": [
    "Có thể thêm date first để biết rằng first có thể là ngày"
   ]
  },
  {
   "cell_type": "code",
   "execution_count": 74,
   "id": "4a614a50",
   "metadata": {},
   "outputs": [
    {
     "data": {
      "text/plain": [
       "datetime.datetime(2001, 12, 6, 0, 0)"
      ]
     },
     "execution_count": 74,
     "metadata": {},
     "output_type": "execute_result"
    }
   ],
   "source": [
    "parse('6/12/2001',dayfirst=True)"
   ]
  },
  {
   "cell_type": "markdown",
   "id": "775a9de8",
   "metadata": {},
   "source": [
    "**Pandas** thường làm việc với array của dates, liệu sử dụng như một chiều index hoặc một cột trong 1 DataFrame. `to_datetime` method `parses` rất nhiều loại date định dang. Những dạng format như ISO 8601 có thể xử lý rất nhanh "
   ]
  },
  {
   "cell_type": "code",
   "execution_count": 78,
   "id": "f023b495",
   "metadata": {},
   "outputs": [],
   "source": [
    "datestrs = ['2011-07-06 12:00:00','2012-8-27 00:00:00']"
   ]
  },
  {
   "cell_type": "code",
   "execution_count": 79,
   "id": "7d4be468",
   "metadata": {},
   "outputs": [
    {
     "data": {
      "text/plain": [
       "DatetimeIndex(['2011-07-06 12:00:00', '2012-08-27 00:00:00'], dtype='datetime64[ns]', freq=None)"
      ]
     },
     "execution_count": 79,
     "metadata": {},
     "output_type": "execute_result"
    }
   ],
   "source": [
    "pd.to_datetime(datestrs)"
   ]
  },
  {
   "cell_type": "markdown",
   "id": "769e34e9",
   "metadata": {},
   "source": [
    "Nó cũng xử lý những giá trị được coi là mising "
   ]
  },
  {
   "cell_type": "code",
   "execution_count": 80,
   "id": "db9c6b6f",
   "metadata": {},
   "outputs": [],
   "source": [
    "idx = pd.to_datetime(datestrs+ [None])"
   ]
  },
  {
   "cell_type": "code",
   "execution_count": 81,
   "id": "11f715a4",
   "metadata": {},
   "outputs": [
    {
     "data": {
      "text/plain": [
       "DatetimeIndex(['2011-07-06 12:00:00', '2012-08-27 00:00:00', 'NaT'], dtype='datetime64[ns]', freq=None)"
      ]
     },
     "execution_count": 81,
     "metadata": {},
     "output_type": "execute_result"
    }
   ],
   "source": [
    "idx"
   ]
  },
  {
   "cell_type": "code",
   "execution_count": 82,
   "id": "486da46e",
   "metadata": {},
   "outputs": [
    {
     "data": {
      "text/plain": [
       "array([False, False,  True])"
      ]
     },
     "execution_count": 82,
     "metadata": {},
     "output_type": "execute_result"
    }
   ],
   "source": [
    "pd.isnull(idx)"
   ]
  },
  {
   "cell_type": "markdown",
   "id": "9be1d4ac",
   "metadata": {},
   "source": [
    "**Note**: *NaT* (Not A Time) được coi là null trong timestamp."
   ]
  },
  {
   "cell_type": "markdown",
   "id": "a009cf59",
   "metadata": {},
   "source": [
    "### 11.2 Time Series Basic\n",
    "Cơ bản của các loại timeseríe object trong pandas là 1 Series indexed by `timestamps`, nó thường đại diện bên ngoài pandas như python strings hoặc datetime object"
   ]
  },
  {
   "cell_type": "code",
   "execution_count": 84,
   "id": "164eab08",
   "metadata": {},
   "outputs": [],
   "source": [
    "from datetime import datetime\n",
    "dates = [datetime(2021,2,3),datetime(2021,2,10)\n",
    "        ,datetime(2021,2,11),datetime(2021,2,12)\n",
    "        ,datetime(2021,2,13),datetime(2021,2,14)]"
   ]
  },
  {
   "cell_type": "code",
   "execution_count": 85,
   "id": "a4c1c8b8",
   "metadata": {},
   "outputs": [],
   "source": [
    "ts = pd.Series(np.random.randn(6),dates)"
   ]
  },
  {
   "cell_type": "code",
   "execution_count": 86,
   "id": "dade0550",
   "metadata": {},
   "outputs": [
    {
     "data": {
      "text/plain": [
       "2021-02-03    0.913441\n",
       "2021-02-10    0.631320\n",
       "2021-02-11    0.352669\n",
       "2021-02-12    1.477629\n",
       "2021-02-13   -1.296447\n",
       "2021-02-14    1.035378\n",
       "dtype: float64"
      ]
     },
     "execution_count": 86,
     "metadata": {},
     "output_type": "execute_result"
    }
   ],
   "source": [
    "ts"
   ]
  },
  {
   "cell_type": "markdown",
   "id": "21083b88",
   "metadata": {},
   "source": [
    "Bên sâu, `datetime` object có put trong 1 DateTime Index"
   ]
  },
  {
   "cell_type": "code",
   "execution_count": 87,
   "id": "a739e25f",
   "metadata": {},
   "outputs": [
    {
     "data": {
      "text/plain": [
       "DatetimeIndex(['2021-02-03', '2021-02-10', '2021-02-11', '2021-02-12',\n",
       "               '2021-02-13', '2021-02-14'],\n",
       "              dtype='datetime64[ns]', freq=None)"
      ]
     },
     "execution_count": 87,
     "metadata": {},
     "output_type": "execute_result"
    }
   ],
   "source": [
    "ts.index"
   ]
  },
  {
   "cell_type": "markdown",
   "id": "e97d6741",
   "metadata": {},
   "source": [
    "Như các Series khác, những phép biến đổi thông thường giữa các indexed time sẻies automatically align on the dates"
   ]
  },
  {
   "cell_type": "code",
   "execution_count": 88,
   "id": "ab817150",
   "metadata": {},
   "outputs": [
    {
     "data": {
      "text/plain": [
       "2021-02-03    1.826881\n",
       "2021-02-10         NaN\n",
       "2021-02-11    0.705338\n",
       "2021-02-12         NaN\n",
       "2021-02-13   -2.592895\n",
       "2021-02-14         NaN\n",
       "dtype: float64"
      ]
     },
     "execution_count": 88,
     "metadata": {},
     "output_type": "execute_result"
    }
   ],
   "source": [
    "ts + ts[::2]"
   ]
  },
  {
   "cell_type": "code",
   "execution_count": 89,
   "id": "d8f91adf",
   "metadata": {},
   "outputs": [
    {
     "data": {
      "text/plain": [
       "2021-02-03    0.913441\n",
       "2021-02-11    0.352669\n",
       "2021-02-13   -1.296447\n",
       "dtype: float64"
      ]
     },
     "execution_count": 89,
     "metadata": {},
     "output_type": "execute_result"
    }
   ],
   "source": [
    "ts[::2]"
   ]
  },
  {
   "cell_type": "markdown",
   "id": "376a6ee6",
   "metadata": {},
   "source": [
    "`pandas stores` **timestamps** sử dụng NumPy's `datetime64` data type tại nano giây "
   ]
  },
  {
   "cell_type": "code",
   "execution_count": 90,
   "id": "536b2a6d",
   "metadata": {},
   "outputs": [
    {
     "data": {
      "text/plain": [
       "dtype('<M8[ns]')"
      ]
     },
     "execution_count": 90,
     "metadata": {},
     "output_type": "execute_result"
    }
   ],
   "source": [
    "ts.index.dtype"
   ]
  },
  {
   "cell_type": "markdown",
   "id": "6ebe7a4c",
   "metadata": {},
   "source": [
    "#### Index Selection Subsetting"
   ]
  },
  {
   "cell_type": "markdown",
   "id": "86af298e",
   "metadata": {},
   "source": [
    "Time series có như là other pandas. Series khi bạn là indexing và selecign data dựa trên label"
   ]
  },
  {
   "cell_type": "code",
   "execution_count": 92,
   "id": "5e6a3a5c",
   "metadata": {},
   "outputs": [],
   "source": [
    "stamp = ts.index[2]"
   ]
  },
  {
   "cell_type": "code",
   "execution_count": 93,
   "id": "0afb316b",
   "metadata": {},
   "outputs": [
    {
     "data": {
      "text/plain": [
       "Timestamp('2021-02-11 00:00:00')"
      ]
     },
     "execution_count": 93,
     "metadata": {},
     "output_type": "execute_result"
    }
   ],
   "source": [
    "stamp"
   ]
  },
  {
   "cell_type": "code",
   "execution_count": 94,
   "id": "82d9acb1",
   "metadata": {},
   "outputs": [
    {
     "data": {
      "text/plain": [
       "0.35266877060914165"
      ]
     },
     "execution_count": 94,
     "metadata": {},
     "output_type": "execute_result"
    }
   ],
   "source": [
    "ts[stamp]"
   ]
  },
  {
   "cell_type": "markdown",
   "id": "460c86dc",
   "metadata": {},
   "source": [
    "như một thông thường, bạn cũng có thể truyênf 1 string rằng như là 1 date"
   ]
  },
  {
   "cell_type": "code",
   "execution_count": 96,
   "id": "68ef87d5",
   "metadata": {},
   "outputs": [
    {
     "data": {
      "text/plain": [
       "2021-02-03    0.913441\n",
       "2021-02-10    0.631320\n",
       "2021-02-11    0.352669\n",
       "2021-02-12    1.477629\n",
       "2021-02-13   -1.296447\n",
       "2021-02-14    1.035378\n",
       "dtype: float64"
      ]
     },
     "execution_count": 96,
     "metadata": {},
     "output_type": "execute_result"
    }
   ],
   "source": [
    "ts"
   ]
  },
  {
   "cell_type": "code",
   "execution_count": 97,
   "id": "ba7e0b03",
   "metadata": {},
   "outputs": [
    {
     "data": {
      "text/plain": [
       "1.0353779371328702"
      ]
     },
     "execution_count": 97,
     "metadata": {},
     "output_type": "execute_result"
    }
   ],
   "source": [
    "ts['20210214']"
   ]
  },
  {
   "cell_type": "markdown",
   "id": "a547414e",
   "metadata": {},
   "source": [
    "Đối với chuỗi thời gian dài hơn, có thể chuyển qua một năm hoặc chỉ một năm và tháng để dễ dàng chọn các phần dữ liệu:”\n"
   ]
  },
  {
   "cell_type": "code",
   "execution_count": 98,
   "id": "a9356fb3",
   "metadata": {},
   "outputs": [],
   "source": [
    "long_ts = pd.Series(np.random.randn(1000),\n",
    "                   index = pd.date_range('1/1/2000'\n",
    "                                         ,periods=1000))"
   ]
  },
  {
   "cell_type": "code",
   "execution_count": 99,
   "id": "9e76a410",
   "metadata": {},
   "outputs": [
    {
     "data": {
      "text/plain": [
       "2000-01-01   -0.072521\n",
       "2000-01-02    0.317359\n",
       "2000-01-03   -0.476170\n",
       "2000-01-04    0.274247\n",
       "2000-01-05    0.763832\n",
       "                ...   \n",
       "2002-09-22   -0.420344\n",
       "2002-09-23   -0.953997\n",
       "2002-09-24    0.138743\n",
       "2002-09-25    1.034525\n",
       "2002-09-26   -1.157927\n",
       "Freq: D, Length: 1000, dtype: float64"
      ]
     },
     "execution_count": 99,
     "metadata": {},
     "output_type": "execute_result"
    }
   ],
   "source": [
    "long_ts"
   ]
  },
  {
   "cell_type": "code",
   "execution_count": 100,
   "id": "d82e4bb6",
   "metadata": {},
   "outputs": [
    {
     "data": {
      "text/plain": [
       "2001-01-01   -0.764219\n",
       "2001-01-02    1.129377\n",
       "2001-01-03   -0.126941\n",
       "2001-01-04    1.073938\n",
       "2001-01-05   -1.131700\n",
       "                ...   \n",
       "2001-12-27    1.610636\n",
       "2001-12-28   -2.110037\n",
       "2001-12-29   -0.070793\n",
       "2001-12-30    0.260430\n",
       "2001-12-31   -0.011827\n",
       "Freq: D, Length: 365, dtype: float64"
      ]
     },
     "execution_count": 100,
     "metadata": {},
     "output_type": "execute_result"
    }
   ],
   "source": [
    "long_ts['2001']"
   ]
  },
  {
   "cell_type": "code",
   "execution_count": 101,
   "id": "b47098be",
   "metadata": {},
   "outputs": [
    {
     "data": {
      "text/plain": [
       "2001-05-01   -0.288522\n",
       "2001-05-02    0.607232\n",
       "2001-05-03    0.555163\n",
       "2001-05-04   -0.505052\n",
       "2001-05-05   -0.093431\n",
       "2001-05-06    1.358805\n",
       "2001-05-07    0.723014\n",
       "2001-05-08    1.293868\n",
       "2001-05-09    1.290240\n",
       "2001-05-10    0.886800\n",
       "2001-05-11   -0.423131\n",
       "2001-05-12   -0.555110\n",
       "2001-05-13    0.470747\n",
       "2001-05-14    0.003254\n",
       "2001-05-15   -0.721068\n",
       "2001-05-16    0.107157\n",
       "2001-05-17   -1.070031\n",
       "2001-05-18   -0.615449\n",
       "2001-05-19   -0.135944\n",
       "2001-05-20   -1.318536\n",
       "2001-05-21   -0.624341\n",
       "2001-05-22    1.814932\n",
       "2001-05-23   -0.660165\n",
       "2001-05-24   -1.093306\n",
       "2001-05-25    0.504009\n",
       "2001-05-26    0.191580\n",
       "2001-05-27    1.917041\n",
       "2001-05-28   -1.097004\n",
       "2001-05-29    0.313922\n",
       "2001-05-30   -0.195264\n",
       "2001-05-31   -0.015325\n",
       "Freq: D, dtype: float64"
      ]
     },
     "execution_count": 101,
     "metadata": {},
     "output_type": "execute_result"
    }
   ],
   "source": [
    "long_ts['2001-05']"
   ]
  },
  {
   "cell_type": "markdown",
   "id": "afdc09d7",
   "metadata": {},
   "source": [
    "cắt với `datime()` "
   ]
  },
  {
   "cell_type": "code",
   "execution_count": 102,
   "id": "13eb1e19",
   "metadata": {},
   "outputs": [
    {
     "data": {
      "text/plain": [
       "2021-02-03    0.913441\n",
       "2021-02-10    0.631320\n",
       "2021-02-11    0.352669\n",
       "2021-02-12    1.477629\n",
       "2021-02-13   -1.296447\n",
       "2021-02-14    1.035378\n",
       "dtype: float64"
      ]
     },
     "execution_count": 102,
     "metadata": {},
     "output_type": "execute_result"
    }
   ],
   "source": [
    "ts"
   ]
  },
  {
   "cell_type": "code",
   "execution_count": 105,
   "id": "f83720ec",
   "metadata": {},
   "outputs": [
    {
     "data": {
      "text/plain": [
       "2021-02-10    0.631320\n",
       "2021-02-11    0.352669\n",
       "2021-02-12    1.477629\n",
       "2021-02-13   -1.296447\n",
       "2021-02-14    1.035378\n",
       "dtype: float64"
      ]
     },
     "execution_count": 105,
     "metadata": {},
     "output_type": "execute_result"
    }
   ],
   "source": [
    "ts[datetime(2021,2,10):]"
   ]
  },
  {
   "cell_type": "markdown",
   "id": "eec2dcff",
   "metadata": {},
   "source": [
    "Bởi vì hầu hết time series là sắp xếp theo thú tựu thời gian bạn có thể cắt với `timestamps` không bao gồm trong 1 time sẻies "
   ]
  },
  {
   "cell_type": "code",
   "execution_count": 106,
   "id": "1ce95c72",
   "metadata": {},
   "outputs": [
    {
     "data": {
      "text/plain": [
       "2021-02-03    0.913441\n",
       "2021-02-10    0.631320\n",
       "2021-02-11    0.352669\n",
       "2021-02-12    1.477629\n",
       "2021-02-13   -1.296447\n",
       "2021-02-14    1.035378\n",
       "dtype: float64"
      ]
     },
     "execution_count": 106,
     "metadata": {},
     "output_type": "execute_result"
    }
   ],
   "source": [
    "ts"
   ]
  },
  {
   "cell_type": "code",
   "execution_count": 107,
   "id": "77f8cd08",
   "metadata": {},
   "outputs": [
    {
     "data": {
      "text/plain": [
       "2021-02-10    0.631320\n",
       "2021-02-11    0.352669\n",
       "2021-02-12    1.477629\n",
       "2021-02-13   -1.296447\n",
       "dtype: float64"
      ]
     },
     "execution_count": 107,
     "metadata": {},
     "output_type": "execute_result"
    }
   ],
   "source": [
    "ts[\"2021/02/10\":\"2021/02/13\"]"
   ]
  },
  {
   "cell_type": "markdown",
   "id": "7757c544",
   "metadata": {},
   "source": [
    "Như trước đây, bạn có thể bát các loạ string date, ở dateim hoặc time-stamp. Nhứ rằng cắt trong các mảng này thì k sửa đc nó là k coppy gì hết nhé"
   ]
  },
  {
   "cell_type": "markdown",
   "id": "bc057e9a",
   "metadata": {},
   "source": [
    "Có một phương thức phiên bản tương đương, cắt ngắn, cắt một Chuỗi giữa hai ngày:"
   ]
  },
  {
   "cell_type": "code",
   "execution_count": 108,
   "id": "2c8cf8c1",
   "metadata": {},
   "outputs": [
    {
     "data": {
      "text/plain": [
       "2021-02-03    0.913441\n",
       "2021-02-10    0.631320\n",
       "2021-02-11    0.352669\n",
       "2021-02-12    1.477629\n",
       "2021-02-13   -1.296447\n",
       "dtype: float64"
      ]
     },
     "execution_count": 108,
     "metadata": {},
     "output_type": "execute_result"
    }
   ],
   "source": [
    "ts.truncate(after='2021/02/13')"
   ]
  },
  {
   "cell_type": "markdown",
   "id": "577478dc",
   "metadata": {},
   "source": [
    "Tất cả những điêu trên đều được sử dụng DataFrame as well, indexing on ít rows"
   ]
  },
  {
   "cell_type": "code",
   "execution_count": 117,
   "id": "500d9b12",
   "metadata": {},
   "outputs": [],
   "source": [
    "dates= pd.date_range('1/1/2000',periods=100,freq='W-WED')"
   ]
  },
  {
   "cell_type": "code",
   "execution_count": 118,
   "id": "47f82831",
   "metadata": {},
   "outputs": [],
   "source": [
    "long_df = pd.DataFrame(np.random.rand(100,4),\n",
    "                      index=dates,\n",
    "                      columns=['Colorado','Texas','New York','Ohio'])"
   ]
  },
  {
   "cell_type": "code",
   "execution_count": 119,
   "id": "d47d9cc0",
   "metadata": {},
   "outputs": [
    {
     "data": {
      "text/html": [
       "<div>\n",
       "<style scoped>\n",
       "    .dataframe tbody tr th:only-of-type {\n",
       "        vertical-align: middle;\n",
       "    }\n",
       "\n",
       "    .dataframe tbody tr th {\n",
       "        vertical-align: top;\n",
       "    }\n",
       "\n",
       "    .dataframe thead th {\n",
       "        text-align: right;\n",
       "    }\n",
       "</style>\n",
       "<table border=\"1\" class=\"dataframe\">\n",
       "  <thead>\n",
       "    <tr style=\"text-align: right;\">\n",
       "      <th></th>\n",
       "      <th>Colorado</th>\n",
       "      <th>Texas</th>\n",
       "      <th>New York</th>\n",
       "      <th>Ohio</th>\n",
       "    </tr>\n",
       "  </thead>\n",
       "  <tbody>\n",
       "    <tr>\n",
       "      <th>2000-01-05</th>\n",
       "      <td>0.529264</td>\n",
       "      <td>0.017925</td>\n",
       "      <td>0.298014</td>\n",
       "      <td>0.563361</td>\n",
       "    </tr>\n",
       "    <tr>\n",
       "      <th>2000-01-12</th>\n",
       "      <td>0.155073</td>\n",
       "      <td>0.420378</td>\n",
       "      <td>0.643011</td>\n",
       "      <td>0.718028</td>\n",
       "    </tr>\n",
       "    <tr>\n",
       "      <th>2000-01-19</th>\n",
       "      <td>0.036844</td>\n",
       "      <td>0.348040</td>\n",
       "      <td>0.294304</td>\n",
       "      <td>0.847636</td>\n",
       "    </tr>\n",
       "    <tr>\n",
       "      <th>2000-01-26</th>\n",
       "      <td>0.905720</td>\n",
       "      <td>0.920182</td>\n",
       "      <td>0.411376</td>\n",
       "      <td>0.000666</td>\n",
       "    </tr>\n",
       "    <tr>\n",
       "      <th>2000-02-02</th>\n",
       "      <td>0.434244</td>\n",
       "      <td>0.064442</td>\n",
       "      <td>0.629649</td>\n",
       "      <td>0.593462</td>\n",
       "    </tr>\n",
       "    <tr>\n",
       "      <th>...</th>\n",
       "      <td>...</td>\n",
       "      <td>...</td>\n",
       "      <td>...</td>\n",
       "      <td>...</td>\n",
       "    </tr>\n",
       "    <tr>\n",
       "      <th>2001-10-31</th>\n",
       "      <td>0.610662</td>\n",
       "      <td>0.250319</td>\n",
       "      <td>0.819897</td>\n",
       "      <td>0.298199</td>\n",
       "    </tr>\n",
       "    <tr>\n",
       "      <th>2001-11-07</th>\n",
       "      <td>0.162254</td>\n",
       "      <td>0.605024</td>\n",
       "      <td>0.024722</td>\n",
       "      <td>0.417538</td>\n",
       "    </tr>\n",
       "    <tr>\n",
       "      <th>2001-11-14</th>\n",
       "      <td>0.839768</td>\n",
       "      <td>0.536326</td>\n",
       "      <td>0.425457</td>\n",
       "      <td>0.909153</td>\n",
       "    </tr>\n",
       "    <tr>\n",
       "      <th>2001-11-21</th>\n",
       "      <td>0.536153</td>\n",
       "      <td>0.997042</td>\n",
       "      <td>0.423726</td>\n",
       "      <td>0.756468</td>\n",
       "    </tr>\n",
       "    <tr>\n",
       "      <th>2001-11-28</th>\n",
       "      <td>0.103942</td>\n",
       "      <td>0.122022</td>\n",
       "      <td>0.312206</td>\n",
       "      <td>0.295565</td>\n",
       "    </tr>\n",
       "  </tbody>\n",
       "</table>\n",
       "<p>100 rows × 4 columns</p>\n",
       "</div>"
      ],
      "text/plain": [
       "            Colorado     Texas  New York      Ohio\n",
       "2000-01-05  0.529264  0.017925  0.298014  0.563361\n",
       "2000-01-12  0.155073  0.420378  0.643011  0.718028\n",
       "2000-01-19  0.036844  0.348040  0.294304  0.847636\n",
       "2000-01-26  0.905720  0.920182  0.411376  0.000666\n",
       "2000-02-02  0.434244  0.064442  0.629649  0.593462\n",
       "...              ...       ...       ...       ...\n",
       "2001-10-31  0.610662  0.250319  0.819897  0.298199\n",
       "2001-11-07  0.162254  0.605024  0.024722  0.417538\n",
       "2001-11-14  0.839768  0.536326  0.425457  0.909153\n",
       "2001-11-21  0.536153  0.997042  0.423726  0.756468\n",
       "2001-11-28  0.103942  0.122022  0.312206  0.295565\n",
       "\n",
       "[100 rows x 4 columns]"
      ]
     },
     "execution_count": 119,
     "metadata": {},
     "output_type": "execute_result"
    }
   ],
   "source": [
    "long_df"
   ]
  },
  {
   "cell_type": "code",
   "execution_count": 121,
   "id": "619a53b2",
   "metadata": {},
   "outputs": [
    {
     "data": {
      "text/html": [
       "<div>\n",
       "<style scoped>\n",
       "    .dataframe tbody tr th:only-of-type {\n",
       "        vertical-align: middle;\n",
       "    }\n",
       "\n",
       "    .dataframe tbody tr th {\n",
       "        vertical-align: top;\n",
       "    }\n",
       "\n",
       "    .dataframe thead th {\n",
       "        text-align: right;\n",
       "    }\n",
       "</style>\n",
       "<table border=\"1\" class=\"dataframe\">\n",
       "  <thead>\n",
       "    <tr style=\"text-align: right;\">\n",
       "      <th></th>\n",
       "      <th>Colorado</th>\n",
       "      <th>Texas</th>\n",
       "      <th>New York</th>\n",
       "      <th>Ohio</th>\n",
       "    </tr>\n",
       "  </thead>\n",
       "  <tbody>\n",
       "    <tr>\n",
       "      <th>2000-04-05</th>\n",
       "      <td>0.142459</td>\n",
       "      <td>0.518748</td>\n",
       "      <td>0.766819</td>\n",
       "      <td>0.884731</td>\n",
       "    </tr>\n",
       "    <tr>\n",
       "      <th>2000-04-12</th>\n",
       "      <td>0.307889</td>\n",
       "      <td>0.958632</td>\n",
       "      <td>0.306741</td>\n",
       "      <td>0.935726</td>\n",
       "    </tr>\n",
       "    <tr>\n",
       "      <th>2000-04-19</th>\n",
       "      <td>0.787090</td>\n",
       "      <td>0.097034</td>\n",
       "      <td>0.970800</td>\n",
       "      <td>0.435122</td>\n",
       "    </tr>\n",
       "    <tr>\n",
       "      <th>2000-04-26</th>\n",
       "      <td>0.756554</td>\n",
       "      <td>0.918591</td>\n",
       "      <td>0.589286</td>\n",
       "      <td>0.247767</td>\n",
       "    </tr>\n",
       "  </tbody>\n",
       "</table>\n",
       "</div>"
      ],
      "text/plain": [
       "            Colorado     Texas  New York      Ohio\n",
       "2000-04-05  0.142459  0.518748  0.766819  0.884731\n",
       "2000-04-12  0.307889  0.958632  0.306741  0.935726\n",
       "2000-04-19  0.787090  0.097034  0.970800  0.435122\n",
       "2000-04-26  0.756554  0.918591  0.589286  0.247767"
      ]
     },
     "execution_count": 121,
     "metadata": {},
     "output_type": "execute_result"
    }
   ],
   "source": [
    "long_df.loc['2000-04']"
   ]
  },
  {
   "cell_type": "markdown",
   "id": "2eb5d6fd",
   "metadata": {},
   "source": [
    "### Time Series With Duplicate Indices"
   ]
  },
  {
   "cell_type": "markdown",
   "id": "5745918c",
   "metadata": {},
   "source": [
    "Trong vài application, there có thể nhiều dữ liệu quan sát sẽ rơi vào 1 thời gian cụ thể. Dưới đây là 1 ví dụ : \n"
   ]
  },
  {
   "cell_type": "code",
   "execution_count": 122,
   "id": "9d7b2516",
   "metadata": {},
   "outputs": [],
   "source": [
    "dates= pd.DatetimeIndex(['1/1/2000','1/2/2000','1/2/2000','1/2/2000','1/3/2000'])"
   ]
  },
  {
   "cell_type": "code",
   "execution_count": 123,
   "id": "f159145c",
   "metadata": {},
   "outputs": [],
   "source": [
    "dup_ts = pd.Series(np.arange(5),index=dates)"
   ]
  },
  {
   "cell_type": "code",
   "execution_count": 124,
   "id": "70616ece",
   "metadata": {},
   "outputs": [
    {
     "data": {
      "text/plain": [
       "2000-01-01    0\n",
       "2000-01-02    1\n",
       "2000-01-02    2\n",
       "2000-01-02    3\n",
       "2000-01-03    4\n",
       "dtype: int64"
      ]
     },
     "execution_count": 124,
     "metadata": {},
     "output_type": "execute_result"
    }
   ],
   "source": [
    "dup_ts"
   ]
  },
  {
   "cell_type": "markdown",
   "id": "c51570f9",
   "metadata": {},
   "source": [
    "Chúng ta có thể nói rằng index không `Unique` bởi check `is_unique` property:"
   ]
  },
  {
   "cell_type": "code",
   "execution_count": 125,
   "id": "0723a747",
   "metadata": {},
   "outputs": [
    {
     "data": {
      "text/plain": [
       "False"
      ]
     },
     "execution_count": 125,
     "metadata": {},
     "output_type": "execute_result"
    }
   ],
   "source": [
    "dup_ts.index.is_unique"
   ]
  },
  {
   "cell_type": "code",
   "execution_count": 126,
   "id": "8f123244",
   "metadata": {},
   "outputs": [
    {
     "data": {
      "text/plain": [
       "2000-01-02    1\n",
       "2000-01-02    2\n",
       "2000-01-02    3\n",
       "dtype: int64"
      ]
     },
     "execution_count": 126,
     "metadata": {},
     "output_type": "execute_result"
    }
   ],
   "source": [
    "dup_ts['1/2/2000']"
   ]
  },
  {
   "cell_type": "markdown",
   "id": "c271cbac",
   "metadata": {},
   "source": [
    "Giả sử rằng bạn muốn gộp các dẽ liêu không **non-unique** timestamps. Một cách để làm điều đó sử dung `groupby` và truyền level = 0"
   ]
  },
  {
   "cell_type": "code",
   "execution_count": 127,
   "id": "109752d0",
   "metadata": {},
   "outputs": [],
   "source": [
    "grouped = dup_ts.groupby(level=0)"
   ]
  },
  {
   "cell_type": "code",
   "execution_count": 129,
   "id": "0d04da6b",
   "metadata": {},
   "outputs": [
    {
     "data": {
      "text/plain": [
       "2000-01-01    0\n",
       "2000-01-02    2\n",
       "2000-01-03    4\n",
       "dtype: int64"
      ]
     },
     "execution_count": 129,
     "metadata": {},
     "output_type": "execute_result"
    }
   ],
   "source": [
    "grouped.mean()"
   ]
  },
  {
   "cell_type": "code",
   "execution_count": 130,
   "id": "50c0dbd8",
   "metadata": {},
   "outputs": [
    {
     "data": {
      "text/plain": [
       "2000-01-01    1\n",
       "2000-01-02    3\n",
       "2000-01-03    1\n",
       "dtype: int64"
      ]
     },
     "execution_count": 130,
     "metadata": {},
     "output_type": "execute_result"
    }
   ],
   "source": [
    "grouped.count()"
   ]
  },
  {
   "cell_type": "code",
   "execution_count": null,
   "id": "313d47e5",
   "metadata": {},
   "outputs": [],
   "source": []
  }
 ],
 "metadata": {
  "kernelspec": {
   "display_name": "Python 3",
   "language": "python",
   "name": "python3"
  },
  "language_info": {
   "codemirror_mode": {
    "name": "ipython",
    "version": 3
   },
   "file_extension": ".py",
   "mimetype": "text/x-python",
   "name": "python",
   "nbconvert_exporter": "python",
   "pygments_lexer": "ipython3",
   "version": "3.9.0"
  }
 },
 "nbformat": 4,
 "nbformat_minor": 5
}
