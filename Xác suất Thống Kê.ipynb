{
 "cells": [
  {
   "cell_type": "markdown",
   "id": "82bdaa50",
   "metadata": {},
   "source": [
    "## Giới thiệu về các Features trong Dữ liệu \n",
    "\n",
    "1. **ID** : ID cho mỗi vụ tai nạn là unique\n",
    "\n",
    "2. **Severity**: Cho biết mức độ nghiêm trọng của vụ tai nạn, một số từ 1 đến 4, trong đó 1 cho biết tác động ít nhất đến giao thông (tức là thời gian trễ ngắn\n",
    "\n",
    "3. **Start_Time**: Hiển thị thời gian bắt đầu vụ tai nạn theo múi giờ địa phương.\n",
    "\n",
    "4. **End_Time**:  Hiển thị thời gian kết thúc vụ tai nạn theo múi giờ địa phương. Thời gian kết thúc ở đây là thời\n",
    "điểm tác động của tai nạn đến luồng giao thông\n",
    "5. **Start_Lat**: Hiển thị vĩ độ trong tọa độ GPS của điểm bắt đầu.\n",
    "6. **Start_Lng**: Hiển thị kinh độ trong tọa độ GPS của điểm bắt đầu.\n",
    "7. **End_Lat**: Hiển thị vĩ độ trong tọa độ GPS của điểm cuối.\n",
    "8. **End_Lng**: Hiển thị kinh độ trong tọa độ GPS của điểm cuối.\n",
    "9. **Distance(mi)**: Chiều dài của đoạn đường bị ảnh hưởng bởi vụ tai nạn.\n",
    "10. **Description**: Hiển thị mô tả bằng ngôn ngữ tự nhiên về vụ tai nạn\n",
    "11. **Number**: Hiển thị số đường phố trong bản ghi địa chỉ.\n",
    "12. **Street**: Hiển thị tên đường trong bản ghi địa chỉ\n",
    "13. **Side**:Hiển thị phía tương đối của đường (Phải / Trái) trong bản ghi địa chỉ.\n",
    "14. **City**:Hiển thị thành phố trong bản ghi địa chỉ.\n",
    "15. **County**:Hiển thị quận trong hồ sơ địa chỉ.\n",
    "16. **State**Hiển thị trạng thái trong bản ghi địa chỉ.\n",
    "17. **Zipcode**Hiển thị mã zip trong bản ghi địa chỉ\n",
    "18. **Country**Hiển thị quốc gia trong bản ghi địa chỉ\n",
    "19. **Timezone**Hiển thị múi giờ dựa trên vị trí của vụ tai nạn (miền đông, miền trung, v.v.).\n",
    "20. **Airport_Code**Biểu thị một trạm thời tiết ở sân bay là trạm gần nhất với vị trí xảy ra tai nạn.\n",
    "21. **Weather_Timestamp** Hiển thị dấu thời gian của bản ghi quan sát thời tiết (theo giờ địa phương).\n",
    "22. **Temperature(F)** Hiển thị nhiệt độ (tính bằng F).\n",
    "23. **Wind_Chill(F)** Cho thấy gió lạnh (bằng Fahrenheit).\n",
    "24. **Humidity(%)** Hiển thị độ ẩm (theo phần trăm\n",
    "25. **Pressure(in)** Hiển thị áp suất không khí (tính bằng inch).\n",
    "26. **Visibility(mi)**\n",
    "27. **Wind_Direction**Hiển thị hướng gió.\n",
    "28. **Wind_Speed(mph)** Hiển thị tốc độ gió miles / giờ\n",
    "29. **Precipitation(in)** Hiển thị lượng mưa tính bằng inch, nếu có.\n",
    "30. **Weather_Condition** Hiển thị tình trạng thời tiết (mưa, tuyết, dông, sương mù, v.v.\n",
    "31. **Amenity**Chú thích POI cho biết sự hiện diện của tiện nghi ở một vị trí gần đó\n",
    "\n",
    "32. **Bump**: Chú thích POI cho biết sự hiện diện của gờ giảm tốc hoặc gờ giảm tốc ở một vị trí gần đó.\n",
    "\n",
    "33. **Crossing**: Chú thích POI cho biết sự hiện diện của băng qua đường ở một địa điểm gần đó.\n",
    "\n",
    "34. **Give_Way**: Chú thích POI cho biết sự hiện diện của nhường đường cho xe đi ở đường chính. ở một vị trí gần đó.\n",
    "35. **Junction**: Chú thích POI cho biết sự hiện diện của đường giao nhau ở một vị trí gần đó\n",
    "36. **No_Exit**: Chú thích POI cho biết sự hiện diện của no exit ở một vị trí gần đó.\n",
    "37. **Railway**: Chú thích POI cho biết sự hiện diện của đường sắt ở một vị trí gần đó.\n",
    "38. **Roundabout**: Chú thích POI cho biết sự hiện diện của bùng binh ở một vị trí gần đó.\n",
    "39. **Station**: Chú thích POI cho biết sự hiện diện của trạm ở một vị trí gần đó.\n",
    "40. **Stop**:Chú thích POI cho biết sự hiện diện của điểm dừng ở một địa điểm gần đó.\n",
    "41. **Traffic_Calming**:Chú thích POI cho biết sự hiện diện của traffic calming ở một vị trí gần đó.\n",
    "42. **Traffic_Signal**: Chú thích POI cho biết sự hiện diện của traffic signal ở một vị trí gần đó\n",
    "43. **Turning_Loop**: Chú thích POI cho biết sự hiện diện của vòng xuyến ở một vị trí gần đó.\n",
    "44. **Sunrise_Sunset**: Hiển thị khoảng thời gian trong ngày (tức là ngày hoặc đêm) dựa trên mặt trời mọc / lặn.\n",
    "45. **Civil_Twilight**:Hiển thị khoảng thời gian trong ngày (tức là ngày hoặc đêm) dựa trên hoàng hôn dân sự.\n",
    "46. **Nautical_Twilight**:Hiển thị khoảng thời gian trong ngày (tức là ngày hoặc đêm) dựa trên hoàng hôn hàng hải.\n",
    "47. **Astronomical_Twilight**:Hiển thị khoảng thời gian trong ngày (tức là ngày hoặc đêm) dựa trên hoàng hôn thiên văn."
   ]
  },
  {
   "cell_type": "markdown",
   "id": "f5e8ee6f",
   "metadata": {},
   "source": [
    "### Xử lý dữ liệu \n"
   ]
  },
  {
   "cell_type": "code",
   "execution_count": 27,
   "id": "smoking-pontiac",
   "metadata": {},
   "outputs": [],
   "source": [
    "# Import các libary cần thiết \n",
    "import pandas as pd \n",
    "import numpy as np\n",
    "import matplotlib.pyplot as plt\n",
    "from datetime import datetime\n",
    "import dateutil.parser\n",
    "import seaborn as sns"
   ]
  },
  {
   "cell_type": "markdown",
   "id": "c2d3e44c",
   "metadata": {},
   "source": [
    "Đọc dữ liệu từ file bằng methods `pd.read_csv()`"
   ]
  },
  {
   "cell_type": "code",
   "execution_count": 2,
   "id": "closed-norfolk",
   "metadata": {},
   "outputs": [],
   "source": [
    "data = pd.read_csv('../../Learn/statistical_probability_application/US_Accidents_Dec20_Updated.csv',low_memory=True) "
   ]
  },
  {
   "cell_type": "markdown",
   "id": "e53a9380",
   "metadata": {},
   "source": [
    "Xem các chiều và cột của dữ liệu bằng sử dụng property: `shape`"
   ]
  },
  {
   "cell_type": "code",
   "execution_count": 3,
   "id": "a5dd4f40",
   "metadata": {},
   "outputs": [
    {
     "data": {
      "text/plain": [
       "(2906610, 47)"
      ]
     },
     "execution_count": 3,
     "metadata": {},
     "output_type": "execute_result"
    }
   ],
   "source": [
    "data.shape"
   ]
  },
  {
   "cell_type": "markdown",
   "id": "04c4182e",
   "metadata": {},
   "source": [
    "Từ trên ta thấy dữ liệu có 47 cột (features) và 2 triệu 9 trăm hàng (rows).\n",
    "\n",
    "Giờ cùng xem các cột có như những tính chất mà chúng ta vừa dịch ở trên hay ko ? \n",
    "\n",
    "bởi thuộc tính `.columns`"
   ]
  },
  {
   "cell_type": "code",
   "execution_count": 4,
   "id": "a364a4c6",
   "metadata": {},
   "outputs": [
    {
     "data": {
      "text/plain": [
       "Index(['ID', 'Severity', 'Start_Time', 'End_Time', 'Start_Lat', 'Start_Lng',\n",
       "       'End_Lat', 'End_Lng', 'Distance(mi)', 'Description', 'Number', 'Street',\n",
       "       'Side', 'City', 'County', 'State', 'Zipcode', 'Country', 'Timezone',\n",
       "       'Airport_Code', 'Weather_Timestamp', 'Temperature(F)', 'Wind_Chill(F)',\n",
       "       'Humidity(%)', 'Pressure(in)', 'Visibility(mi)', 'Wind_Direction',\n",
       "       'Wind_Speed(mph)', 'Precipitation(in)', 'Weather_Condition', 'Amenity',\n",
       "       'Bump', 'Crossing', 'Give_Way', 'Junction', 'No_Exit', 'Railway',\n",
       "       'Roundabout', 'Station', 'Stop', 'Traffic_Calming', 'Traffic_Signal',\n",
       "       'Turning_Loop', 'Sunrise_Sunset', 'Civil_Twilight', 'Nautical_Twilight',\n",
       "       'Astronomical_Twilight'],\n",
       "      dtype='object')"
      ]
     },
     "execution_count": 4,
     "metadata": {},
     "output_type": "execute_result"
    }
   ],
   "source": [
    "data.columns"
   ]
  },
  {
   "cell_type": "markdown",
   "id": "d3a22397",
   "metadata": {},
   "source": [
    "Oke sau đây sẽ check kiểu dữ liệu của các cột bằng sử dụng method: `info()`"
   ]
  },
  {
   "cell_type": "code",
   "execution_count": 7,
   "id": "integral-carol",
   "metadata": {},
   "outputs": [
    {
     "name": "stdout",
     "output_type": "stream",
     "text": [
      "<class 'pandas.core.frame.DataFrame'>\n",
      "RangeIndex: 2906610 entries, 0 to 2906609\n",
      "Data columns (total 47 columns):\n",
      " #   Column                 Dtype  \n",
      "---  ------                 -----  \n",
      " 0   ID                     object \n",
      " 1   Severity               int64  \n",
      " 2   Start_Time             object \n",
      " 3   End_Time               object \n",
      " 4   Start_Lat              float64\n",
      " 5   Start_Lng              float64\n",
      " 6   End_Lat                float64\n",
      " 7   End_Lng                float64\n",
      " 8   Distance(mi)           float64\n",
      " 9   Description            object \n",
      " 10  Number                 float64\n",
      " 11  Street                 object \n",
      " 12  Side                   object \n",
      " 13  City                   object \n",
      " 14  County                 object \n",
      " 15  State                  object \n",
      " 16  Zipcode                object \n",
      " 17  Country                object \n",
      " 18  Timezone               object \n",
      " 19  Airport_Code           object \n",
      " 20  Weather_Timestamp      object \n",
      " 21  Temperature(F)         float64\n",
      " 22  Wind_Chill(F)          float64\n",
      " 23  Humidity(%)            float64\n",
      " 24  Pressure(in)           float64\n",
      " 25  Visibility(mi)         float64\n",
      " 26  Wind_Direction         object \n",
      " 27  Wind_Speed(mph)        float64\n",
      " 28  Precipitation(in)      float64\n",
      " 29  Weather_Condition      object \n",
      " 30  Amenity                bool   \n",
      " 31  Bump                   bool   \n",
      " 32  Crossing               bool   \n",
      " 33  Give_Way               bool   \n",
      " 34  Junction               bool   \n",
      " 35  No_Exit                bool   \n",
      " 36  Railway                bool   \n",
      " 37  Roundabout             bool   \n",
      " 38  Station                bool   \n",
      " 39  Stop                   bool   \n",
      " 40  Traffic_Calming        bool   \n",
      " 41  Traffic_Signal         bool   \n",
      " 42  Turning_Loop           bool   \n",
      " 43  Sunrise_Sunset         object \n",
      " 44  Civil_Twilight         object \n",
      " 45  Nautical_Twilight      object \n",
      " 46  Astronomical_Twilight  object \n",
      "dtypes: bool(13), float64(13), int64(1), object(20)\n",
      "memory usage: 790.0+ MB\n"
     ]
    }
   ],
   "source": [
    "data.info(); # "
   ]
  },
  {
   "cell_type": "markdown",
   "id": "c7db2e1c",
   "metadata": {},
   "source": [
    "### Xử lý những giá trị có giá trị là Null hoặc là Nan "
   ]
  },
  {
   "cell_type": "markdown",
   "id": "305faf5c",
   "metadata": {},
   "source": [
    "Xem các giá trị null chiến bao nhiêu % tổng số hàng"
   ]
  },
  {
   "cell_type": "code",
   "execution_count": 6,
   "id": "ec1d0eac",
   "metadata": {},
   "outputs": [
    {
     "data": {
      "text/plain": [
       "ID                       0.000000\n",
       "Severity                 0.000000\n",
       "Start_Time               0.000000\n",
       "End_Time                 0.000000\n",
       "Start_Lat                0.000000\n",
       "Start_Lng                0.000000\n",
       "End_Lat                  0.097303\n",
       "End_Lng                  0.097303\n",
       "Distance(mi)             0.000000\n",
       "Description              0.000000\n",
       "Number                   0.650817\n",
       "Street                   0.000000\n",
       "Side                     0.000000\n",
       "City                     0.000037\n",
       "County                   0.000000\n",
       "State                    0.000000\n",
       "Zipcode                  0.000383\n",
       "Country                  0.000000\n",
       "Timezone                 0.001180\n",
       "Airport_Code             0.002273\n",
       "Weather_Timestamp        0.016141\n",
       "Temperature(F)           0.023128\n",
       "Wind_Chill(F)            0.407299\n",
       "Humidity(%)              0.024520\n",
       "Pressure(in)             0.019579\n",
       "Visibility(mi)           0.024798\n",
       "Wind_Direction           0.021838\n",
       "Wind_Speed(mph)          0.105677\n",
       "Precipitation(in)        0.447713\n",
       "Weather_Condition        0.024720\n",
       "Amenity                  0.000000\n",
       "Bump                     0.000000\n",
       "Crossing                 0.000000\n",
       "Give_Way                 0.000000\n",
       "Junction                 0.000000\n",
       "No_Exit                  0.000000\n",
       "Railway                  0.000000\n",
       "Roundabout               0.000000\n",
       "Station                  0.000000\n",
       "Stop                     0.000000\n",
       "Traffic_Calming          0.000000\n",
       "Traffic_Signal           0.000000\n",
       "Turning_Loop             0.000000\n",
       "Sunrise_Sunset           0.000038\n",
       "Civil_Twilight           0.000038\n",
       "Nautical_Twilight        0.000038\n",
       "Astronomical_Twilight    0.000038\n",
       "dtype: float64"
      ]
     },
     "execution_count": 6,
     "metadata": {},
     "output_type": "execute_result"
    }
   ],
   "source": [
    "data.isnull().sum()/ len(data)"
   ]
  },
  {
   "cell_type": "markdown",
   "id": "4c888165",
   "metadata": {},
   "source": [
    " "
   ]
  },
  {
   "cell_type": "markdown",
   "id": "f8bb412f",
   "metadata": {},
   "source": [
    "### TASK: Tai Nạn Thường xảy ra vào thời gian nào ở Mỹ \n",
    "\n",
    "1. **TASK DETAIL**: Tìm ra thời gian mà các vụ tai nạn thường xảy ra ở Mỹ. Điều này có thể được thực hiện bằng cách sử dụng cột **`start_time`** và **`end_time`**.\n",
    "\n",
    "2. **Đánh gía**: Một thứ hạng thích hợp về thời gian xảy ra tai nạn. Thời gian mà tai nạn thường xảy ra nên ở đầu danh sách cùng với số lần tai nạn xảy ra trong thời gian cụ thể đó. Những lần khác ở cấp bậc thấp hơn nên làm theo. Điều này được thực hiện để cung cấp một giải pháp chi tiết hơn."
   ]
  },
  {
   "cell_type": "markdown",
   "id": "6b347775",
   "metadata": {},
   "source": [
    "Trước hết chúng ta phải xem xem các cột này có kiểu dữ liệu là gì "
   ]
  },
  {
   "cell_type": "code",
   "execution_count": 13,
   "id": "0a8bdce2",
   "metadata": {},
   "outputs": [
    {
     "data": {
      "text/plain": [
       "str"
      ]
     },
     "execution_count": 13,
     "metadata": {},
     "output_type": "execute_result"
    }
   ],
   "source": [
    "type(data['Start_Time'][1])"
   ]
  },
  {
   "cell_type": "markdown",
   "id": "85027f3a",
   "metadata": {},
   "source": [
    "Như vậy ta thấy đây là dữ liệu string kp dữ liệu của `Timestamps` nơi đó sẽ giúp có những method xử lý dữ liệu *time stamps* thành giờ , tháng dễ dàng hơn \n"
   ]
  },
  {
   "cell_type": "markdown",
   "id": "ad40b4d8",
   "metadata": {},
   "source": [
    "Giờ đây mình sẽ tạo ra 1 cột mới để xử lý dữ liệu trên `Timestamps` là `Time_added`"
   ]
  },
  {
   "cell_type": "code",
   "execution_count": 22,
   "id": "5a9302d3",
   "metadata": {},
   "outputs": [],
   "source": [
    "data['Time_added']= data['Start_Time'].apply(lambda x: dateutil.parser.parse(x))"
   ]
  },
  {
   "cell_type": "markdown",
   "id": "e97793e1",
   "metadata": {},
   "source": [
    "Giờ chúng ta cùng nhìn đổi time ra giờ nhé. lấy 5 vị trí đầu tiên thôi. "
   ]
  },
  {
   "cell_type": "code",
   "execution_count": 24,
   "id": "80dfdb65",
   "metadata": {},
   "outputs": [
    {
     "data": {
      "text/plain": [
       "0     8\n",
       "1    17\n",
       "2    21\n",
       "3    16\n",
       "4    17\n",
       "Name: Time_added, dtype: int64"
      ]
     },
     "execution_count": 24,
     "metadata": {},
     "output_type": "execute_result"
    }
   ],
   "source": [
    "data['Time_added'][0:5].apply(lambda x : x.hour)"
   ]
  },
  {
   "cell_type": "markdown",
   "id": "1815bfba",
   "metadata": {},
   "source": [
    "Giờ chúng ta cùng nhìn đổi time ra tháng nhé. cũng như trên lấy 5 vị trí đầu "
   ]
  },
  {
   "cell_type": "code",
   "execution_count": 26,
   "id": "510261c8",
   "metadata": {},
   "outputs": [
    {
     "data": {
      "text/plain": [
       "0     5\n",
       "1    10\n",
       "2    12\n",
       "3     4\n",
       "4     8\n",
       "Name: Time_added, dtype: int64"
      ]
     },
     "execution_count": 26,
     "metadata": {},
     "output_type": "execute_result"
    }
   ],
   "source": [
    "data['Time_added'][0:5].apply(lambda x : x.month)"
   ]
  },
  {
   "cell_type": "markdown",
   "id": "f4aaadbe",
   "metadata": {},
   "source": [
    "## Visualization  kết quả của mình "
   ]
  },
  {
   "cell_type": "markdown",
   "id": "4b4ccebc",
   "metadata": {},
   "source": [
    "### Visualization kết quả theo giờ "
   ]
  },
  {
   "cell_type": "code",
   "execution_count": 52,
   "id": "b23333e8",
   "metadata": {},
   "outputs": [
    {
     "data": {
      "image/png": "[encoded data removed]",
      "text/plain": [
       "<Figure size 720x432 with 1 Axes>"
      ]
     },
     "metadata": {
      "needs_background": "light"
     },
     "output_type": "display_data"
    }
   ],
   "source": [
    "figsize = (10,6)\n",
    "fig,ax = plt.subplots(figsize=figsize)\n",
    "sns.countplot(x=data[\"Time_added\"].apply(lambda timestamp: timestamp.hour));"
   ]
  },
  {
   "cell_type": "markdown",
   "id": "15c1d862",
   "metadata": {},
   "source": [
    "### Visualization kết quả theo tháng "
   ]
  },
  {
   "cell_type": "code",
   "execution_count": 53,
   "id": "7d8882d4",
   "metadata": {},
   "outputs": [
    {
     "data": {
      "image/png": "[encoded data removed]",
      "text/plain": [
       "<Figure size 720x432 with 1 Axes>"
      ]
     },
     "metadata": {
      "needs_background": "light"
     },
     "output_type": "display_data"
    }
   ],
   "source": [
    "\n",
    "figsize = (10,6)\n",
    "fig,ax = plt.subplots(figsize=figsize)\n",
    "sns.countplot(x=data[\"Time_added\"].apply(lambda timestamp: timestamp.month));\n"
   ]
  },
  {
   "cell_type": "markdown",
   "id": "11d4e4fb",
   "metadata": {},
   "source": [
    "Giờ nhìn list danh sách theo giờ như task nói nhé."
   ]
  },
  {
   "cell_type": "code",
   "execution_count": 55,
   "id": "8f030e71",
   "metadata": {},
   "outputs": [
    {
     "data": {
      "text/plain": [
       "8     220131\n",
       "7     215116\n",
       "17    206668\n",
       "16    202270\n",
       "15    177334\n",
       "18    165854\n",
       "14    154910\n",
       "13    146126\n",
       "6     145923\n",
       "9     142802\n",
       "12    132023\n",
       "11    129295\n",
       "10    128593\n",
       "19    117208\n",
       "20     90481\n",
       "5      82780\n",
       "21     74998\n",
       "22     69785\n",
       "4      60247\n",
       "23     57208\n",
       "0      53242\n",
       "1      49708\n",
       "2      45443\n",
       "3      38465\n",
       "Name: Time_added, dtype: int64"
      ]
     },
     "execution_count": 55,
     "metadata": {},
     "output_type": "execute_result"
    }
   ],
   "source": [
    "data[\"Time_added\"].apply(lambda timestamp: timestamp.hour).value_counts()"
   ]
  },
  {
   "cell_type": "markdown",
   "id": "f82b41b8",
   "metadata": {},
   "source": []
  },
  {
   "cell_type": "code",
   "execution_count": null,
   "id": "522dd591",
   "metadata": {},
   "outputs": [],
   "source": []
  }
 ],
 "metadata": {
  "kernelspec": {
   "display_name": "Python 3",
   "language": "python",
   "name": "python3"
  },
  "language_info": {
   "codemirror_mode": {
    "name": "ipython",
    "version": 3
   },
   "file_extension": ".py",
   "mimetype": "text/x-python",
   "name": "python",
   "nbconvert_exporter": "python",
   "pygments_lexer": "ipython3",
   "version": "3.9.0"
  }
 },
 "nbformat": 4,
 "nbformat_minor": 5
}
