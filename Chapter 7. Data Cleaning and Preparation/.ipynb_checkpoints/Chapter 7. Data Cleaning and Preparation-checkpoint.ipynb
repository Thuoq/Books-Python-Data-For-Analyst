{
 "cells": [
  {
   "cell_type": "markdown",
   "id": "composite-syndrome",
   "metadata": {},
   "source": [
    "Trong chương này, tôi thảo luận về các công cụ cho **dữ liệu bị thiếu**, **dữ liệu trùng lặp**, **thao tác chuỗi** và một số phép biến đổi dữ liệu phân tích khác. Trong chương tiếp theo, tôi tập trung vào việc kết hợp và sắp xếp lại các bộ dữ liệu theo nhiều cách khác nhau ”."
   ]
  },
  {
   "cell_type": "markdown",
   "id": "favorite-bangladesh",
   "metadata": {},
   "source": [
    "## 7.1 Handling Missing Data"
   ]
  },
  {
   "cell_type": "markdown",
   "id": "naughty-transport",
   "metadata": {},
   "source": [
    "“Việc thiếu dữ liệu xảy ra phổ biến trong nhiều ứng dụng phân tích dữ liệu. Một trong những mục tiêu của gấu trúc là làm cho việc xử lý dữ liệu bị thiếu càng dễ dàng càng tốt. Ví dụ: tất cả các thống kê mô tả về đối tượng gấu trúc loại trừ dữ liệu bị thiếu theo mặc định. ”\n",
    "\n",
    "\n",
    "“Cách thể hiện dữ liệu bị thiếu trong các đối tượng gấu trúc có phần không hoàn hảo, nhưng nó hoạt động hiệu quả đối với rất nhiều người dùng. Đối với dữ liệu số, gấu trúc sử dụng giá trị dấu phẩy động **NaN (Không phải số)** để biểu thị dữ liệu bị thiếu. Chúng tôi gọi đây là giá trị sentinel có thể dễ dàng phát hiện: ”"
   ]
  },
  {
   "cell_type": "code",
   "execution_count": 4,
   "id": "vulnerable-place",
   "metadata": {},
   "outputs": [],
   "source": [
    "import pandas as pd\n",
    "import matplotlib.pyplot as plt\n",
    "import numpy as np"
   ]
  },
  {
   "cell_type": "code",
   "execution_count": 5,
   "id": "guilty-trance",
   "metadata": {},
   "outputs": [],
   "source": [
    "string_data = pd.Series([\"addrdvark\",\"artichoke\",np.nan,'avocado'])"
   ]
  },
  {
   "cell_type": "code",
   "execution_count": null,
   "id": "local-vector",
   "metadata": {},
   "outputs": [],
   "source": []
  }
 ],
 "metadata": {
  "kernelspec": {
   "display_name": "Python 3",
   "language": "python",
   "name": "python3"
  },
  "language_info": {
   "codemirror_mode": {
    "name": "ipython",
    "version": 3
   },
   "file_extension": ".py",
   "mimetype": "text/x-python",
   "name": "python",
   "nbconvert_exporter": "python",
   "pygments_lexer": "ipython3",
   "version": "3.9.0"
  }
 },
 "nbformat": 4,
 "nbformat_minor": 5
}
